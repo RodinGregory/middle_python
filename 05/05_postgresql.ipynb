{
 "cells": [
  {
   "attachments": {},
   "cell_type": "markdown",
   "metadata": {},
   "source": [
    "# Используем Python для работы с базой данных PostgreSQL\n",
    "\n",
    "<a target=\"_blank\" href=\"https://colab.research.google.com/github/sozykin/middle_python/blob/main/05/05_postgresql.ipynb\">\n",
    "  <img src=\"https://colab.research.google.com/assets/colab-badge.svg\" alt=\"Open In Colab\"/>\n",
    "</a>"
   ]
  },
  {
   "cell_type": "code",
   "execution_count": null,
   "metadata": {},
   "outputs": [],
   "source": [
    "# Подключаем библиотеку psycopg2\n",
    "import psycopg2"
   ]
  },
  {
   "attachments": {},
   "cell_type": "markdown",
   "metadata": {},
   "source": [
    "## Создаем соединение с базой данных"
   ]
  },
  {
   "cell_type": "code",
   "execution_count": null,
   "metadata": {},
   "outputs": [],
   "source": [
    "connection = psycopg2.connect(\n",
    "    database='postgres', # Название базы данных\n",
    "    user='postgres',     # Имя пользователя\n",
    "    password='1234qwer', # Пароль (не включайте пароли в продуктивный код!!!)\n",
    "    host='localhost',    # Имя хоста сервера PostgreSQL\n",
    "    port=5432,           # Порт, на котором работает сервер PostgreSQL\n",
    ")"
   ]
  },
  {
   "cell_type": "code",
   "execution_count": null,
   "metadata": {},
   "outputs": [],
   "source": [
    "# Создаем курсор\n",
    "cursor = connection.cursor()"
   ]
  },
  {
   "attachments": {},
   "cell_type": "markdown",
   "metadata": {},
   "source": [
    "## Создание таблицы для данных"
   ]
  },
  {
   "cell_type": "code",
   "execution_count": null,
   "metadata": {},
   "outputs": [],
   "source": [
    "# Оператор SQL для создания таблицы\n",
    "create_names_table = \"\"\"\n",
    "CREATE TABLE IF NOT EXISTS names(\n",
    "    id INTEGER,\n",
    "    name TEXT,\n",
    "    number_of_persons INTEGER,\n",
    "    global_id INTEGER,\n",
    "    year INTEGER,\n",
    "    month TEXT \n",
    ")\n",
    "\"\"\"\n",
    "\n",
    "# Запускаем команду создания таблицы\n",
    "cursor.execute(create_names_table)\n",
    "\n",
    "# Фиксируем изменения\n",
    "connection.commit()"
   ]
  },
  {
   "attachments": {},
   "cell_type": "markdown",
   "metadata": {},
   "source": [
    "## Вставка данных в таблицу"
   ]
  },
  {
   "cell_type": "code",
   "execution_count": null,
   "metadata": {},
   "outputs": [],
   "source": [
    "# Оператор SQL для вставки данных в таблицу \n",
    "insert_data = \"\"\"\n",
    "INSERT INTO names (id, name, number_of_persons, global_id, year, month)\n",
    "VALUES (1, 'Мария', 252, 37750254, 2015, 'январь')\n",
    "\"\"\"\n",
    "\n",
    "# Запускаем команду вставки данных\n",
    "cursor.execute(insert_data)\n",
    "\n",
    "# Фиксируем изменения\n",
    "connection.commit()"
   ]
  },
  {
   "attachments": {},
   "cell_type": "markdown",
   "metadata": {},
   "source": [
    "## Запрос данных из таблицы"
   ]
  },
  {
   "cell_type": "code",
   "execution_count": null,
   "metadata": {},
   "outputs": [],
   "source": [
    "# Запрос SQL для извлечения данных из таблицы names\n",
    "select_data = \"SELECT * FROM names\"\n",
    "\n",
    "# Запускаем запрос получения данных\n",
    "cursor.execute(select_data)\n",
    "\n",
    "# Получаем результаты запроса\n",
    "resuls = cursor.fetchall()\n",
    "\n",
    "# Печатаем результаты\n",
    "for row in resuls:\n",
    "    print(row)"
   ]
  },
  {
   "attachments": {},
   "cell_type": "markdown",
   "metadata": {},
   "source": [
    "## Завершение работы"
   ]
  },
  {
   "cell_type": "code",
   "execution_count": null,
   "metadata": {},
   "outputs": [],
   "source": [
    "# Закрываем курсор\n",
    "cursor.close()"
   ]
  },
  {
   "cell_type": "code",
   "execution_count": null,
   "metadata": {},
   "outputs": [],
   "source": [
    "# Закрываем соединение\n",
    "connection.close()"
   ]
  },
  {
   "attachments": {},
   "cell_type": "markdown",
   "metadata": {},
   "source": [
    "## Работа с транзакциями"
   ]
  },
  {
   "cell_type": "code",
   "execution_count": null,
   "metadata": {},
   "outputs": [],
   "source": [
    "connection = psycopg2.connect(\n",
    "    database='postgres', # Название базы данных\n",
    "    user='postgres',     # Имя пользователя\n",
    "    password='1234qwer', # Пароль (не включайте пароли в продуктивный код!!!)\n",
    "    host='localhost',    # Имя хоста сервера PostgreSQL\n",
    "    port=5432,           # Порт, на котором работает сервер PostgreSQL\n",
    ")"
   ]
  },
  {
   "cell_type": "code",
   "execution_count": null,
   "metadata": {},
   "outputs": [],
   "source": [
    "cursor = connection.cursor()"
   ]
  },
  {
   "cell_type": "code",
   "execution_count": null,
   "metadata": {},
   "outputs": [],
   "source": [
    "delete_data = \"DELETE FROM names\" \n",
    "\n",
    "# Запускаем команду удаления данных\n",
    "cursor.execute(delete_data)"
   ]
  },
  {
   "cell_type": "code",
   "execution_count": null,
   "metadata": {},
   "outputs": [],
   "source": [
    "cursor.execute(\"SELECT * FROM names\")"
   ]
  },
  {
   "cell_type": "code",
   "execution_count": null,
   "metadata": {},
   "outputs": [],
   "source": [
    "cursor.fetchall()"
   ]
  },
  {
   "cell_type": "code",
   "execution_count": null,
   "metadata": {},
   "outputs": [],
   "source": [
    "connection.rollback()"
   ]
  },
  {
   "cell_type": "code",
   "execution_count": null,
   "metadata": {},
   "outputs": [],
   "source": [
    "cursor.execute(\"SELECT * FROM names\")\n",
    "cursor.fetchall()"
   ]
  },
  {
   "attachments": {},
   "cell_type": "markdown",
   "metadata": {},
   "source": [
    "Тестируем изоляцию транзакций"
   ]
  },
  {
   "cell_type": "code",
   "execution_count": null,
   "metadata": {},
   "outputs": [],
   "source": [
    "delete_data = \"DELETE FROM names\" \n",
    "\n",
    "# Запускаем команду удаления данных\n",
    "cursor.execute(delete_data)"
   ]
  },
  {
   "cell_type": "code",
   "execution_count": null,
   "metadata": {},
   "outputs": [],
   "source": [
    "cursor.execute(\"SELECT * FROM names\")\n",
    "cursor.fetchall()"
   ]
  },
  {
   "cell_type": "code",
   "execution_count": null,
   "metadata": {},
   "outputs": [],
   "source": [
    "# Оператор SQL для вставки данных в таблицу \n",
    "insert_several_rows = \"\"\"\n",
    "INSERT INTO names (id, name, number_of_persons, global_id, year, month)\n",
    "VALUES (3, 'Анна', 190, 37750256, 2015, 'январь'),\n",
    "       (4, 'Варвара', 190, 37750257, 2015, 'январь'),\n",
    "       (5, 'Виктория', 186, 37750258, 2015, 'январь')\n",
    "\"\"\""
   ]
  },
  {
   "cell_type": "code",
   "execution_count": null,
   "metadata": {},
   "outputs": [],
   "source": [
    "# Запускаем команду вставки данных\n",
    "cursor.execute(insert_several_rows)"
   ]
  },
  {
   "cell_type": "code",
   "execution_count": null,
   "metadata": {},
   "outputs": [],
   "source": [
    "cursor.execute(\"SELECT * FROM names\")\n",
    "cursor.fetchall()"
   ]
  },
  {
   "cell_type": "code",
   "execution_count": null,
   "metadata": {},
   "outputs": [],
   "source": [
    "connection.commit()"
   ]
  },
  {
   "attachments": {},
   "cell_type": "markdown",
   "metadata": {},
   "source": [
    "## Работа с транзакциями через менеджер контекста"
   ]
  },
  {
   "cell_type": "code",
   "execution_count": null,
   "metadata": {},
   "outputs": [],
   "source": [
    "insert_data = \"\"\"\n",
    "INSERT INTO names (id, name, number_of_persons, global_id, year, month)\n",
    "VALUES (2, 'Анастасия', 224, 37750255, 2015, 'январь')\n",
    "\"\"\""
   ]
  },
  {
   "cell_type": "code",
   "execution_count": null,
   "metadata": {},
   "outputs": [],
   "source": [
    "with connection:\n",
    "    with connection.cursor() as cursor:\n",
    "        cursor.execute(insert_data)"
   ]
  },
  {
   "attachments": {},
   "cell_type": "markdown",
   "metadata": {},
   "source": [
    "После блока with транзакция фиксируется (если не было исключений).\n",
    "\n",
    "Соединение при этом не закрывается."
   ]
  },
  {
   "cell_type": "code",
   "execution_count": null,
   "metadata": {},
   "outputs": [],
   "source": [
    "with connection:\n",
    "    with connection.cursor() as cursor:\n",
    "        cursor.execute(\"SELECT * FROM names\")\n",
    "        for row in cursor.fetchall():\n",
    "            print(row)\n"
   ]
  },
  {
   "attachments": {},
   "cell_type": "markdown",
   "metadata": {},
   "source": [
    "## Запросы с параметрами"
   ]
  },
  {
   "cell_type": "code",
   "execution_count": null,
   "metadata": {},
   "outputs": [],
   "source": [
    "insert_several_rows_parameters = \"\"\"\n",
    "INSERT INTO names (id, name, number_of_persons, global_id, year, month)\n",
    "VALUES (%s, %s, %s, %s, %s, %s)\n",
    "\"\"\"  "
   ]
  },
  {
   "cell_type": "code",
   "execution_count": null,
   "metadata": {},
   "outputs": [],
   "source": [
    "# Значения для параметров запроса\n",
    "rows = [\n",
    "    (483, 'Амелия', 8, 62367755, 2015, 'май'),\n",
    "    (484, 'Камила', 8, 62367756, 2015, 'май')\n",
    "]"
   ]
  },
  {
   "cell_type": "code",
   "execution_count": null,
   "metadata": {},
   "outputs": [],
   "source": [
    "with connection:\n",
    "    with connection.cursor() as cursor:\n",
    "        cursor.executemany(insert_several_rows_parameters, rows)\n",
    "        cursor.execute(\"SELECT * FROM names\")\n",
    "        for row in cursor.fetchall():\n",
    "            print(row)"
   ]
  },
  {
   "attachments": {},
   "cell_type": "markdown",
   "metadata": {},
   "source": [
    "Команда с именованными параметрами"
   ]
  },
  {
   "cell_type": "code",
   "execution_count": null,
   "metadata": {},
   "outputs": [],
   "source": [
    "rows = [\n",
    "    {'id': 483, \n",
    "     'name': 'Евангелина', \n",
    "     'number_of_persons': 8, \n",
    "     'global_id': 62367757, \n",
    "     'year': 2015, \n",
    "     'month': 'май'},\n",
    "    {'id': 486, \n",
    "     'name': 'Альбина', \n",
    "     'number_of_persons': 8, \n",
    "     'global_id': 62367758, \n",
    "     'year': 2015, \n",
    "     'month': 'май'}\n",
    "]"
   ]
  },
  {
   "cell_type": "code",
   "execution_count": null,
   "metadata": {},
   "outputs": [],
   "source": [
    "# Подготавливаем запрос с именованными параметрами\n",
    "insert_several_rows_parameters = \"\"\"\n",
    "INSERT INTO names (id, name, number_of_persons, global_id, year, month)\n",
    "VALUES (%(id)s, %(name)s, %(number_of_persons)s, %(global_id)s, %(year)s, %(month)s)\n",
    "\"\"\""
   ]
  },
  {
   "cell_type": "code",
   "execution_count": null,
   "metadata": {},
   "outputs": [],
   "source": [
    "with connection:\n",
    "    with connection.cursor() as cursor:\n",
    "        # Запускаем команду вставки нескольких элементов данных\n",
    "        cursor.executemany(insert_several_rows_parameters, rows)\n",
    "        cursor.execute(\"SELECT * FROM names\")\n",
    "        for row in cursor.fetchall():\n",
    "            print(row)"
   ]
  },
  {
   "attachments": {},
   "cell_type": "markdown",
   "metadata": {},
   "source": [
    "## Расширение psycopg2.extras"
   ]
  },
  {
   "cell_type": "code",
   "execution_count": null,
   "metadata": {},
   "outputs": [],
   "source": [
    "from psycopg2.extras import execute_batch"
   ]
  },
  {
   "cell_type": "code",
   "execution_count": null,
   "metadata": {},
   "outputs": [],
   "source": [
    "insert_several_rows_parameters = \"\"\"\n",
    "INSERT INTO names (id, name, number_of_persons, global_id, year, month)\n",
    "VALUES (%s, %s, %s, %s, %s, %s)\n",
    "\"\"\"  "
   ]
  },
  {
   "cell_type": "code",
   "execution_count": null,
   "metadata": {},
   "outputs": [],
   "source": [
    "# Значения для параметров запроса\n",
    "rows = [\n",
    "    (483, 'Амелия', 8, 62367755, 2015, 'май'),\n",
    "    (484, 'Камила', 8, 62367756, 2015, 'май')\n",
    "]"
   ]
  },
  {
   "cell_type": "code",
   "execution_count": null,
   "metadata": {},
   "outputs": [],
   "source": [
    "with connection:\n",
    "    with connection.cursor() as cursor:\n",
    "        execute_batch(cursor, insert_several_rows_parameters, rows)\n",
    "        cursor.execute(\"SELECT * FROM names\")\n",
    "        for row in cursor.fetchall():\n",
    "            print(row)"
   ]
  },
  {
   "attachments": {},
   "cell_type": "markdown",
   "metadata": {},
   "source": [
    "## Загружаем данные из JSON в PostgreSQL"
   ]
  },
  {
   "cell_type": "code",
   "execution_count": null,
   "metadata": {},
   "outputs": [],
   "source": [
    "import json"
   ]
  },
  {
   "cell_type": "code",
   "execution_count": null,
   "metadata": {},
   "outputs": [],
   "source": [
    "with open(\"names_m.json\", \"r\") as read_file:\n",
    "    data = json.load(read_file)"
   ]
  },
  {
   "cell_type": "code",
   "execution_count": null,
   "metadata": {},
   "outputs": [],
   "source": [
    "data"
   ]
  },
  {
   "cell_type": "code",
   "execution_count": null,
   "metadata": {},
   "outputs": [],
   "source": [
    "len(data)"
   ]
  },
  {
   "cell_type": "code",
   "execution_count": null,
   "metadata": {},
   "outputs": [],
   "source": [
    "# Оператор SQL для создания таблицы\n",
    "create_names_table = \"\"\"\n",
    "CREATE TABLE IF NOT EXISTS names(\n",
    "    id INTEGER,\n",
    "    name TEXT,\n",
    "    number_of_persons INTEGER,\n",
    "    global_id BIGINT,\n",
    "    year INTEGER,\n",
    "    month TEXT \n",
    ")\n",
    "\"\"\""
   ]
  },
  {
   "cell_type": "code",
   "execution_count": null,
   "metadata": {},
   "outputs": [],
   "source": [
    "# Подготавливаем запрос с именованными параметрами\n",
    "insert_several_rows_parameters = \"\"\"\n",
    "INSERT INTO names (id, name, number_of_persons, global_id, year, month)\n",
    "VALUES (%(ID)s, %(Name)s, %(NumberOfPersons)s, %(global_id)s, %(Year)s, %(Month)s)\n",
    "\"\"\""
   ]
  },
  {
   "cell_type": "code",
   "execution_count": null,
   "metadata": {},
   "outputs": [],
   "source": [
    "with connection:\n",
    "    with connection.cursor() as cursor:\n",
    "        # Удаляем таблицу\n",
    "        cursor.execute(\"DROP TABLE IF EXISTS names\")\n",
    "        # Запускаем команду создания таблицы\n",
    "        cursor.execute(create_names_table)"
   ]
  },
  {
   "cell_type": "code",
   "execution_count": null,
   "metadata": {},
   "outputs": [],
   "source": [
    "with connection:\n",
    "    with connection.cursor() as cursor:\n",
    "        # Вставляем данные в таблицу\n",
    "        execute_batch(cursor, insert_several_rows_parameters, data)"
   ]
  },
  {
   "attachments": {},
   "cell_type": "markdown",
   "metadata": {},
   "source": [
    "## Серверные курсоры"
   ]
  },
  {
   "cell_type": "code",
   "execution_count": null,
   "metadata": {},
   "outputs": [],
   "source": [
    "with connection:\n",
    "    with connection.cursor(name='select_names') as cursor:\n",
    "        # Количество строк данных, получаемых за один раз\n",
    "        cursor.itersize = 10\n",
    "        cursor.execute(\"SELECT * FROM names\")\n",
    "        for row in cursor:\n",
    "            print(row)"
   ]
  }
 ],
 "metadata": {
  "kernelspec": {
   "display_name": ".venv",
   "language": "python",
   "name": "python3"
  },
  "language_info": {
   "codemirror_mode": {
    "name": "ipython",
    "version": 3
   },
   "file_extension": ".py",
   "mimetype": "text/x-python",
   "name": "python",
   "nbconvert_exporter": "python",
   "pygments_lexer": "ipython3",
   "version": "3.11.1"
  },
  "orig_nbformat": 4
 },
 "nbformat": 4,
 "nbformat_minor": 2
}
