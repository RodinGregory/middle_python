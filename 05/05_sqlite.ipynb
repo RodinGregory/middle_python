{
 "cells": [
  {
   "attachments": {},
   "cell_type": "markdown",
   "metadata": {},
   "source": [
    "# Используем Python для работы с базой данных SQLite\n",
    "\n",
    "<a target=\"_blank\" href=\"https://colab.research.google.com/github/sozykin/middle_python/blob/main/04/04_pandas.ipynb\">\n",
    "  <img src=\"https://colab.research.google.com/assets/colab-badge.svg\" alt=\"Open In Colab\"/>\n",
    "</a>"
   ]
  },
  {
   "cell_type": "code",
   "execution_count": 1,
   "metadata": {},
   "outputs": [],
   "source": [
    "import sqlite3"
   ]
  },
  {
   "attachments": {},
   "cell_type": "markdown",
   "metadata": {},
   "source": [
    "## Установка соединения"
   ]
  },
  {
   "cell_type": "code",
   "execution_count": 90,
   "metadata": {},
   "outputs": [],
   "source": [
    "# Создание базы данных в файле test.db \n",
    "connection = sqlite3.connect('test.db')"
   ]
  },
  {
   "cell_type": "code",
   "execution_count": 99,
   "metadata": {},
   "outputs": [],
   "source": [
    "# Создаем курсор\n",
    "cursor = connection.cursor()"
   ]
  },
  {
   "attachments": {},
   "cell_type": "markdown",
   "metadata": {},
   "source": [
    "## Создание таблицы для данных"
   ]
  },
  {
   "cell_type": "code",
   "execution_count": 33,
   "metadata": {},
   "outputs": [],
   "source": [
    "# Оператор SQL для создания таблицы\n",
    "create_names_table = \"\"\"\n",
    "CREATE TABLE IF NOT EXISTS names(\n",
    "    id INTEGER,\n",
    "    name TEXT,\n",
    "    number_of_persons INTEGER,\n",
    "    global_id INTEGER,\n",
    "    year INTEGER,\n",
    "    month TEXT \n",
    ")\n",
    "\"\"\"\n",
    "\n",
    "# Запускаем команду создания таблицы\n",
    "cursor.execute(create_names_table)\n",
    "\n",
    "# Фиксируем изменения\n",
    "connection.commit()"
   ]
  },
  {
   "attachments": {},
   "cell_type": "markdown",
   "metadata": {},
   "source": [
    "## Вставка данных в таблицу"
   ]
  },
  {
   "cell_type": "code",
   "execution_count": 35,
   "metadata": {},
   "outputs": [],
   "source": [
    "# Оператор SQL для вставки данных в таблицу \n",
    "insert_data = \"\"\"\n",
    "INSERT INTO names (id, name, number_of_persons, global_id, year, month)\n",
    "VALUES (1, 'Мария', 252, 37750254, 2015, 'январь')\n",
    "\"\"\"\n",
    "\n",
    "# Запускаем команду вставки данных\n",
    "cursor.execute(insert_data)\n",
    "\n",
    "# Фиксируем изменения\n",
    "connection.commit()"
   ]
  },
  {
   "attachments": {},
   "cell_type": "markdown",
   "metadata": {},
   "source": [
    "## Запрос данных из таблицы"
   ]
  },
  {
   "cell_type": "code",
   "execution_count": 7,
   "metadata": {},
   "outputs": [
    {
     "name": "stdout",
     "output_type": "stream",
     "text": [
      "(1, 'Мария', 252, 37750254, 2015, 'январь')\n",
      "(2, 'Анастасия', 224, 37750255, 2015, 'январь')\n",
      "(1, 'Мария', 252, 37750254, 2015, 'январь')\n"
     ]
    }
   ],
   "source": [
    "# Запрос SQL для извлечения данных из таблицы names\n",
    "select_data = \"SELECT * FROM names\"\n",
    "\n",
    "# Запускаем запрос получения данных\n",
    "cursor.execute(select_data)\n",
    "\n",
    "# Получаем результаты запроса\n",
    "resuls = cursor.fetchall()\n",
    "\n",
    "# Печатаем результаты\n",
    "for row in resuls:\n",
    "    print(row)"
   ]
  },
  {
   "attachments": {},
   "cell_type": "markdown",
   "metadata": {},
   "source": [
    "## Завершение работы"
   ]
  },
  {
   "cell_type": "code",
   "execution_count": 8,
   "metadata": {},
   "outputs": [],
   "source": [
    "# Закрываем курсор\n",
    "cursor.close()"
   ]
  },
  {
   "cell_type": "code",
   "execution_count": 82,
   "metadata": {},
   "outputs": [],
   "source": [
    "# Закрываем соединение\n",
    "connection.close()"
   ]
  },
  {
   "attachments": {},
   "cell_type": "markdown",
   "metadata": {},
   "source": [
    "## Изменение данных в таблице"
   ]
  },
  {
   "cell_type": "code",
   "execution_count": 10,
   "metadata": {},
   "outputs": [],
   "source": [
    "# Создание соединения\n",
    "connection = sqlite3.connect('test.db')"
   ]
  },
  {
   "cell_type": "code",
   "execution_count": 92,
   "metadata": {},
   "outputs": [],
   "source": [
    "# Создание курсора\n",
    "cursor = connection.cursor()"
   ]
  },
  {
   "attachments": {},
   "cell_type": "markdown",
   "metadata": {},
   "source": [
    "Читаем данные из таблицы"
   ]
  },
  {
   "cell_type": "code",
   "execution_count": 93,
   "metadata": {},
   "outputs": [],
   "source": [
    "def get_data(cursor, table):\n",
    "    sql = f\"SELECT * FROM {table}\"\n",
    "    cursor.execute(sql)\n",
    "    return cursor.fetchall()"
   ]
  },
  {
   "cell_type": "code",
   "execution_count": 94,
   "metadata": {},
   "outputs": [
    {
     "data": {
      "text/plain": [
       "[(1, 'Мария', 252, 37750254, 2015, 'январь')]"
      ]
     },
     "execution_count": 94,
     "metadata": {},
     "output_type": "execute_result"
    }
   ],
   "source": [
    "get_data(cursor, 'names')"
   ]
  },
  {
   "attachments": {},
   "cell_type": "markdown",
   "metadata": {},
   "source": [
    "Добавляем строку в таблицу"
   ]
  },
  {
   "cell_type": "code",
   "execution_count": 15,
   "metadata": {},
   "outputs": [],
   "source": [
    "# Оператор SQL для вставки данных в таблицу \n",
    "insert_data = \"\"\"\n",
    "INSERT INTO names (id, name, number_of_persons, global_id, year, month)\n",
    "VALUES (2, 'Анастасия', 224, 37750255, 2015, 'январь')\n",
    "\"\"\"\n",
    "\n",
    "# Запускаем команду вставки данных\n",
    "cursor.execute(insert_data)\n",
    "\n",
    "# Фиксируем изменения\n",
    "connection.commit()"
   ]
  },
  {
   "cell_type": "code",
   "execution_count": 16,
   "metadata": {},
   "outputs": [
    {
     "data": {
      "text/plain": [
       "[(1, 'Мария', 252, 37750254, 2015, 'январь'),\n",
       " (2, 'Анастасия', 224, 37750255, 2015, 'январь'),\n",
       " (1, 'Мария', 252, 37750254, 2015, 'январь'),\n",
       " (2, 'Анастасия', 224, 37750255, 2015, 'январь'),\n",
       " (2, 'Анастасия', 224, 37750255, 2015, 'январь')]"
      ]
     },
     "execution_count": 16,
     "metadata": {},
     "output_type": "execute_result"
    }
   ],
   "source": [
    "get_data(cursor, 'names')"
   ]
  },
  {
   "attachments": {},
   "cell_type": "markdown",
   "metadata": {},
   "source": [
    "Изменяем данные в таблице"
   ]
  },
  {
   "cell_type": "code",
   "execution_count": 17,
   "metadata": {},
   "outputs": [],
   "source": [
    "update_data = \"\"\"\n",
    "UPDATE names SET number_of_persons = 250\n",
    "WHERE id = 2\n",
    "\"\"\"\n",
    "\n",
    "# Запускаем команду вставки данных\n",
    "cursor.execute(update_data)\n",
    "\n",
    "# Фиксируем изменения\n",
    "connection.commit()"
   ]
  },
  {
   "cell_type": "code",
   "execution_count": 18,
   "metadata": {},
   "outputs": [
    {
     "data": {
      "text/plain": [
       "[(1, 'Мария', 252, 37750254, 2015, 'январь'),\n",
       " (2, 'Анастасия', 250, 37750255, 2015, 'январь'),\n",
       " (1, 'Мария', 252, 37750254, 2015, 'январь'),\n",
       " (2, 'Анастасия', 250, 37750255, 2015, 'январь'),\n",
       " (2, 'Анастасия', 250, 37750255, 2015, 'январь')]"
      ]
     },
     "execution_count": 18,
     "metadata": {},
     "output_type": "execute_result"
    }
   ],
   "source": [
    "get_data(cursor, 'names')"
   ]
  },
  {
   "attachments": {},
   "cell_type": "markdown",
   "metadata": {},
   "source": [
    "Изменяем несколько строк"
   ]
  },
  {
   "cell_type": "code",
   "execution_count": 19,
   "metadata": {},
   "outputs": [],
   "source": [
    "update_data = \"\"\"\n",
    "UPDATE names SET number_of_persons = 255\n",
    "WHERE name = 'Мария'\n",
    "\"\"\"\n",
    "\n",
    "# Запускаем команду изменения данных\n",
    "cursor.execute(update_data)\n",
    "\n",
    "# Фиксируем изменения\n",
    "connection.commit()"
   ]
  },
  {
   "cell_type": "code",
   "execution_count": 20,
   "metadata": {},
   "outputs": [
    {
     "data": {
      "text/plain": [
       "[(1, 'Мария', 255, 37750254, 2015, 'январь'),\n",
       " (2, 'Анастасия', 250, 37750255, 2015, 'январь'),\n",
       " (1, 'Мария', 255, 37750254, 2015, 'январь'),\n",
       " (2, 'Анастасия', 250, 37750255, 2015, 'январь'),\n",
       " (2, 'Анастасия', 250, 37750255, 2015, 'январь')]"
      ]
     },
     "execution_count": 20,
     "metadata": {},
     "output_type": "execute_result"
    }
   ],
   "source": [
    "get_data(cursor, 'names')"
   ]
  },
  {
   "attachments": {},
   "cell_type": "markdown",
   "metadata": {},
   "source": [
    "Удаляем данные"
   ]
  },
  {
   "cell_type": "code",
   "execution_count": 21,
   "metadata": {},
   "outputs": [],
   "source": [
    "delete_data = \"\"\"\n",
    "DELETE FROM names \n",
    "WHERE name = 'Мария'\n",
    "\"\"\"\n",
    "\n",
    "# Запускаем команду удаления данных\n",
    "cursor.execute(delete_data)\n",
    "\n",
    "# Фиксируем изменения\n",
    "connection.commit()"
   ]
  },
  {
   "cell_type": "code",
   "execution_count": 22,
   "metadata": {},
   "outputs": [
    {
     "data": {
      "text/plain": [
       "[(2, 'Анастасия', 250, 37750255, 2015, 'январь'),\n",
       " (2, 'Анастасия', 250, 37750255, 2015, 'январь'),\n",
       " (2, 'Анастасия', 250, 37750255, 2015, 'январь')]"
      ]
     },
     "execution_count": 22,
     "metadata": {},
     "output_type": "execute_result"
    }
   ],
   "source": [
    "get_data(cursor, 'names')"
   ]
  },
  {
   "attachments": {},
   "cell_type": "markdown",
   "metadata": {},
   "source": [
    "## Работа с транзакциями"
   ]
  },
  {
   "cell_type": "code",
   "execution_count": 23,
   "metadata": {},
   "outputs": [
    {
     "data": {
      "text/plain": [
       "<sqlite3.Cursor at 0x2b9d1fb6440>"
      ]
     },
     "execution_count": 23,
     "metadata": {},
     "output_type": "execute_result"
    }
   ],
   "source": [
    "delete_data = \"DELETE FROM names\" \n",
    "\n",
    "# Запускаем команду удаления данных\n",
    "cursor.execute(delete_data)"
   ]
  },
  {
   "cell_type": "code",
   "execution_count": 24,
   "metadata": {},
   "outputs": [
    {
     "data": {
      "text/plain": [
       "[]"
      ]
     },
     "execution_count": 24,
     "metadata": {},
     "output_type": "execute_result"
    }
   ],
   "source": [
    "get_data(cursor, 'names')"
   ]
  },
  {
   "cell_type": "code",
   "execution_count": 25,
   "metadata": {},
   "outputs": [],
   "source": [
    "# Отменяем транзакцию\n",
    "connection.rollback()"
   ]
  },
  {
   "cell_type": "code",
   "execution_count": 26,
   "metadata": {},
   "outputs": [
    {
     "data": {
      "text/plain": [
       "[(2, 'Анастасия', 250, 37750255, 2015, 'январь'),\n",
       " (2, 'Анастасия', 250, 37750255, 2015, 'январь'),\n",
       " (2, 'Анастасия', 250, 37750255, 2015, 'январь')]"
      ]
     },
     "execution_count": 26,
     "metadata": {},
     "output_type": "execute_result"
    }
   ],
   "source": [
    "get_data(cursor, 'names')"
   ]
  },
  {
   "attachments": {},
   "cell_type": "markdown",
   "metadata": {},
   "source": [
    "## Безопасность: SQL инъекции"
   ]
  },
  {
   "cell_type": "code",
   "execution_count": 27,
   "metadata": {},
   "outputs": [],
   "source": [
    "def get_data2(cursor, table):\n",
    "    sql = f\"SELECT * FROM {table}\"\n",
    "    cursor.executescript(sql)\n",
    "    return cursor.fetchall()"
   ]
  },
  {
   "cell_type": "code",
   "execution_count": 28,
   "metadata": {},
   "outputs": [
    {
     "data": {
      "text/plain": [
       "[]"
      ]
     },
     "execution_count": 28,
     "metadata": {},
     "output_type": "execute_result"
    }
   ],
   "source": [
    "# SQL инъекция - удаление таблицы\n",
    "get_data2(cursor, 'names; DROP TABLE names;')"
   ]
  },
  {
   "attachments": {},
   "cell_type": "markdown",
   "metadata": {},
   "source": [
    "Получаем список таблиц в базе SQLite"
   ]
  },
  {
   "cell_type": "code",
   "execution_count": 29,
   "metadata": {},
   "outputs": [
    {
     "data": {
      "text/plain": [
       "[]"
      ]
     },
     "execution_count": 29,
     "metadata": {},
     "output_type": "execute_result"
    }
   ],
   "source": [
    "list_tables = \"\"\"\n",
    "SELECT\n",
    "    name\n",
    "FROM\n",
    "    sqlite_master\n",
    "WHERE\n",
    "    type ='table' AND\n",
    "    name NOT LIKE 'sqlite_%'\n",
    "\"\"\"\n",
    "\n",
    "cursor.execute(list_tables)\n",
    "\n",
    "cursor.fetchall()"
   ]
  },
  {
   "cell_type": "code",
   "execution_count": 36,
   "metadata": {},
   "outputs": [
    {
     "data": {
      "text/plain": [
       "[(1, 'Мария', 252, 37750254, 2015, 'январь'),\n",
       " (1, 'Мария', 252, 37750254, 2015, 'январь')]"
      ]
     },
     "execution_count": 36,
     "metadata": {},
     "output_type": "execute_result"
    }
   ],
   "source": [
    "get_data(cursor, 'names')"
   ]
  },
  {
   "attachments": {},
   "cell_type": "markdown",
   "metadata": {},
   "source": [
    "## Связывание значений (bind values)"
   ]
  },
  {
   "cell_type": "code",
   "execution_count": 37,
   "metadata": {},
   "outputs": [],
   "source": [
    "# Запрос с параметром\n",
    "sql = \"SELECT * FROM names WHERE name = ?\""
   ]
  },
  {
   "cell_type": "code",
   "execution_count": 38,
   "metadata": {},
   "outputs": [
    {
     "data": {
      "text/plain": [
       "[(1, 'Мария', 252, 37750254, 2015, 'январь'),\n",
       " (1, 'Мария', 252, 37750254, 2015, 'январь')]"
      ]
     },
     "execution_count": 38,
     "metadata": {},
     "output_type": "execute_result"
    }
   ],
   "source": [
    "cursor.execute(sql, ['Мария'])\n",
    "\n",
    "cursor.fetchall()"
   ]
  },
  {
   "cell_type": "code",
   "execution_count": 39,
   "metadata": {},
   "outputs": [
    {
     "data": {
      "text/plain": [
       "[]"
      ]
     },
     "execution_count": 39,
     "metadata": {},
     "output_type": "execute_result"
    }
   ],
   "source": [
    "cursor.execute(sql, ['Анастасия'])\n",
    "\n",
    "cursor.fetchall()"
   ]
  },
  {
   "attachments": {},
   "cell_type": "markdown",
   "metadata": {},
   "source": [
    "## Вставка нескольких строк в таблицу"
   ]
  },
  {
   "cell_type": "code",
   "execution_count": 44,
   "metadata": {},
   "outputs": [],
   "source": [
    "# Оператор SQL для вставки данных в таблицу \n",
    "insert_several_rows = \"\"\"\n",
    "INSERT INTO names (id, name, number_of_persons, global_id, year, month)\n",
    "VALUES (3, 'Анна', 190, 37750256, 2015, 'январь'),\n",
    "       (4, 'Варвара', 190, 37750257, 2015, 'январь'),\n",
    "       (5, 'Виктория', 186, 37750258, 2015, 'январь')\n",
    "\"\"\"\n"
   ]
  },
  {
   "cell_type": "code",
   "execution_count": 45,
   "metadata": {},
   "outputs": [],
   "source": [
    "# Запускаем команду вставки данных\n",
    "cursor.execute(insert_several_rows)\n",
    "\n",
    "# Фиксируем изменения\n",
    "connection.commit()"
   ]
  },
  {
   "cell_type": "code",
   "execution_count": 46,
   "metadata": {},
   "outputs": [
    {
     "data": {
      "text/plain": [
       "[(1, 'Мария', 252, 37750254, 2015, 'январь'),\n",
       " (1, 'Мария', 252, 37750254, 2015, 'январь'),\n",
       " (3, 'Анна', 190, 37750256, 2015, 'январь'),\n",
       " (4, 'Варвара', 190, 37750257, 2015, 'январь'),\n",
       " (5, 'Виктория', 186, 37750258, 2015, 'январь')]"
      ]
     },
     "execution_count": 46,
     "metadata": {},
     "output_type": "execute_result"
    }
   ],
   "source": [
    "get_data(cursor, 'names')"
   ]
  },
  {
   "attachments": {},
   "cell_type": "markdown",
   "metadata": {},
   "source": [
    "Связывание переменных"
   ]
  },
  {
   "cell_type": "code",
   "execution_count": 55,
   "metadata": {},
   "outputs": [],
   "source": [
    "# Подготавливаем запрос с параметрами\n",
    "insert_several_rows_parameters = \"\"\"\n",
    "INSERT INTO names (id, name, number_of_persons, global_id, year, month)\n",
    "VALUES (?, ?, ?, ?, ?, ?)\n",
    "\"\"\""
   ]
  },
  {
   "cell_type": "code",
   "execution_count": 58,
   "metadata": {},
   "outputs": [],
   "source": [
    "# Значения для параметров запроса\n",
    "rows = [\n",
    "    (483, 'Амелия', 8, 62367755, 2015, 'май'),\n",
    "    (484, 'Камила', 8, 62367756, 2015, 'май')\n",
    "]"
   ]
  },
  {
   "cell_type": "code",
   "execution_count": 59,
   "metadata": {},
   "outputs": [],
   "source": [
    "# Запускаем команду вставки нескольких элементов данных\n",
    "cursor.executemany(insert_several_rows_parameters, rows)\n",
    "\n",
    "# Фиксируем изменения\n",
    "connection.commit()"
   ]
  },
  {
   "cell_type": "code",
   "execution_count": 60,
   "metadata": {},
   "outputs": [
    {
     "data": {
      "text/plain": [
       "[(1, 'Мария', 252, 37750254, 2015, 'январь'),\n",
       " (1, 'Мария', 252, 37750254, 2015, 'январь'),\n",
       " (3, 'Анна', 190, 37750256, 2015, 'январь'),\n",
       " (4, 'Варвара', 190, 37750257, 2015, 'январь'),\n",
       " (5, 'Виктория', 186, 37750258, 2015, 'январь'),\n",
       " (483, 'Амелия', 8, 62367755, 2015, 'май'),\n",
       " (484, 'Камила', 8, 62367756, 2015, 'май'),\n",
       " (483, 'Амелия', 8, 62367755, 2015, 'май'),\n",
       " (484, 'Камила', 8, 62367756, 2015, 'май')]"
      ]
     },
     "execution_count": 60,
     "metadata": {},
     "output_type": "execute_result"
    }
   ],
   "source": [
    "get_data(cursor, 'names')"
   ]
  },
  {
   "attachments": {},
   "cell_type": "markdown",
   "metadata": {},
   "source": [
    "Связывание переменных через словарь"
   ]
  },
  {
   "cell_type": "code",
   "execution_count": 61,
   "metadata": {},
   "outputs": [],
   "source": [
    "rows = [\n",
    "    {'id': 483, \n",
    "     'name': 'Евангелина', \n",
    "     'number_of_persons': 8, \n",
    "     'global_id': 62367757, \n",
    "     'year': 2015, \n",
    "     'month': 'май'},\n",
    "    {'id': 486, \n",
    "     'name': 'Альбина', \n",
    "     'number_of_persons': 8, \n",
    "     'global_id': 62367758, \n",
    "     'year': 2015, \n",
    "     'month': 'май'}\n",
    "]"
   ]
  },
  {
   "cell_type": "code",
   "execution_count": 62,
   "metadata": {},
   "outputs": [],
   "source": [
    "# Подготавливаем запрос с именованными параметрами\n",
    "insert_several_rows_parameters = \"\"\"\n",
    "INSERT INTO names (id, name, number_of_persons, global_id, year, month)\n",
    "VALUES (:id, :name, :number_of_persons, :global_id, :year, :month)\n",
    "\"\"\""
   ]
  },
  {
   "cell_type": "code",
   "execution_count": 63,
   "metadata": {},
   "outputs": [],
   "source": [
    "# Запускаем команду вставки нескольких элементов данных\n",
    "cursor.executemany(insert_several_rows_parameters, rows)\n",
    "\n",
    "# Фиксируем изменения\n",
    "connection.commit()"
   ]
  },
  {
   "cell_type": "code",
   "execution_count": 64,
   "metadata": {},
   "outputs": [
    {
     "data": {
      "text/plain": [
       "[(1, 'Мария', 252, 37750254, 2015, 'январь'),\n",
       " (1, 'Мария', 252, 37750254, 2015, 'январь'),\n",
       " (3, 'Анна', 190, 37750256, 2015, 'январь'),\n",
       " (4, 'Варвара', 190, 37750257, 2015, 'январь'),\n",
       " (5, 'Виктория', 186, 37750258, 2015, 'январь'),\n",
       " (483, 'Амелия', 8, 62367755, 2015, 'май'),\n",
       " (484, 'Камила', 8, 62367756, 2015, 'май'),\n",
       " (483, 'Амелия', 8, 62367755, 2015, 'май'),\n",
       " (484, 'Камила', 8, 62367756, 2015, 'май'),\n",
       " (483, 'Евангелина', 8, 62367757, 2015, 'май'),\n",
       " (486, 'Альбина', 8, 62367758, 2015, 'май')]"
      ]
     },
     "execution_count": 64,
     "metadata": {},
     "output_type": "execute_result"
    }
   ],
   "source": [
    "get_data(cursor, 'names')"
   ]
  },
  {
   "attachments": {},
   "cell_type": "markdown",
   "metadata": {},
   "source": [
    "## Ограничения целостности"
   ]
  },
  {
   "cell_type": "code",
   "execution_count": 65,
   "metadata": {},
   "outputs": [],
   "source": [
    "# Удаляем таблицу names\n",
    "cursor.execute(\"DROP TABLE names\")\n",
    "\n",
    "# Фиксируем изменения\n",
    "connection.commit()"
   ]
  },
  {
   "cell_type": "code",
   "execution_count": 66,
   "metadata": {},
   "outputs": [],
   "source": [
    "# Оператор SQL для создания таблицы\n",
    "create_names_table = \"\"\"\n",
    "CREATE TABLE IF NOT EXISTS names(\n",
    "    id INTEGER,\n",
    "    name TEXT,\n",
    "    number_of_persons INTEGER,\n",
    "    global_id INTEGER PRIMARY KEY,\n",
    "    year INTEGER,\n",
    "    month TEXT \n",
    ")\n",
    "\"\"\"\n",
    "\n",
    "# Запускаем команду создания таблицы\n",
    "cursor.execute(create_names_table)\n",
    "\n",
    "# Фиксируем изменения\n",
    "connection.commit()"
   ]
  },
  {
   "cell_type": "code",
   "execution_count": 69,
   "metadata": {},
   "outputs": [
    {
     "ename": "IntegrityError",
     "evalue": "UNIQUE constraint failed: names.global_id",
     "output_type": "error",
     "traceback": [
      "\u001b[1;31m---------------------------------------------------------------------------\u001b[0m",
      "\u001b[1;31mIntegrityError\u001b[0m                            Traceback (most recent call last)",
      "Cell \u001b[1;32mIn[69], line 8\u001b[0m\n\u001b[0;32m      2\u001b[0m insert_data \u001b[39m=\u001b[39m \u001b[39m\"\"\"\u001b[39m\n\u001b[0;32m      3\u001b[0m \u001b[39mINSERT INTO names (id, name, number_of_persons, global_id, year, month)\u001b[39m\n\u001b[0;32m      4\u001b[0m \u001b[39mVALUES (1, \u001b[39m\u001b[39m'\u001b[39m\u001b[39mМария\u001b[39m\u001b[39m'\u001b[39m\u001b[39m, 252, 37750254, 2015, \u001b[39m\u001b[39m'\u001b[39m\u001b[39mянварь\u001b[39m\u001b[39m'\u001b[39m\u001b[39m)\u001b[39m\n\u001b[0;32m      5\u001b[0m \u001b[39m\"\"\"\u001b[39m\n\u001b[0;32m      7\u001b[0m \u001b[39m# Запускаем команду вставки данных\u001b[39;00m\n\u001b[1;32m----> 8\u001b[0m cursor\u001b[39m.\u001b[39;49mexecute(insert_data)\n\u001b[0;32m     10\u001b[0m \u001b[39m# Фиксируем изменения\u001b[39;00m\n\u001b[0;32m     11\u001b[0m connection\u001b[39m.\u001b[39mcommit()\n",
      "\u001b[1;31mIntegrityError\u001b[0m: UNIQUE constraint failed: names.global_id"
     ]
    }
   ],
   "source": [
    "# Оператор SQL для вставки данных в таблицу \n",
    "insert_data = \"\"\"\n",
    "INSERT INTO names (id, name, number_of_persons, global_id, year, month)\n",
    "VALUES (1, 'Мария', 252, 37750254, 2015, 'январь')\n",
    "\"\"\"\n",
    "\n",
    "# Запускаем команду вставки данных\n",
    "cursor.execute(insert_data)\n",
    "\n",
    "# Фиксируем изменения\n",
    "connection.commit()"
   ]
  },
  {
   "cell_type": "code",
   "execution_count": 100,
   "metadata": {},
   "outputs": [
    {
     "data": {
      "text/plain": [
       "[(1, 'Мария', 252, 37750254, 2015, 'январь')]"
      ]
     },
     "execution_count": 100,
     "metadata": {},
     "output_type": "execute_result"
    }
   ],
   "source": [
    "get_data(cursor, 'names')"
   ]
  },
  {
   "attachments": {},
   "cell_type": "markdown",
   "metadata": {},
   "source": [
    "## Исключения"
   ]
  },
  {
   "cell_type": "code",
   "execution_count": 70,
   "metadata": {},
   "outputs": [
    {
     "ename": "OperationalError",
     "evalue": "no such table: table1",
     "output_type": "error",
     "traceback": [
      "\u001b[1;31m---------------------------------------------------------------------------\u001b[0m",
      "\u001b[1;31mOperationalError\u001b[0m                          Traceback (most recent call last)",
      "Cell \u001b[1;32mIn[70], line 1\u001b[0m\n\u001b[1;32m----> 1\u001b[0m cursor\u001b[39m.\u001b[39;49mexecute(\u001b[39m\"\u001b[39;49m\u001b[39mSELECT * FROM table1\u001b[39;49m\u001b[39m\"\u001b[39;49m)\n",
      "\u001b[1;31mOperationalError\u001b[0m: no such table: table1"
     ]
    }
   ],
   "source": [
    "cursor.execute(\"SELECT * FROM table1\")"
   ]
  },
  {
   "cell_type": "code",
   "execution_count": 71,
   "metadata": {},
   "outputs": [
    {
     "ename": "OperationalError",
     "evalue": "no such table: table1",
     "output_type": "error",
     "traceback": [
      "\u001b[1;31m---------------------------------------------------------------------------\u001b[0m",
      "\u001b[1;31mOperationalError\u001b[0m                          Traceback (most recent call last)",
      "Cell \u001b[1;32mIn[71], line 1\u001b[0m\n\u001b[1;32m----> 1\u001b[0m cursor\u001b[39m.\u001b[39;49mexecute(\u001b[39m\"\u001b[39;49m\u001b[39mDROP TABLE table1\u001b[39;49m\u001b[39m\"\u001b[39;49m)\n",
      "\u001b[1;31mOperationalError\u001b[0m: no such table: table1"
     ]
    }
   ],
   "source": [
    "cursor.execute(\"DROP TABLE table1\")"
   ]
  },
  {
   "cell_type": "code",
   "execution_count": 72,
   "metadata": {},
   "outputs": [
    {
     "ename": "OperationalError",
     "evalue": "no such column: first_name",
     "output_type": "error",
     "traceback": [
      "\u001b[1;31m---------------------------------------------------------------------------\u001b[0m",
      "\u001b[1;31mOperationalError\u001b[0m                          Traceback (most recent call last)",
      "Cell \u001b[1;32mIn[72], line 1\u001b[0m\n\u001b[1;32m----> 1\u001b[0m cursor\u001b[39m.\u001b[39;49mexecute(\u001b[39m\"\u001b[39;49m\u001b[39mSELECT first_name, last_name FROM names\u001b[39;49m\u001b[39m\"\u001b[39;49m)\n",
      "\u001b[1;31mOperationalError\u001b[0m: no such column: first_name"
     ]
    }
   ],
   "source": [
    "cursor.execute(\"SELECT first_name, last_name FROM names\")"
   ]
  },
  {
   "cell_type": "code",
   "execution_count": 73,
   "metadata": {},
   "outputs": [
    {
     "ename": "OperationalError",
     "evalue": "unable to open database file",
     "output_type": "error",
     "traceback": [
      "\u001b[1;31m---------------------------------------------------------------------------\u001b[0m",
      "\u001b[1;31mOperationalError\u001b[0m                          Traceback (most recent call last)",
      "Cell \u001b[1;32mIn[73], line 1\u001b[0m\n\u001b[1;32m----> 1\u001b[0m connection \u001b[39m=\u001b[39m sqlite3\u001b[39m.\u001b[39;49mconnect(\u001b[39m'\u001b[39;49m\u001b[39md:\u001b[39;49m\u001b[39m\\\\\u001b[39;49;00m\u001b[39mnew_test.db\u001b[39;49m\u001b[39m'\u001b[39;49m)\n",
      "\u001b[1;31mOperationalError\u001b[0m: unable to open database file"
     ]
    }
   ],
   "source": [
    "connection = sqlite3.connect('d:\\\\new_test.db')"
   ]
  },
  {
   "attachments": {},
   "cell_type": "markdown",
   "metadata": {},
   "source": [
    "Обработка исключений"
   ]
  },
  {
   "cell_type": "code",
   "execution_count": 74,
   "metadata": {},
   "outputs": [],
   "source": [
    "from sqlite3 import Error"
   ]
  },
  {
   "cell_type": "code",
   "execution_count": 75,
   "metadata": {},
   "outputs": [
    {
     "name": "stdout",
     "output_type": "stream",
     "text": [
      "Ошибка при выполнении запроса: UNIQUE constraint failed: names.global_id\n"
     ]
    }
   ],
   "source": [
    "# Оператор SQL для вставки данных в таблицу \n",
    "insert_data = \"\"\"\n",
    "INSERT INTO names (id, name, number_of_persons, global_id, year, month)\n",
    "VALUES (1, 'Мария', 252, 37750254, 2015, 'январь')\n",
    "\"\"\"\n",
    "\n",
    "try:\n",
    "    # Запускаем команду вставки данных\n",
    "    cursor.execute(insert_data)\n",
    "    # Фиксируем изменения\n",
    "    connection.commit()\n",
    "    print(\"Запрос выполнен успешно\")\n",
    "except Error as e:\n",
    "    print(f\"Ошибка при выполнении запроса: {e}\")\n"
   ]
  },
  {
   "attachments": {},
   "cell_type": "markdown",
   "metadata": {},
   "source": [
    "## Загрузка данных в базу из JSON файла"
   ]
  },
  {
   "cell_type": "code",
   "execution_count": 101,
   "metadata": {},
   "outputs": [],
   "source": [
    "# Подключение к базе данных test.db \n",
    "connection = sqlite3.connect('test.db')"
   ]
  }
 ],
 "metadata": {
  "kernelspec": {
   "display_name": ".venv",
   "language": "python",
   "name": "python3"
  },
  "language_info": {
   "codemirror_mode": {
    "name": "ipython",
    "version": 3
   },
   "file_extension": ".py",
   "mimetype": "text/x-python",
   "name": "python",
   "nbconvert_exporter": "python",
   "pygments_lexer": "ipython3",
   "version": "3.11.1"
  },
  "orig_nbformat": 4
 },
 "nbformat": 4,
 "nbformat_minor": 2
}
