{
 "cells": [
  {
   "attachments": {},
   "cell_type": "markdown",
   "metadata": {},
   "source": [
    "# Используем Python для работы с базой данных SQLite\n",
    "\n",
    "<a target=\"_blank\" href=\"https://colab.research.google.com/github/sozykin/middle_python/blob/main/05/05_sqlite.ipynb\">\n",
    "  <img src=\"https://colab.research.google.com/assets/colab-badge.svg\" alt=\"Open In Colab\"/>\n",
    "</a>"
   ]
  },
  {
   "cell_type": "code",
   "execution_count": null,
   "metadata": {},
   "outputs": [],
   "source": [
    "import sqlite3"
   ]
  },
  {
   "attachments": {},
   "cell_type": "markdown",
   "metadata": {},
   "source": [
    "## Установка соединения"
   ]
  },
  {
   "cell_type": "code",
   "execution_count": null,
   "metadata": {},
   "outputs": [],
   "source": [
    "# Создание базы данных в файле test.db \n",
    "connection = sqlite3.connect('test.db')"
   ]
  },
  {
   "cell_type": "code",
   "execution_count": null,
   "metadata": {},
   "outputs": [],
   "source": [
    "# Создаем курсор\n",
    "cursor = connection.cursor()"
   ]
  },
  {
   "attachments": {},
   "cell_type": "markdown",
   "metadata": {},
   "source": [
    "## Создание таблицы для данных"
   ]
  },
  {
   "cell_type": "code",
   "execution_count": null,
   "metadata": {},
   "outputs": [],
   "source": [
    "# Оператор SQL для создания таблицы\n",
    "create_names_table = \"\"\"\n",
    "CREATE TABLE IF NOT EXISTS names(\n",
    "    id INTEGER,\n",
    "    name TEXT,\n",
    "    number_of_persons INTEGER,\n",
    "    global_id INTEGER,\n",
    "    year INTEGER,\n",
    "    month TEXT \n",
    ")\n",
    "\"\"\"\n",
    "\n",
    "# Запускаем команду создания таблицы\n",
    "cursor.execute(create_names_table)\n",
    "\n",
    "# Фиксируем изменения\n",
    "connection.commit()"
   ]
  },
  {
   "attachments": {},
   "cell_type": "markdown",
   "metadata": {},
   "source": [
    "## Вставка данных в таблицу"
   ]
  },
  {
   "cell_type": "code",
   "execution_count": null,
   "metadata": {},
   "outputs": [],
   "source": [
    "# Оператор SQL для вставки данных в таблицу \n",
    "insert_data = \"\"\"\n",
    "INSERT INTO names (id, name, number_of_persons, global_id, year, month)\n",
    "VALUES (1, 'Мария', 252, 37750254, 2015, 'январь')\n",
    "\"\"\"\n",
    "\n",
    "# Запускаем команду вставки данных\n",
    "cursor.execute(insert_data)\n",
    "\n",
    "# Фиксируем изменения\n",
    "connection.commit()"
   ]
  },
  {
   "attachments": {},
   "cell_type": "markdown",
   "metadata": {},
   "source": [
    "## Запрос данных из таблицы"
   ]
  },
  {
   "cell_type": "code",
   "execution_count": null,
   "metadata": {},
   "outputs": [],
   "source": [
    "# Запрос SQL для извлечения данных из таблицы names\n",
    "select_data = \"SELECT * FROM names\"\n",
    "\n",
    "# Запускаем запрос получения данных\n",
    "cursor.execute(select_data)\n",
    "\n",
    "# Получаем результаты запроса\n",
    "resuls = cursor.fetchall()\n",
    "\n",
    "# Печатаем результаты\n",
    "for row in resuls:\n",
    "    print(row)"
   ]
  },
  {
   "attachments": {},
   "cell_type": "markdown",
   "metadata": {},
   "source": [
    "## Завершение работы"
   ]
  },
  {
   "cell_type": "code",
   "execution_count": null,
   "metadata": {},
   "outputs": [],
   "source": [
    "# Закрываем курсор\n",
    "cursor.close()"
   ]
  },
  {
   "cell_type": "code",
   "execution_count": null,
   "metadata": {},
   "outputs": [],
   "source": [
    "# Закрываем соединение\n",
    "connection.close()"
   ]
  },
  {
   "attachments": {},
   "cell_type": "markdown",
   "metadata": {},
   "source": [
    "## Изменение данных в таблице"
   ]
  },
  {
   "cell_type": "code",
   "execution_count": null,
   "metadata": {},
   "outputs": [],
   "source": [
    "# Создание соединения\n",
    "connection = sqlite3.connect('test.db')"
   ]
  },
  {
   "cell_type": "code",
   "execution_count": null,
   "metadata": {},
   "outputs": [],
   "source": [
    "# Создание курсора\n",
    "cursor = connection.cursor()"
   ]
  },
  {
   "attachments": {},
   "cell_type": "markdown",
   "metadata": {},
   "source": [
    "Читаем данные из таблицы"
   ]
  },
  {
   "cell_type": "code",
   "execution_count": null,
   "metadata": {},
   "outputs": [],
   "source": [
    "def get_data(cursor, table):\n",
    "    sql = f\"SELECT * FROM {table}\"\n",
    "    cursor.execute(sql)\n",
    "    return cursor.fetchall()"
   ]
  },
  {
   "cell_type": "code",
   "execution_count": null,
   "metadata": {},
   "outputs": [],
   "source": [
    "get_data(cursor, 'names')"
   ]
  },
  {
   "attachments": {},
   "cell_type": "markdown",
   "metadata": {},
   "source": [
    "Добавляем строку в таблицу"
   ]
  },
  {
   "cell_type": "code",
   "execution_count": null,
   "metadata": {},
   "outputs": [],
   "source": [
    "# Оператор SQL для вставки данных в таблицу \n",
    "insert_data = \"\"\"\n",
    "INSERT INTO names (id, name, number_of_persons, global_id, year, month)\n",
    "VALUES (2, 'Анастасия', 224, 37750255, 2015, 'январь')\n",
    "\"\"\"\n",
    "\n",
    "# Запускаем команду вставки данных\n",
    "cursor.execute(insert_data)\n",
    "\n",
    "# Фиксируем изменения\n",
    "connection.commit()"
   ]
  },
  {
   "cell_type": "code",
   "execution_count": null,
   "metadata": {},
   "outputs": [],
   "source": [
    "get_data(cursor, 'names')"
   ]
  },
  {
   "attachments": {},
   "cell_type": "markdown",
   "metadata": {},
   "source": [
    "Изменяем данные в таблице"
   ]
  },
  {
   "cell_type": "code",
   "execution_count": null,
   "metadata": {},
   "outputs": [],
   "source": [
    "update_data = \"\"\"\n",
    "UPDATE names SET number_of_persons = 250\n",
    "WHERE id = 2\n",
    "\"\"\"\n",
    "\n",
    "# Запускаем команду вставки данных\n",
    "cursor.execute(update_data)\n",
    "\n",
    "# Фиксируем изменения\n",
    "connection.commit()"
   ]
  },
  {
   "cell_type": "code",
   "execution_count": null,
   "metadata": {},
   "outputs": [],
   "source": [
    "get_data(cursor, 'names')"
   ]
  },
  {
   "attachments": {},
   "cell_type": "markdown",
   "metadata": {},
   "source": [
    "Изменяем несколько строк"
   ]
  },
  {
   "cell_type": "code",
   "execution_count": null,
   "metadata": {},
   "outputs": [],
   "source": [
    "update_data = \"\"\"\n",
    "UPDATE names SET number_of_persons = 255\n",
    "WHERE name = 'Мария'\n",
    "\"\"\"\n",
    "\n",
    "# Запускаем команду изменения данных\n",
    "cursor.execute(update_data)\n",
    "\n",
    "# Фиксируем изменения\n",
    "connection.commit()"
   ]
  },
  {
   "cell_type": "code",
   "execution_count": null,
   "metadata": {},
   "outputs": [],
   "source": [
    "get_data(cursor, 'names')"
   ]
  },
  {
   "attachments": {},
   "cell_type": "markdown",
   "metadata": {},
   "source": [
    "Удаляем данные"
   ]
  },
  {
   "cell_type": "code",
   "execution_count": null,
   "metadata": {},
   "outputs": [],
   "source": [
    "delete_data = \"\"\"\n",
    "DELETE FROM names \n",
    "WHERE name = 'Мария'\n",
    "\"\"\"\n",
    "\n",
    "# Запускаем команду удаления данных\n",
    "cursor.execute(delete_data)\n",
    "\n",
    "# Фиксируем изменения\n",
    "connection.commit()"
   ]
  },
  {
   "cell_type": "code",
   "execution_count": null,
   "metadata": {},
   "outputs": [],
   "source": [
    "get_data(cursor, 'names')"
   ]
  },
  {
   "attachments": {},
   "cell_type": "markdown",
   "metadata": {},
   "source": [
    "## Работа с транзакциями"
   ]
  },
  {
   "cell_type": "code",
   "execution_count": null,
   "metadata": {},
   "outputs": [],
   "source": [
    "delete_data = \"DELETE FROM names\" \n",
    "\n",
    "# Запускаем команду удаления данных\n",
    "cursor.execute(delete_data)"
   ]
  },
  {
   "cell_type": "code",
   "execution_count": null,
   "metadata": {},
   "outputs": [],
   "source": [
    "get_data(cursor, 'names')"
   ]
  },
  {
   "cell_type": "code",
   "execution_count": null,
   "metadata": {},
   "outputs": [],
   "source": [
    "# Отменяем транзакцию\n",
    "connection.rollback()"
   ]
  },
  {
   "cell_type": "code",
   "execution_count": null,
   "metadata": {},
   "outputs": [],
   "source": [
    "get_data(cursor, 'names')"
   ]
  },
  {
   "attachments": {},
   "cell_type": "markdown",
   "metadata": {},
   "source": [
    "## Безопасность: SQL инъекции"
   ]
  },
  {
   "cell_type": "code",
   "execution_count": null,
   "metadata": {},
   "outputs": [],
   "source": [
    "def get_data2(cursor, table):\n",
    "    sql = f\"SELECT * FROM {table}\"\n",
    "    cursor.executescript(sql)\n",
    "    return cursor.fetchall()"
   ]
  },
  {
   "cell_type": "code",
   "execution_count": null,
   "metadata": {},
   "outputs": [],
   "source": [
    "# SQL инъекция - удаление таблицы\n",
    "get_data2(cursor, 'names; DROP TABLE names;')"
   ]
  },
  {
   "attachments": {},
   "cell_type": "markdown",
   "metadata": {},
   "source": [
    "Получаем список таблиц в базе SQLite"
   ]
  },
  {
   "cell_type": "code",
   "execution_count": null,
   "metadata": {},
   "outputs": [],
   "source": [
    "list_tables = \"\"\"\n",
    "SELECT\n",
    "    name\n",
    "FROM\n",
    "    sqlite_master\n",
    "WHERE\n",
    "    type ='table' AND\n",
    "    name NOT LIKE 'sqlite_%'\n",
    "\"\"\"\n",
    "\n",
    "cursor.execute(list_tables)\n",
    "\n",
    "cursor.fetchall()"
   ]
  },
  {
   "cell_type": "code",
   "execution_count": null,
   "metadata": {},
   "outputs": [],
   "source": [
    "get_data(cursor, 'names')"
   ]
  },
  {
   "attachments": {},
   "cell_type": "markdown",
   "metadata": {},
   "source": [
    "## Связывание значений (bind values)"
   ]
  },
  {
   "cell_type": "code",
   "execution_count": null,
   "metadata": {},
   "outputs": [],
   "source": [
    "# Запрос с параметром\n",
    "sql = \"SELECT * FROM names WHERE name = ?\""
   ]
  },
  {
   "cell_type": "code",
   "execution_count": null,
   "metadata": {},
   "outputs": [],
   "source": [
    "cursor.execute(sql, ['Мария'])\n",
    "\n",
    "cursor.fetchall()"
   ]
  },
  {
   "cell_type": "code",
   "execution_count": null,
   "metadata": {},
   "outputs": [],
   "source": [
    "cursor.execute(sql, ['Анастасия'])\n",
    "\n",
    "cursor.fetchall()"
   ]
  },
  {
   "attachments": {},
   "cell_type": "markdown",
   "metadata": {},
   "source": [
    "## Вставка нескольких строк в таблицу"
   ]
  },
  {
   "cell_type": "code",
   "execution_count": null,
   "metadata": {},
   "outputs": [],
   "source": [
    "# Оператор SQL для вставки данных в таблицу \n",
    "insert_several_rows = \"\"\"\n",
    "INSERT INTO names (id, name, number_of_persons, global_id, year, month)\n",
    "VALUES (3, 'Анна', 190, 37750256, 2015, 'январь'),\n",
    "       (4, 'Варвара', 190, 37750257, 2015, 'январь'),\n",
    "       (5, 'Виктория', 186, 37750258, 2015, 'январь')\n",
    "\"\"\"\n"
   ]
  },
  {
   "cell_type": "code",
   "execution_count": null,
   "metadata": {},
   "outputs": [],
   "source": [
    "# Запускаем команду вставки данных\n",
    "cursor.execute(insert_several_rows)\n",
    "\n",
    "# Фиксируем изменения\n",
    "connection.commit()"
   ]
  },
  {
   "cell_type": "code",
   "execution_count": null,
   "metadata": {},
   "outputs": [],
   "source": [
    "get_data(cursor, 'names')"
   ]
  },
  {
   "attachments": {},
   "cell_type": "markdown",
   "metadata": {},
   "source": [
    "Связывание переменных"
   ]
  },
  {
   "cell_type": "code",
   "execution_count": null,
   "metadata": {},
   "outputs": [],
   "source": [
    "# Подготавливаем запрос с параметрами\n",
    "insert_several_rows_parameters = \"\"\"\n",
    "INSERT INTO names (id, name, number_of_persons, global_id, year, month)\n",
    "VALUES (?, ?, ?, ?, ?, ?)\n",
    "\"\"\""
   ]
  },
  {
   "cell_type": "code",
   "execution_count": null,
   "metadata": {},
   "outputs": [],
   "source": [
    "# Значения для параметров запроса\n",
    "rows = [\n",
    "    (483, 'Амелия', 8, 62367755, 2015, 'май'),\n",
    "    (484, 'Камила', 8, 62367756, 2015, 'май')\n",
    "]"
   ]
  },
  {
   "cell_type": "code",
   "execution_count": null,
   "metadata": {},
   "outputs": [],
   "source": [
    "# Запускаем команду вставки нескольких элементов данных\n",
    "cursor.executemany(insert_several_rows_parameters, rows)\n",
    "\n",
    "# Фиксируем изменения\n",
    "connection.commit()"
   ]
  },
  {
   "cell_type": "code",
   "execution_count": null,
   "metadata": {},
   "outputs": [],
   "source": [
    "get_data(cursor, 'names')"
   ]
  },
  {
   "attachments": {},
   "cell_type": "markdown",
   "metadata": {},
   "source": [
    "Связывание переменных через словарь"
   ]
  },
  {
   "cell_type": "code",
   "execution_count": null,
   "metadata": {},
   "outputs": [],
   "source": [
    "rows = [\n",
    "    {'id': 483, \n",
    "     'name': 'Евангелина', \n",
    "     'number_of_persons': 8, \n",
    "     'global_id': 62367757, \n",
    "     'year': 2015, \n",
    "     'month': 'май'},\n",
    "    {'id': 486, \n",
    "     'name': 'Альбина', \n",
    "     'number_of_persons': 8, \n",
    "     'global_id': 62367758, \n",
    "     'year': 2015, \n",
    "     'month': 'май'}\n",
    "]"
   ]
  },
  {
   "cell_type": "code",
   "execution_count": null,
   "metadata": {},
   "outputs": [],
   "source": [
    "# Подготавливаем запрос с именованными параметрами\n",
    "insert_several_rows_parameters = \"\"\"\n",
    "INSERT INTO names (id, name, number_of_persons, global_id, year, month)\n",
    "VALUES (:id, :name, :number_of_persons, :global_id, :year, :month)\n",
    "\"\"\""
   ]
  },
  {
   "cell_type": "code",
   "execution_count": null,
   "metadata": {},
   "outputs": [],
   "source": [
    "# Запускаем команду вставки нескольких элементов данных\n",
    "cursor.executemany(insert_several_rows_parameters, rows)\n",
    "\n",
    "# Фиксируем изменения\n",
    "connection.commit()"
   ]
  },
  {
   "cell_type": "code",
   "execution_count": null,
   "metadata": {},
   "outputs": [],
   "source": [
    "get_data(cursor, 'names')"
   ]
  },
  {
   "attachments": {},
   "cell_type": "markdown",
   "metadata": {},
   "source": [
    "## Ограничения целостности"
   ]
  },
  {
   "cell_type": "code",
   "execution_count": null,
   "metadata": {},
   "outputs": [],
   "source": [
    "# Удаляем таблицу names\n",
    "cursor.execute(\"DROP TABLE names\")\n",
    "\n",
    "# Фиксируем изменения\n",
    "connection.commit()"
   ]
  },
  {
   "cell_type": "code",
   "execution_count": null,
   "metadata": {},
   "outputs": [],
   "source": [
    "# Оператор SQL для создания таблицы\n",
    "create_names_table = \"\"\"\n",
    "CREATE TABLE IF NOT EXISTS names(\n",
    "    id INTEGER,\n",
    "    name TEXT,\n",
    "    number_of_persons INTEGER,\n",
    "    global_id INTEGER PRIMARY KEY,\n",
    "    year INTEGER,\n",
    "    month TEXT \n",
    ")\n",
    "\"\"\"\n",
    "\n",
    "# Запускаем команду создания таблицы\n",
    "cursor.execute(create_names_table)\n",
    "\n",
    "# Фиксируем изменения\n",
    "connection.commit()"
   ]
  },
  {
   "cell_type": "code",
   "execution_count": null,
   "metadata": {},
   "outputs": [],
   "source": [
    "# Оператор SQL для вставки данных в таблицу \n",
    "insert_data = \"\"\"\n",
    "INSERT INTO names (id, name, number_of_persons, global_id, year, month)\n",
    "VALUES (1, 'Мария', 252, 37750254, 2015, 'январь')\n",
    "\"\"\"\n",
    "\n",
    "# Запускаем команду вставки данных\n",
    "cursor.execute(insert_data)\n",
    "\n",
    "# Фиксируем изменения\n",
    "connection.commit()"
   ]
  },
  {
   "cell_type": "code",
   "execution_count": null,
   "metadata": {},
   "outputs": [],
   "source": [
    "get_data(cursor, 'names')"
   ]
  },
  {
   "attachments": {},
   "cell_type": "markdown",
   "metadata": {},
   "source": [
    "## Исключения"
   ]
  },
  {
   "cell_type": "code",
   "execution_count": null,
   "metadata": {},
   "outputs": [],
   "source": [
    "cursor.execute(\"SELECT * FROM table1\")"
   ]
  },
  {
   "cell_type": "code",
   "execution_count": null,
   "metadata": {},
   "outputs": [],
   "source": [
    "cursor.execute(\"DROP TABLE table1\")"
   ]
  },
  {
   "cell_type": "code",
   "execution_count": null,
   "metadata": {},
   "outputs": [],
   "source": [
    "cursor.execute(\"SELECT first_name, last_name FROM names\")"
   ]
  },
  {
   "cell_type": "code",
   "execution_count": null,
   "metadata": {},
   "outputs": [],
   "source": [
    "connection = sqlite3.connect('d:\\\\new_test.db')"
   ]
  },
  {
   "attachments": {},
   "cell_type": "markdown",
   "metadata": {},
   "source": [
    "Обработка исключений"
   ]
  },
  {
   "cell_type": "code",
   "execution_count": null,
   "metadata": {},
   "outputs": [],
   "source": [
    "from sqlite3 import Error"
   ]
  },
  {
   "cell_type": "code",
   "execution_count": null,
   "metadata": {},
   "outputs": [],
   "source": [
    "# Оператор SQL для вставки данных в таблицу \n",
    "insert_data = \"\"\"\n",
    "INSERT INTO names (id, name, number_of_persons, global_id, year, month)\n",
    "VALUES (1, 'Мария', 252, 37750254, 2015, 'январь')\n",
    "\"\"\"\n",
    "\n",
    "try:\n",
    "    # Запускаем команду вставки данных\n",
    "    cursor.execute(insert_data)\n",
    "    # Фиксируем изменения\n",
    "    connection.commit()\n",
    "    print(\"Запрос выполнен успешно\")\n",
    "except Error as e:\n",
    "    print(f\"Ошибка при выполнении запроса: {e}\")\n"
   ]
  },
  {
   "cell_type": "code",
   "execution_count": null,
   "metadata": {},
   "outputs": [],
   "source": [
    "cursor.close()"
   ]
  },
  {
   "cell_type": "code",
   "execution_count": null,
   "metadata": {},
   "outputs": [],
   "source": [
    "connection.close()"
   ]
  },
  {
   "attachments": {},
   "cell_type": "markdown",
   "metadata": {},
   "source": [
    "## Загрузка данных в базу из JSON файла"
   ]
  },
  {
   "cell_type": "code",
   "execution_count": null,
   "metadata": {},
   "outputs": [],
   "source": [
    "import json"
   ]
  },
  {
   "cell_type": "code",
   "execution_count": null,
   "metadata": {},
   "outputs": [],
   "source": [
    "with open(\"names_m.json\", \"r\") as read_file:\n",
    "    data = json.load(read_file)"
   ]
  },
  {
   "cell_type": "code",
   "execution_count": null,
   "metadata": {},
   "outputs": [],
   "source": [
    "data"
   ]
  },
  {
   "cell_type": "code",
   "execution_count": null,
   "metadata": {},
   "outputs": [],
   "source": [
    "len(data)"
   ]
  },
  {
   "cell_type": "code",
   "execution_count": null,
   "metadata": {},
   "outputs": [],
   "source": [
    "# Подключение к базе данных test.db \n",
    "connection = sqlite3.connect('test.db')\n",
    "# Создаем курсор\n",
    "cursor = connection.cursor()"
   ]
  },
  {
   "cell_type": "code",
   "execution_count": null,
   "metadata": {},
   "outputs": [],
   "source": [
    "# Удаляем таблицу\n",
    "cursor.execute(\"DROP TABLE IF EXISTS names\")\n",
    "\n",
    "# Фиксируем изменения\n",
    "connection.commit()"
   ]
  },
  {
   "cell_type": "code",
   "execution_count": null,
   "metadata": {},
   "outputs": [],
   "source": [
    "# Оператор SQL для создания таблицы\n",
    "create_names_table = \"\"\"\n",
    "CREATE TABLE IF NOT EXISTS names(\n",
    "    id INTEGER,\n",
    "    name TEXT,\n",
    "    number_of_persons INTEGER,\n",
    "    global_id INTEGER,\n",
    "    year INTEGER,\n",
    "    month TEXT \n",
    ")\n",
    "\"\"\"\n",
    "\n",
    "# Запускаем команду создания таблицы\n",
    "cursor.execute(create_names_table)\n",
    "\n",
    "# Фиксируем изменения\n",
    "connection.commit()"
   ]
  },
  {
   "cell_type": "code",
   "execution_count": null,
   "metadata": {},
   "outputs": [],
   "source": [
    "# Подготавливаем запрос с именованными параметрами\n",
    "insert_several_rows_parameters = \"\"\"\n",
    "INSERT INTO names (id, name, number_of_persons, global_id, year, month)\n",
    "VALUES (:ID, :Name, :NumberOfPersons, :global_id, :Year, :Month)\n",
    "\"\"\""
   ]
  },
  {
   "cell_type": "code",
   "execution_count": null,
   "metadata": {},
   "outputs": [],
   "source": [
    "cursor.executemany(insert_several_rows_parameters, data)\n",
    "    \n",
    "# Фиксируем изменения\n",
    "connection.commit()"
   ]
  },
  {
   "attachments": {},
   "cell_type": "markdown",
   "metadata": {},
   "source": [
    "## Запускаем SQL запрос с группировкой"
   ]
  },
  {
   "cell_type": "code",
   "execution_count": null,
   "metadata": {},
   "outputs": [],
   "source": [
    "# Запрос SQL\n",
    "select = \"\"\"\n",
    "SELECT name, SUM(number_of_persons) as cnt\n",
    "FROM names\n",
    "GROUP BY name\n",
    "ORDER BY cnt DESC\n",
    "LIMIT 10\n",
    "\"\"\"\n",
    "\n",
    "cursor.execute(select)\n",
    "\n",
    "for row in cursor.fetchall():\n",
    "    print(row)"
   ]
  }
 ],
 "metadata": {
  "kernelspec": {
   "display_name": ".venv",
   "language": "python",
   "name": "python3"
  },
  "language_info": {
   "codemirror_mode": {
    "name": "ipython",
    "version": 3
   },
   "file_extension": ".py",
   "mimetype": "text/x-python",
   "name": "python",
   "nbconvert_exporter": "python",
   "pygments_lexer": "ipython3",
   "version": "3.11.1"
  },
  "orig_nbformat": 4
 },
 "nbformat": 4,
 "nbformat_minor": 2
}
