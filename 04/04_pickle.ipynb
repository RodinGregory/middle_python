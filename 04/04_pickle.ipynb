{
 "cells": [
  {
   "attachments": {},
   "cell_type": "markdown",
   "metadata": {},
   "source": [
    "# Работа с pickle в Python\n",
    "\n",
    "<a target=\"_blank\" href=\"https://colab.research.google.com/github/sozykin/middle_python/blob/main/04/04_pickle.ipynb\">\n",
    "  <img src=\"https://colab.research.google.com/assets/colab-badge.svg\" alt=\"Open In Colab\"/>\n",
    "</a>"
   ]
  },
  {
   "cell_type": "code",
   "execution_count": 1,
   "metadata": {},
   "outputs": [],
   "source": [
    "import json\n",
    "import pickle"
   ]
  },
  {
   "attachments": {},
   "cell_type": "markdown",
   "metadata": {},
   "source": [
    "Загружаем файл с данными JSON"
   ]
  },
  {
   "cell_type": "code",
   "execution_count": 2,
   "metadata": {},
   "outputs": [],
   "source": [
    "with open(\"names_m.json\", \"r\") as read_file:\n",
    "    data = json.load(read_file)"
   ]
  },
  {
   "cell_type": "code",
   "execution_count": 3,
   "metadata": {},
   "outputs": [
    {
     "data": {
      "text/plain": [
       "[{'ID': 1,\n",
       "  'Name': 'Александр',\n",
       "  'NumberOfPersons': 253,\n",
       "  'global_id': 37750243,\n",
       "  'Year': 2015,\n",
       "  'Month': 'январь'},\n",
       " {'ID': 2,\n",
       "  'Name': 'Михаил',\n",
       "  'NumberOfPersons': 247,\n",
       "  'global_id': 37750244,\n",
       "  'Year': 2015,\n",
       "  'Month': 'январь'},\n",
       " {'ID': 3,\n",
       "  'Name': 'Иван',\n",
       "  'NumberOfPersons': 226,\n",
       "  'global_id': 37750245,\n",
       "  'Year': 2015,\n",
       "  'Month': 'январь'}]"
      ]
     },
     "execution_count": 3,
     "metadata": {},
     "output_type": "execute_result"
    }
   ],
   "source": [
    "data[:3]"
   ]
  },
  {
   "attachments": {},
   "cell_type": "markdown",
   "metadata": {},
   "source": [
    "Сохраняем данные в бинарном формате pickle"
   ]
  },
  {
   "cell_type": "code",
   "execution_count": 4,
   "metadata": {},
   "outputs": [],
   "source": [
    "with open(\"names_m.pickle\", \"wb\") as pickle_file:\n",
    "    pickle.dump(data, pickle_file)"
   ]
  },
  {
   "attachments": {},
   "cell_type": "markdown",
   "metadata": {},
   "source": [
    "Загружаем данные из pickle"
   ]
  },
  {
   "cell_type": "code",
   "execution_count": 5,
   "metadata": {},
   "outputs": [],
   "source": [
    "with open(\"names_m.pickle\", \"rb\") as pickle_file:\n",
    "    names = pickle.load(pickle_file)"
   ]
  },
  {
   "cell_type": "code",
   "execution_count": 7,
   "metadata": {},
   "outputs": [
    {
     "data": {
      "text/plain": [
       "[{'ID': 1,\n",
       "  'Name': 'Александр',\n",
       "  'NumberOfPersons': 253,\n",
       "  'global_id': 37750243,\n",
       "  'Year': 2015,\n",
       "  'Month': 'январь'},\n",
       " {'ID': 2,\n",
       "  'Name': 'Михаил',\n",
       "  'NumberOfPersons': 247,\n",
       "  'global_id': 37750244,\n",
       "  'Year': 2015,\n",
       "  'Month': 'январь'},\n",
       " {'ID': 3,\n",
       "  'Name': 'Иван',\n",
       "  'NumberOfPersons': 226,\n",
       "  'global_id': 37750245,\n",
       "  'Year': 2015,\n",
       "  'Month': 'январь'},\n",
       " {'ID': 4,\n",
       "  'Name': 'Максим',\n",
       "  'NumberOfPersons': 208,\n",
       "  'global_id': 37750246,\n",
       "  'Year': 2015,\n",
       "  'Month': 'январь'},\n",
       " {'ID': 5,\n",
       "  'Name': 'Артём',\n",
       "  'NumberOfPersons': 190,\n",
       "  'global_id': 37750247,\n",
       "  'Year': 2015,\n",
       "  'Month': 'январь'}]"
      ]
     },
     "execution_count": 7,
     "metadata": {},
     "output_type": "execute_result"
    }
   ],
   "source": [
    "names[:5]\n"
   ]
  },
  {
   "cell_type": "code",
   "execution_count": 8,
   "metadata": {},
   "outputs": [
    {
     "data": {
      "text/plain": [
       "9901"
      ]
     },
     "execution_count": 8,
     "metadata": {},
     "output_type": "execute_result"
    }
   ],
   "source": [
    "len(names)"
   ]
  },
  {
   "attachments": {},
   "cell_type": "markdown",
   "metadata": {},
   "source": [
    "Записываем pickle в строку"
   ]
  },
  {
   "cell_type": "code",
   "execution_count": 9,
   "metadata": {},
   "outputs": [],
   "source": [
    "s = pickle.dumps(names[0])"
   ]
  },
  {
   "cell_type": "code",
   "execution_count": 10,
   "metadata": {},
   "outputs": [
    {
     "data": {
      "text/plain": [
       "b'\\x80\\x04\\x95n\\x00\\x00\\x00\\x00\\x00\\x00\\x00}\\x94(\\x8c\\x02ID\\x94K\\x01\\x8c\\x04Name\\x94\\x8c\\x12\\xd0\\x90\\xd0\\xbb\\xd0\\xb5\\xd0\\xba\\xd1\\x81\\xd0\\xb0\\xd0\\xbd\\xd0\\xb4\\xd1\\x80\\x94\\x8c\\x0fNumberOfPersons\\x94K\\xfd\\x8c\\tglobal_id\\x94J\\xe3\\x05@\\x02\\x8c\\x04Year\\x94M\\xdf\\x07\\x8c\\x05Month\\x94\\x8c\\x0c\\xd1\\x8f\\xd0\\xbd\\xd0\\xb2\\xd0\\xb0\\xd1\\x80\\xd1\\x8c\\x94u.'"
      ]
     },
     "execution_count": 10,
     "metadata": {},
     "output_type": "execute_result"
    }
   ],
   "source": [
    "s"
   ]
  },
  {
   "cell_type": "code",
   "execution_count": 11,
   "metadata": {},
   "outputs": [],
   "source": [
    "name = pickle.loads(s)"
   ]
  },
  {
   "cell_type": "code",
   "execution_count": 12,
   "metadata": {},
   "outputs": [
    {
     "data": {
      "text/plain": [
       "{'ID': 1,\n",
       " 'Name': 'Александр',\n",
       " 'NumberOfPersons': 253,\n",
       " 'global_id': 37750243,\n",
       " 'Year': 2015,\n",
       " 'Month': 'январь'}"
      ]
     },
     "execution_count": 12,
     "metadata": {},
     "output_type": "execute_result"
    }
   ],
   "source": [
    "name"
   ]
  }
 ],
 "metadata": {
  "kernelspec": {
   "display_name": ".venv",
   "language": "python",
   "name": "python3"
  },
  "language_info": {
   "codemirror_mode": {
    "name": "ipython",
    "version": 3
   },
   "file_extension": ".py",
   "mimetype": "text/x-python",
   "name": "python",
   "nbconvert_exporter": "python",
   "pygments_lexer": "ipython3",
   "version": "3.11.1"
  },
  "orig_nbformat": 4
 },
 "nbformat": 4,
 "nbformat_minor": 2
}
