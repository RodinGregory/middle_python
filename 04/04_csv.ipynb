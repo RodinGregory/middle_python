{
 "cells": [
  {
   "attachments": {},
   "cell_type": "markdown",
   "metadata": {},
   "source": [
    "# Работа с файлами csv в Python\n",
    "\n",
    "<a target=\"_blank\" href=\"https://colab.research.google.com/github/sozykin/middle_python/blob/main/04/04_csv.ipynb\">\n",
    "  <img src=\"https://colab.research.google.com/assets/colab-badge.svg\" alt=\"Open In Colab\"/>\n",
    "</a>"
   ]
  },
  {
   "cell_type": "code",
   "execution_count": 1,
   "metadata": {},
   "outputs": [],
   "source": [
    "import csv"
   ]
  },
  {
   "attachments": {},
   "cell_type": "markdown",
   "metadata": {},
   "source": [
    "## Читаем файл csv"
   ]
  },
  {
   "cell_type": "code",
   "execution_count": 2,
   "metadata": {},
   "outputs": [
    {
     "name": "stdout",
     "output_type": "stream",
     "text": [
      "['id', 'date', 'store_nbr', 'family', 'sales', 'onpromotion']\n",
      "['298919', '2013-06-17', '46', 'BREAD/BAKERY', '566.253', '0']\n",
      "['298920', '2013-06-17', '46', 'CELEBRATION', '0.0', '0']\n",
      "['298921', '2013-06-17', '46', 'CLEANING', '1707.0', '0']\n",
      "['298922', '2013-06-17', '46', 'DAIRY', '711.0', '0']\n",
      "['298923', '2013-06-17', '46', 'DELI', '709.268', '0']\n",
      "['298924', '2013-06-17', '46', 'EGGS', '203.0', '0']\n",
      "['298925', '2013-06-17', '46', 'FROZEN FOODS', '249.0', '0']\n",
      "['298926', '2013-06-17', '46', 'GROCERY I', '5715.0', '0']\n",
      "['298927', '2013-06-17', '46', 'GROCERY II', '42.0', '0']\n"
     ]
    }
   ],
   "source": [
    "# Открываем файл sales.csv \n",
    "with open('sales.csv') as csv_file:\n",
    "    csv_reader = csv.reader(csv_file, delimiter=',')\n",
    "    for row in csv_reader:\n",
    "        print(row)"
   ]
  },
  {
   "attachments": {},
   "cell_type": "markdown",
   "metadata": {},
   "source": [
    "Читаем файл csv с помощью DictReader"
   ]
  },
  {
   "cell_type": "code",
   "execution_count": 3,
   "metadata": {},
   "outputs": [
    {
     "name": "stdout",
     "output_type": "stream",
     "text": [
      "{'id': '298919', 'date': '2013-06-17', 'store_nbr': '46', 'family': 'BREAD/BAKERY', 'sales': '566.253', 'onpromotion': '0'}\n",
      "{'id': '298920', 'date': '2013-06-17', 'store_nbr': '46', 'family': 'CELEBRATION', 'sales': '0.0', 'onpromotion': '0'}\n",
      "{'id': '298921', 'date': '2013-06-17', 'store_nbr': '46', 'family': 'CLEANING', 'sales': '1707.0', 'onpromotion': '0'}\n",
      "{'id': '298922', 'date': '2013-06-17', 'store_nbr': '46', 'family': 'DAIRY', 'sales': '711.0', 'onpromotion': '0'}\n",
      "{'id': '298923', 'date': '2013-06-17', 'store_nbr': '46', 'family': 'DELI', 'sales': '709.268', 'onpromotion': '0'}\n",
      "{'id': '298924', 'date': '2013-06-17', 'store_nbr': '46', 'family': 'EGGS', 'sales': '203.0', 'onpromotion': '0'}\n",
      "{'id': '298925', 'date': '2013-06-17', 'store_nbr': '46', 'family': 'FROZEN FOODS', 'sales': '249.0', 'onpromotion': '0'}\n",
      "{'id': '298926', 'date': '2013-06-17', 'store_nbr': '46', 'family': 'GROCERY I', 'sales': '5715.0', 'onpromotion': '0'}\n",
      "{'id': '298927', 'date': '2013-06-17', 'store_nbr': '46', 'family': 'GROCERY II', 'sales': '42.0', 'onpromotion': '0'}\n"
     ]
    }
   ],
   "source": [
    "data = []\n",
    "with open('sales.csv', mode='r') as csv_file:\n",
    "    csv_reader = csv.DictReader(csv_file)\n",
    "    for row in csv_reader:\n",
    "        print(row)\n",
    "        data.append(row)\n"
   ]
  },
  {
   "cell_type": "code",
   "execution_count": 4,
   "metadata": {},
   "outputs": [
    {
     "data": {
      "text/plain": [
       "[{'id': '298919',\n",
       "  'date': '2013-06-17',\n",
       "  'store_nbr': '46',\n",
       "  'family': 'BREAD/BAKERY',\n",
       "  'sales': '566.253',\n",
       "  'onpromotion': '0'},\n",
       " {'id': '298920',\n",
       "  'date': '2013-06-17',\n",
       "  'store_nbr': '46',\n",
       "  'family': 'CELEBRATION',\n",
       "  'sales': '0.0',\n",
       "  'onpromotion': '0'},\n",
       " {'id': '298921',\n",
       "  'date': '2013-06-17',\n",
       "  'store_nbr': '46',\n",
       "  'family': 'CLEANING',\n",
       "  'sales': '1707.0',\n",
       "  'onpromotion': '0'},\n",
       " {'id': '298922',\n",
       "  'date': '2013-06-17',\n",
       "  'store_nbr': '46',\n",
       "  'family': 'DAIRY',\n",
       "  'sales': '711.0',\n",
       "  'onpromotion': '0'},\n",
       " {'id': '298923',\n",
       "  'date': '2013-06-17',\n",
       "  'store_nbr': '46',\n",
       "  'family': 'DELI',\n",
       "  'sales': '709.268',\n",
       "  'onpromotion': '0'},\n",
       " {'id': '298924',\n",
       "  'date': '2013-06-17',\n",
       "  'store_nbr': '46',\n",
       "  'family': 'EGGS',\n",
       "  'sales': '203.0',\n",
       "  'onpromotion': '0'},\n",
       " {'id': '298925',\n",
       "  'date': '2013-06-17',\n",
       "  'store_nbr': '46',\n",
       "  'family': 'FROZEN FOODS',\n",
       "  'sales': '249.0',\n",
       "  'onpromotion': '0'},\n",
       " {'id': '298926',\n",
       "  'date': '2013-06-17',\n",
       "  'store_nbr': '46',\n",
       "  'family': 'GROCERY I',\n",
       "  'sales': '5715.0',\n",
       "  'onpromotion': '0'},\n",
       " {'id': '298927',\n",
       "  'date': '2013-06-17',\n",
       "  'store_nbr': '46',\n",
       "  'family': 'GROCERY II',\n",
       "  'sales': '42.0',\n",
       "  'onpromotion': '0'}]"
      ]
     },
     "execution_count": 4,
     "metadata": {},
     "output_type": "execute_result"
    }
   ],
   "source": [
    "data"
   ]
  },
  {
   "attachments": {},
   "cell_type": "markdown",
   "metadata": {},
   "source": [
    "## Записываем данные в файл CSV"
   ]
  },
  {
   "cell_type": "code",
   "execution_count": 5,
   "metadata": {},
   "outputs": [],
   "source": [
    "field_names = data[0].keys()"
   ]
  },
  {
   "cell_type": "code",
   "execution_count": 6,
   "metadata": {},
   "outputs": [
    {
     "data": {
      "text/plain": [
       "dict_keys(['id', 'date', 'store_nbr', 'family', 'sales', 'onpromotion'])"
      ]
     },
     "execution_count": 6,
     "metadata": {},
     "output_type": "execute_result"
    }
   ],
   "source": [
    "field_names"
   ]
  },
  {
   "cell_type": "code",
   "execution_count": 7,
   "metadata": {},
   "outputs": [],
   "source": [
    "with open('sales2.csv', mode='w') as csv_file:\n",
    "    writer = csv.DictWriter(csv_file, fieldnames=field_names)\n",
    "    writer.writeheader()\n",
    "    writer.writerows(data)"
   ]
  },
  {
   "attachments": {},
   "cell_type": "markdown",
   "metadata": {},
   "source": [
    "Описываем форматирование в csv файле"
   ]
  },
  {
   "cell_type": "code",
   "execution_count": 8,
   "metadata": {},
   "outputs": [],
   "source": [
    "with open('sales3.csv', mode='w') as csv_file:\n",
    "    writer = csv.DictWriter(csv_file, \n",
    "                            fieldnames=field_names,\n",
    "                            lineterminator='\\n',\n",
    "                            quotechar='\"',\n",
    "                            quoting=csv.QUOTE_ALL,\n",
    "                            delimiter=';')\n",
    "    writer.writeheader()\n",
    "    writer.writerows(data)"
   ]
  }
 ],
 "metadata": {
  "kernelspec": {
   "display_name": ".venv",
   "language": "python",
   "name": "python3"
  },
  "language_info": {
   "codemirror_mode": {
    "name": "ipython",
    "version": 3
   },
   "file_extension": ".py",
   "mimetype": "text/x-python",
   "name": "python",
   "nbconvert_exporter": "python",
   "pygments_lexer": "ipython3",
   "version": "3.11.1"
  },
  "orig_nbformat": 4
 },
 "nbformat": 4,
 "nbformat_minor": 2
}
