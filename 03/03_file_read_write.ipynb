{
 "cells": [
  {
   "attachments": {},
   "cell_type": "markdown",
   "metadata": {},
   "source": [
    "# Операции с файлами в Python\n",
    "\n",
    "<a target=\"_blank\" href=\"https://colab.research.google.com/github/sozykin/middle_python/blob/main/02/02_collections.ipynb\">\n",
    "  <img src=\"https://colab.research.google.com/assets/colab-badge.svg\" alt=\"Open In Colab\"/>\n",
    "</a>"
   ]
  },
  {
   "attachments": {},
   "cell_type": "markdown",
   "metadata": {},
   "source": [
    "## Чтение текстового файла"
   ]
  },
  {
   "attachments": {},
   "cell_type": "markdown",
   "metadata": {},
   "source": [
    "Чтение файла целиком. Не рекомендуется для больших файлов."
   ]
  },
  {
   "cell_type": "code",
   "execution_count": 34,
   "metadata": {},
   "outputs": [],
   "source": [
    "with open('sales.csv', 'r') as f:\n",
    "    data = f.read()"
   ]
  },
  {
   "cell_type": "code",
   "execution_count": 35,
   "metadata": {},
   "outputs": [
    {
     "data": {
      "text/plain": [
       "'id,date,store_nbr,family,sales,onpromotion\\n298919,2013-06-17,46,BREAD/BAKERY,566.253,0\\n298920,2013-06-17,46,CELEBRATION,0.0,0\\n298921,2013-06-17,46,CLEANING,1707.0,0\\n298922,2013-06-17,46,DAIRY,711.0,0\\n298923,2013-06-17,46,DELI,709.268,0\\n298924,2013-06-17,46,EGGS,203.0,0\\n298925,2013-06-17,46,FROZEN FOODS,249.0,0\\n298926,2013-06-17,46,GROCERY I,5715.0,0\\n298927,2013-06-17,46,GROCERY II,42.0,0\\n'"
      ]
     },
     "execution_count": 35,
     "metadata": {},
     "output_type": "execute_result"
    }
   ],
   "source": [
    "data"
   ]
  },
  {
   "attachments": {},
   "cell_type": "markdown",
   "metadata": {},
   "source": [
    "Чтение списка строк из файла. Не рекомендуется для больших файлов."
   ]
  },
  {
   "cell_type": "code",
   "execution_count": 36,
   "metadata": {},
   "outputs": [],
   "source": [
    "with open('sales.csv', 'r') as f:\n",
    "    data = f.readlines()"
   ]
  },
  {
   "cell_type": "code",
   "execution_count": 37,
   "metadata": {},
   "outputs": [
    {
     "data": {
      "text/plain": [
       "['id,date,store_nbr,family,sales,onpromotion\\n',\n",
       " '298919,2013-06-17,46,BREAD/BAKERY,566.253,0\\n',\n",
       " '298920,2013-06-17,46,CELEBRATION,0.0,0\\n',\n",
       " '298921,2013-06-17,46,CLEANING,1707.0,0\\n',\n",
       " '298922,2013-06-17,46,DAIRY,711.0,0\\n',\n",
       " '298923,2013-06-17,46,DELI,709.268,0\\n',\n",
       " '298924,2013-06-17,46,EGGS,203.0,0\\n',\n",
       " '298925,2013-06-17,46,FROZEN FOODS,249.0,0\\n',\n",
       " '298926,2013-06-17,46,GROCERY I,5715.0,0\\n',\n",
       " '298927,2013-06-17,46,GROCERY II,42.0,0\\n']"
      ]
     },
     "execution_count": 37,
     "metadata": {},
     "output_type": "execute_result"
    }
   ],
   "source": [
    "data"
   ]
  },
  {
   "attachments": {},
   "cell_type": "markdown",
   "metadata": {},
   "source": [
    "Чтение файла построчно"
   ]
  },
  {
   "cell_type": "code",
   "execution_count": 38,
   "metadata": {},
   "outputs": [
    {
     "name": "stdout",
     "output_type": "stream",
     "text": [
      "id,date,store_nbr,family,sales,onpromotion\n",
      "\n",
      "298919,2013-06-17,46,BREAD/BAKERY,566.253,0\n",
      "\n",
      "298920,2013-06-17,46,CELEBRATION,0.0,0\n",
      "\n",
      "298921,2013-06-17,46,CLEANING,1707.0,0\n",
      "\n",
      "298922,2013-06-17,46,DAIRY,711.0,0\n",
      "\n",
      "298923,2013-06-17,46,DELI,709.268,0\n",
      "\n",
      "298924,2013-06-17,46,EGGS,203.0,0\n",
      "\n",
      "298925,2013-06-17,46,FROZEN FOODS,249.0,0\n",
      "\n",
      "298926,2013-06-17,46,GROCERY I,5715.0,0\n",
      "\n",
      "298927,2013-06-17,46,GROCERY II,42.0,0\n",
      "\n"
     ]
    }
   ],
   "source": [
    "data = []\n",
    "with open('sales.csv', 'r') as f:\n",
    "    line = f.readline()\n",
    "    while line != '': # Признак конца файл - пустая строка\n",
    "        print(line)\n",
    "        data.append(line)\n",
    "        line = f.readline()"
   ]
  },
  {
   "attachments": {},
   "cell_type": "markdown",
   "metadata": {},
   "source": [
    "## Работаем с файловым объектом как с генератором"
   ]
  },
  {
   "cell_type": "code",
   "execution_count": 39,
   "metadata": {},
   "outputs": [],
   "source": [
    "from collections.abc import Iterator"
   ]
  },
  {
   "cell_type": "code",
   "execution_count": 40,
   "metadata": {},
   "outputs": [
    {
     "name": "stdout",
     "output_type": "stream",
     "text": [
      "True\n"
     ]
    }
   ],
   "source": [
    "f = open('sales.csv')\n",
    "print(isinstance(f, Iterator))"
   ]
  },
  {
   "cell_type": "code",
   "execution_count": 44,
   "metadata": {},
   "outputs": [
    {
     "data": {
      "text/plain": [
       "'298921,2013-06-17,46,CLEANING,1707.0,0\\n'"
      ]
     },
     "execution_count": 44,
     "metadata": {},
     "output_type": "execute_result"
    }
   ],
   "source": [
    "next(f)"
   ]
  },
  {
   "cell_type": "code",
   "execution_count": 45,
   "metadata": {},
   "outputs": [],
   "source": [
    "data = []\n",
    "with open('sales.csv', 'r') as f:\n",
    "    for line in f:\n",
    "        data.append(line)"
   ]
  },
  {
   "cell_type": "code",
   "execution_count": 46,
   "metadata": {},
   "outputs": [
    {
     "data": {
      "text/plain": [
       "['id,date,store_nbr,family,sales,onpromotion\\n',\n",
       " '298919,2013-06-17,46,BREAD/BAKERY,566.253,0\\n',\n",
       " '298920,2013-06-17,46,CELEBRATION,0.0,0\\n',\n",
       " '298921,2013-06-17,46,CLEANING,1707.0,0\\n',\n",
       " '298922,2013-06-17,46,DAIRY,711.0,0\\n',\n",
       " '298923,2013-06-17,46,DELI,709.268,0\\n',\n",
       " '298924,2013-06-17,46,EGGS,203.0,0\\n',\n",
       " '298925,2013-06-17,46,FROZEN FOODS,249.0,0\\n',\n",
       " '298926,2013-06-17,46,GROCERY I,5715.0,0\\n',\n",
       " '298927,2013-06-17,46,GROCERY II,42.0,0\\n']"
      ]
     },
     "execution_count": 46,
     "metadata": {},
     "output_type": "execute_result"
    }
   ],
   "source": [
    "data"
   ]
  },
  {
   "attachments": {},
   "cell_type": "markdown",
   "metadata": {},
   "source": [
    "## Запись в файл"
   ]
  },
  {
   "cell_type": "code",
   "execution_count": 47,
   "metadata": {},
   "outputs": [],
   "source": [
    "with open('new_sales.csv', 'w') as f:\n",
    "    f.writelines(data)"
   ]
  },
  {
   "cell_type": "code",
   "execution_count": 48,
   "metadata": {},
   "outputs": [],
   "source": [
    "with open('new_sales2.csv', 'w') as f:\n",
    "    for line in data:\n",
    "        f.write(line)"
   ]
  },
  {
   "attachments": {},
   "cell_type": "markdown",
   "metadata": {},
   "source": [
    "## Добавление в файл"
   ]
  },
  {
   "cell_type": "code",
   "execution_count": 24,
   "metadata": {},
   "outputs": [],
   "source": [
    "# Открываем файл в режиме добавления\n",
    "with open('new_sales2.csv', 'a') as f:\n",
    "    f.write('Новая строка в конце файла')"
   ]
  },
  {
   "cell_type": "code",
   "execution_count": 25,
   "metadata": {},
   "outputs": [],
   "source": [
    "# Открываем файл в режиме записи\n",
    "with open('new_sales2.csv', 'w') as f:\n",
    "    f.write('Новая строка в конце файла')"
   ]
  },
  {
   "attachments": {},
   "cell_type": "markdown",
   "metadata": {},
   "source": [
    "## Изменение позиции в файле"
   ]
  },
  {
   "cell_type": "code",
   "execution_count": 33,
   "metadata": {},
   "outputs": [
    {
     "name": "stdout",
     "output_type": "stream",
     "text": [
      "id,date,store_nbr,family,sales,onpromotion\n",
      "\n",
      "7,46,BREAD/BAKERY,566.253,0\n",
      "\n"
     ]
    }
   ],
   "source": [
    "with open('sales.csv', 'r') as f:\n",
    "    print(f.readline())\n",
    "    f.seek(60)\n",
    "    print(f.readline())"
   ]
  }
 ],
 "metadata": {
  "kernelspec": {
   "display_name": ".venv",
   "language": "python",
   "name": "python3"
  },
  "language_info": {
   "codemirror_mode": {
    "name": "ipython",
    "version": 3
   },
   "file_extension": ".py",
   "mimetype": "text/x-python",
   "name": "python",
   "nbconvert_exporter": "python",
   "pygments_lexer": "ipython3",
   "version": "3.11.1"
  },
  "orig_nbformat": 4
 },
 "nbformat": 4,
 "nbformat_minor": 2
}
