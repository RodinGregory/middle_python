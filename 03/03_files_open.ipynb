{
 "cells": [
  {
   "attachments": {},
   "cell_type": "markdown",
   "metadata": {},
   "source": [
    "# Работа с файлами в Python\n",
    "\n",
    "<a target=\"_blank\" href=\"https://colab.research.google.com/github/sozykin/middle_python/blob/main/02/02_collections.ipynb\">\n",
    "  <img src=\"https://colab.research.google.com/assets/colab-badge.svg\" alt=\"Open In Colab\"/>\n",
    "</a>"
   ]
  },
  {
   "cell_type": "code",
   "execution_count": 1,
   "metadata": {},
   "outputs": [],
   "source": [
    "# Открытие файла\n",
    "f = open('sales.csv')"
   ]
  },
  {
   "cell_type": "code",
   "execution_count": 2,
   "metadata": {},
   "outputs": [
    {
     "data": {
      "text/plain": [
       "<_io.TextIOWrapper name='sales.csv' mode='r' encoding='cp1251'>"
      ]
     },
     "execution_count": 2,
     "metadata": {},
     "output_type": "execute_result"
    }
   ],
   "source": [
    "f"
   ]
  },
  {
   "cell_type": "code",
   "execution_count": 3,
   "metadata": {},
   "outputs": [],
   "source": [
    "# Чтение всех данныех из файла\n",
    "# Не рекомендуется для больших файлов\n",
    "data = f.read()"
   ]
  },
  {
   "cell_type": "code",
   "execution_count": 4,
   "metadata": {},
   "outputs": [
    {
     "data": {
      "text/plain": [
       "'id,date,store_nbr,family,sales,onpromotion\\n298919,2013-06-17,46,BREAD/BAKERY,566.253,0\\n298920,2013-06-17,46,CELEBRATION,0.0,0\\n298921,2013-06-17,46,CLEANING,1707.0,0\\n298922,2013-06-17,46,DAIRY,711.0,0\\n298923,2013-06-17,46,DELI,709.268,0\\n298924,2013-06-17,46,EGGS,203.0,0\\n298925,2013-06-17,46,FROZEN FOODS,249.0,0\\n298926,2013-06-17,46,GROCERY I,5715.0,0\\n298927,2013-06-17,46,GROCERY II,42.0,0\\n'"
      ]
     },
     "execution_count": 4,
     "metadata": {},
     "output_type": "execute_result"
    }
   ],
   "source": [
    "data"
   ]
  },
  {
   "cell_type": "code",
   "execution_count": 5,
   "metadata": {},
   "outputs": [
    {
     "data": {
      "text/plain": [
       "str"
      ]
     },
     "execution_count": 5,
     "metadata": {},
     "output_type": "execute_result"
    }
   ],
   "source": [
    "type(data)"
   ]
  },
  {
   "cell_type": "code",
   "execution_count": 6,
   "metadata": {},
   "outputs": [],
   "source": [
    "# Закрытие файла\n",
    "f.close()"
   ]
  },
  {
   "attachments": {},
   "cell_type": "markdown",
   "metadata": {},
   "source": [
    "## Пример ошибки при работе с файлом"
   ]
  },
  {
   "cell_type": "code",
   "execution_count": 7,
   "metadata": {},
   "outputs": [
    {
     "ename": "FileNotFoundError",
     "evalue": "[Errno 2] No such file or directory: 'no_file.csv'",
     "output_type": "error",
     "traceback": [
      "\u001b[1;31m---------------------------------------------------------------------------\u001b[0m",
      "\u001b[1;31mFileNotFoundError\u001b[0m                         Traceback (most recent call last)",
      "Cell \u001b[1;32mIn[7], line 1\u001b[0m\n\u001b[1;32m----> 1\u001b[0m f \u001b[39m=\u001b[39m \u001b[39mopen\u001b[39;49m(\u001b[39m'\u001b[39;49m\u001b[39mno_file.csv\u001b[39;49m\u001b[39m'\u001b[39;49m)\n",
      "File \u001b[1;32mc:\\Users\\sozyk\\projects\\middle_python\\.venv\\Lib\\site-packages\\IPython\\core\\interactiveshell.py:284\u001b[0m, in \u001b[0;36m_modified_open\u001b[1;34m(file, *args, **kwargs)\u001b[0m\n\u001b[0;32m    277\u001b[0m \u001b[39mif\u001b[39;00m file \u001b[39min\u001b[39;00m {\u001b[39m0\u001b[39m, \u001b[39m1\u001b[39m, \u001b[39m2\u001b[39m}:\n\u001b[0;32m    278\u001b[0m     \u001b[39mraise\u001b[39;00m \u001b[39mValueError\u001b[39;00m(\n\u001b[0;32m    279\u001b[0m         \u001b[39mf\u001b[39m\u001b[39m\"\u001b[39m\u001b[39mIPython won\u001b[39m\u001b[39m'\u001b[39m\u001b[39mt let you open fd=\u001b[39m\u001b[39m{\u001b[39;00mfile\u001b[39m}\u001b[39;00m\u001b[39m by default \u001b[39m\u001b[39m\"\u001b[39m\n\u001b[0;32m    280\u001b[0m         \u001b[39m\"\u001b[39m\u001b[39mas it is likely to crash IPython. If you know what you are doing, \u001b[39m\u001b[39m\"\u001b[39m\n\u001b[0;32m    281\u001b[0m         \u001b[39m\"\u001b[39m\u001b[39myou can use builtins\u001b[39m\u001b[39m'\u001b[39m\u001b[39m open.\u001b[39m\u001b[39m\"\u001b[39m\n\u001b[0;32m    282\u001b[0m     )\n\u001b[1;32m--> 284\u001b[0m \u001b[39mreturn\u001b[39;00m io_open(file, \u001b[39m*\u001b[39;49margs, \u001b[39m*\u001b[39;49m\u001b[39m*\u001b[39;49mkwargs)\n",
      "\u001b[1;31mFileNotFoundError\u001b[0m: [Errno 2] No such file or directory: 'no_file.csv'"
     ]
    }
   ],
   "source": [
    "f = open('no_file.csv')"
   ]
  },
  {
   "attachments": {},
   "cell_type": "markdown",
   "metadata": {},
   "source": [
    "## Обработка исключений при работе с файлами"
   ]
  },
  {
   "cell_type": "code",
   "execution_count": 8,
   "metadata": {},
   "outputs": [],
   "source": [
    "f = open('sales.csv')\n",
    "try:\n",
    "    data = f.read()\n",
    "finally:\n",
    "    f.close()"
   ]
  },
  {
   "cell_type": "code",
   "execution_count": 9,
   "metadata": {},
   "outputs": [
    {
     "data": {
      "text/plain": [
       "'id,date,store_nbr,family,sales,onpromotion\\n298919,2013-06-17,46,BREAD/BAKERY,566.253,0\\n298920,2013-06-17,46,CELEBRATION,0.0,0\\n298921,2013-06-17,46,CLEANING,1707.0,0\\n298922,2013-06-17,46,DAIRY,711.0,0\\n298923,2013-06-17,46,DELI,709.268,0\\n298924,2013-06-17,46,EGGS,203.0,0\\n298925,2013-06-17,46,FROZEN FOODS,249.0,0\\n298926,2013-06-17,46,GROCERY I,5715.0,0\\n298927,2013-06-17,46,GROCERY II,42.0,0\\n'"
      ]
     },
     "execution_count": 9,
     "metadata": {},
     "output_type": "execute_result"
    }
   ],
   "source": [
    "data"
   ]
  },
  {
   "cell_type": "code",
   "execution_count": 10,
   "metadata": {},
   "outputs": [],
   "source": [
    "with open('sales.csv') as f:\n",
    "    data = f.read()"
   ]
  },
  {
   "cell_type": "code",
   "execution_count": 11,
   "metadata": {},
   "outputs": [
    {
     "data": {
      "text/plain": [
       "'id,date,store_nbr,family,sales,onpromotion\\n298919,2013-06-17,46,BREAD/BAKERY,566.253,0\\n298920,2013-06-17,46,CELEBRATION,0.0,0\\n298921,2013-06-17,46,CLEANING,1707.0,0\\n298922,2013-06-17,46,DAIRY,711.0,0\\n298923,2013-06-17,46,DELI,709.268,0\\n298924,2013-06-17,46,EGGS,203.0,0\\n298925,2013-06-17,46,FROZEN FOODS,249.0,0\\n298926,2013-06-17,46,GROCERY I,5715.0,0\\n298927,2013-06-17,46,GROCERY II,42.0,0\\n'"
      ]
     },
     "execution_count": 11,
     "metadata": {},
     "output_type": "execute_result"
    }
   ],
   "source": [
    "data"
   ]
  },
  {
   "attachments": {},
   "cell_type": "markdown",
   "metadata": {},
   "source": [
    "## Режимы открытия файлов"
   ]
  },
  {
   "attachments": {},
   "cell_type": "markdown",
   "metadata": {},
   "source": [
    "Открытие файла на чтение"
   ]
  },
  {
   "cell_type": "code",
   "execution_count": 12,
   "metadata": {},
   "outputs": [],
   "source": [
    "with open('sales.csv', 'r') as f:\n",
    "    data = f.read()"
   ]
  },
  {
   "cell_type": "code",
   "execution_count": 13,
   "metadata": {},
   "outputs": [
    {
     "data": {
      "text/plain": [
       "'id,date,store_nbr,family,sales,onpromotion\\n298919,2013-06-17,46,BREAD/BAKERY,566.253,0\\n298920,2013-06-17,46,CELEBRATION,0.0,0\\n298921,2013-06-17,46,CLEANING,1707.0,0\\n298922,2013-06-17,46,DAIRY,711.0,0\\n298923,2013-06-17,46,DELI,709.268,0\\n298924,2013-06-17,46,EGGS,203.0,0\\n298925,2013-06-17,46,FROZEN FOODS,249.0,0\\n298926,2013-06-17,46,GROCERY I,5715.0,0\\n298927,2013-06-17,46,GROCERY II,42.0,0\\n'"
      ]
     },
     "execution_count": 13,
     "metadata": {},
     "output_type": "execute_result"
    }
   ],
   "source": [
    "data"
   ]
  },
  {
   "attachments": {},
   "cell_type": "markdown",
   "metadata": {},
   "source": [
    "Открытие файла на запись"
   ]
  },
  {
   "cell_type": "code",
   "execution_count": 14,
   "metadata": {},
   "outputs": [],
   "source": [
    "with open('new_file.txt', 'w') as f:\n",
    "    f.write('Запись в новый файл\\n')"
   ]
  },
  {
   "attachments": {},
   "cell_type": "markdown",
   "metadata": {},
   "source": [
    "Указываем кодировку при открытии файла"
   ]
  },
  {
   "cell_type": "code",
   "execution_count": 15,
   "metadata": {},
   "outputs": [],
   "source": [
    "with open('new_file.txt', 'w', encoding='UTF-8') as f:\n",
    "    f.write('Запись в новый файл\\n')"
   ]
  },
  {
   "attachments": {},
   "cell_type": "markdown",
   "metadata": {},
   "source": [
    "Дополняем файл"
   ]
  },
  {
   "cell_type": "code",
   "execution_count": 16,
   "metadata": {},
   "outputs": [],
   "source": [
    "with open('new_file.txt', 'a', encoding='UTF-8') as f:\n",
    "    f.write('Новая строка в файле\\n')"
   ]
  }
 ],
 "metadata": {
  "kernelspec": {
   "display_name": ".venv",
   "language": "python",
   "name": "python3"
  },
  "language_info": {
   "codemirror_mode": {
    "name": "ipython",
    "version": 3
   },
   "file_extension": ".py",
   "mimetype": "text/x-python",
   "name": "python",
   "nbconvert_exporter": "python",
   "pygments_lexer": "ipython3",
   "version": "3.11.1"
  },
  "orig_nbformat": 4
 },
 "nbformat": 4,
 "nbformat_minor": 2
}
