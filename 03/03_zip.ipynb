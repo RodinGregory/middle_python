{
 "cells": [
  {
   "attachments": {},
   "cell_type": "markdown",
   "metadata": {},
   "source": [
    "# Работа с zip-архивами в Python\n",
    "\n",
    "<a target=\"_blank\" href=\"https://colab.research.google.com/github/sozykin/middle_python/blob/main/03/03_zip.ipynb\">\n",
    "  <img src=\"https://colab.research.google.com/assets/colab-badge.svg\" alt=\"Open In Colab\"/>\n",
    "</a>"
   ]
  },
  {
   "cell_type": "code",
   "execution_count": null,
   "metadata": {},
   "outputs": [],
   "source": [
    "import zipfile\n",
    "from pathlib import Path"
   ]
  },
  {
   "attachments": {},
   "cell_type": "markdown",
   "metadata": {},
   "source": [
    "## Распаковываем архив"
   ]
  },
  {
   "attachments": {},
   "cell_type": "markdown",
   "metadata": {},
   "source": [
    "Распаковываем все файлы из архива"
   ]
  },
  {
   "cell_type": "code",
   "execution_count": null,
   "metadata": {},
   "outputs": [],
   "source": [
    "with zipfile.ZipFile('names.zip', 'r') as zipobj:\n",
    "    zipobj.extractall('name')"
   ]
  },
  {
   "attachments": {},
   "cell_type": "markdown",
   "metadata": {},
   "source": [
    "Читаем список файлов из архива"
   ]
  },
  {
   "cell_type": "code",
   "execution_count": null,
   "metadata": {},
   "outputs": [],
   "source": [
    "with zipfile.ZipFile('names.zip', 'r') as zipobj:\n",
    "    file_names = zipobj.namelist()\n",
    "    for name in file_names:\n",
    "        print(name)"
   ]
  },
  {
   "attachments": {},
   "cell_type": "markdown",
   "metadata": {},
   "source": [
    "Обработка файлов по одному"
   ]
  },
  {
   "cell_type": "code",
   "execution_count": null,
   "metadata": {},
   "outputs": [],
   "source": [
    "with zipfile.ZipFile('names.zip', 'r') as zipobj:\n",
    "    file_names = zipobj.namelist()\n",
    "    for name in file_names:\n",
    "        # Распаковываем один файл\n",
    "        zipobj.extract(name)\n",
    "        # Обрабатываем файл\n",
    "        with open(name, 'r') as f:\n",
    "            print(f.readline())\n",
    "        # Удаляем файл\n",
    "        path = Path(name)\n",
    "        path.unlink()"
   ]
  },
  {
   "attachments": {},
   "cell_type": "markdown",
   "metadata": {},
   "source": [
    "## Создаем архив"
   ]
  },
  {
   "attachments": {},
   "cell_type": "markdown",
   "metadata": {},
   "source": [
    "Создаем список Jupyter notebook в текущем каталоге"
   ]
  },
  {
   "cell_type": "code",
   "execution_count": null,
   "metadata": {},
   "outputs": [],
   "source": [
    "file_names = [file.name for file in Path.cwd().glob('*.ipynb')]"
   ]
  },
  {
   "cell_type": "code",
   "execution_count": null,
   "metadata": {},
   "outputs": [],
   "source": [
    "file_names"
   ]
  },
  {
   "cell_type": "code",
   "execution_count": null,
   "metadata": {},
   "outputs": [],
   "source": [
    "with zipfile.ZipFile('notebooks.zip', 'w') as zipobj:\n",
    "    for name in file_names:\n",
    "        zipobj.write(name)"
   ]
  },
  {
   "attachments": {},
   "cell_type": "markdown",
   "metadata": {},
   "source": [
    "Создание архива со сжатием.\n",
    "\n",
    "Документация по [типам сжатия в модуле zipfile](https://docs.python.org/3/library/zipfile.html#zipfile.ZIP_STORED)."
   ]
  },
  {
   "cell_type": "code",
   "execution_count": null,
   "metadata": {},
   "outputs": [],
   "source": [
    "with zipfile.ZipFile('notebooks_compressed.zip', 'w', \n",
    "                     compression=zipfile.ZIP_DEFLATED,\n",
    "                     compresslevel=9) as zipobj:\n",
    "    for name in file_names:\n",
    "        zipobj.write(name)"
   ]
  },
  {
   "cell_type": "code",
   "execution_count": null,
   "metadata": {},
   "outputs": [],
   "source": [
    "with zipfile.ZipFile('notebooks.bz2', 'w', compression=zipfile.ZIP_BZIP2) as zipobj:\n",
    "    for name in file_names:\n",
    "        zipobj.write(name)"
   ]
  }
 ],
 "metadata": {
  "kernelspec": {
   "display_name": ".venv",
   "language": "python",
   "name": "python3"
  },
  "language_info": {
   "codemirror_mode": {
    "name": "ipython",
    "version": 3
   },
   "file_extension": ".py",
   "mimetype": "text/x-python",
   "name": "python",
   "nbconvert_exporter": "python",
   "pygments_lexer": "ipython3",
   "version": "3.11.1"
  },
  "orig_nbformat": 4
 },
 "nbformat": 4,
 "nbformat_minor": 2
}
