{
 "cells": [
  {
   "cell_type": "markdown",
   "metadata": {},
   "source": [
    "# Жизненный цикл объекта"
   ]
  },
  {
   "cell_type": "code",
   "execution_count": null,
   "metadata": {},
   "outputs": [],
   "source": [
    "class Person:\n",
    "    # Метод инициализации\n",
    "    def __init__(self, first_name, last_name):\n",
    "        print(f\"Инициализация объекта класса Person {first_name} {last_name}\")\n",
    "        self.first_name = first_name\n",
    "        self.last_name = last_name\n",
    "\n",
    "\n",
    "    # Конструктор\n",
    "    def __new__(cls, *args, **kwargs):\n",
    "        print(\"Создание объекта класса Person\")\n",
    "        return super().__new__(cls)\n",
    "\n",
    "\n",
    "    # Финализатор\n",
    "    def __del__(self):\n",
    "        print(f\"Удаление персоны {self.first_name} {self.last_name}\")    "
   ]
  },
  {
   "cell_type": "code",
   "execution_count": null,
   "metadata": {},
   "outputs": [],
   "source": [
    "person_a = Person('Иван', 'Петров')\n",
    "print(person_a)"
   ]
  },
  {
   "cell_type": "code",
   "execution_count": null,
   "metadata": {},
   "outputs": [],
   "source": [
    "del person_a"
   ]
  }
 ],
 "metadata": {
  "kernelspec": {
   "display_name": ".venv",
   "language": "python",
   "name": "python3"
  },
  "language_info": {
   "codemirror_mode": {
    "name": "ipython",
    "version": 3
   },
   "file_extension": ".py",
   "mimetype": "text/x-python",
   "name": "python",
   "nbconvert_exporter": "python",
   "pygments_lexer": "ipython3",
   "version": "3.11.1"
  },
  "orig_nbformat": 4
 },
 "nbformat": 4,
 "nbformat_minor": 2
}
