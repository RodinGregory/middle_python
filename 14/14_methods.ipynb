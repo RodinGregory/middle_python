{
 "cells": [
  {
   "cell_type": "markdown",
   "metadata": {},
   "source": [
    "# Методы"
   ]
  },
  {
   "cell_type": "code",
   "execution_count": 4,
   "metadata": {},
   "outputs": [],
   "source": [
    "class Person:\n",
    "\n",
    "    def __init__(self, first_name, last_name):\n",
    "        self.first_name = first_name  # public\n",
    "        self.last_name = last_name    # public\n",
    "\n",
    "\n",
    "    # Метод экземпляра\n",
    "    def full_name(self):\n",
    "        return f\"{self.first_name} {self.last_name}\""
   ]
  },
  {
   "cell_type": "code",
   "execution_count": 5,
   "metadata": {},
   "outputs": [],
   "source": [
    "person_a = Person('Иван', 'Петров')"
   ]
  },
  {
   "cell_type": "code",
   "execution_count": 6,
   "metadata": {},
   "outputs": [
    {
     "data": {
      "text/plain": [
       "'Иван Петров'"
      ]
     },
     "execution_count": 6,
     "metadata": {},
     "output_type": "execute_result"
    }
   ],
   "source": [
    "person_a.full_name()"
   ]
  },
  {
   "cell_type": "markdown",
   "metadata": {},
   "source": [
    "## Методы класса"
   ]
  },
  {
   "cell_type": "code",
   "execution_count": 8,
   "metadata": {},
   "outputs": [],
   "source": [
    "class Person:\n",
    "    \n",
    "    # Атрибут класса\n",
    "    cls_attr = 'Общее значение для всех объектов класса'\n",
    "\n",
    "    \n",
    "    # Метод класса\n",
    "    @classmethod\n",
    "    def cls_method(cls, text):\n",
    "        cls.cls_attr = text\n",
    "\n",
    "    def __init__(self, first_name, last_name):\n",
    "        # Атрибуты экземпляра\n",
    "        self.first_name = first_name  # public\n",
    "        self.last_name = last_name    # public\n",
    "\n",
    "\n",
    "    # Метод экземпляра\n",
    "    def full_name(self):\n",
    "        return f\"{self.first_name} {self.last_name}\""
   ]
  },
  {
   "cell_type": "markdown",
   "metadata": {},
   "source": [
    "**Обращаемся к методу класса**"
   ]
  },
  {
   "cell_type": "code",
   "execution_count": 11,
   "metadata": {},
   "outputs": [
    {
     "data": {
      "text/plain": [
       "'Общее значение для всех объектов класса'"
      ]
     },
     "execution_count": 11,
     "metadata": {},
     "output_type": "execute_result"
    }
   ],
   "source": [
    "Person.cls_attr"
   ]
  },
  {
   "cell_type": "code",
   "execution_count": 13,
   "metadata": {},
   "outputs": [],
   "source": [
    "Person.cls_method('Новое общее значение для всех объектов класса')"
   ]
  },
  {
   "cell_type": "code",
   "execution_count": 14,
   "metadata": {},
   "outputs": [
    {
     "data": {
      "text/plain": [
       "'Новое общее значение для всех объектов класса'"
      ]
     },
     "execution_count": 14,
     "metadata": {},
     "output_type": "execute_result"
    }
   ],
   "source": [
    "Person.cls_attr"
   ]
  },
  {
   "cell_type": "code",
   "execution_count": 15,
   "metadata": {},
   "outputs": [],
   "source": [
    "person_a = Person('Иван', 'Петров')"
   ]
  },
  {
   "cell_type": "code",
   "execution_count": 17,
   "metadata": {},
   "outputs": [
    {
     "data": {
      "text/plain": [
       "'Новое общее значение для всех объектов класса'"
      ]
     },
     "execution_count": 17,
     "metadata": {},
     "output_type": "execute_result"
    }
   ],
   "source": [
    "person_a.cls_attr"
   ]
  },
  {
   "cell_type": "code",
   "execution_count": 18,
   "metadata": {},
   "outputs": [],
   "source": [
    "person_a.cls_method('Еще одно новое общее значение для всех объектов класса')"
   ]
  },
  {
   "cell_type": "code",
   "execution_count": 19,
   "metadata": {},
   "outputs": [
    {
     "data": {
      "text/plain": [
       "'Еще одно новое общее значение для всех объектов класса'"
      ]
     },
     "execution_count": 19,
     "metadata": {},
     "output_type": "execute_result"
    }
   ],
   "source": [
    "person_a.cls_attr"
   ]
  },
  {
   "cell_type": "code",
   "execution_count": 20,
   "metadata": {},
   "outputs": [
    {
     "data": {
      "text/plain": [
       "'Еще одно новое общее значение для всех объектов класса'"
      ]
     },
     "execution_count": 20,
     "metadata": {},
     "output_type": "execute_result"
    }
   ],
   "source": [
    "Person.cls_attr"
   ]
  },
  {
   "cell_type": "markdown",
   "metadata": {},
   "source": [
    "## Статические методы"
   ]
  },
  {
   "cell_type": "code",
   "execution_count": 21,
   "metadata": {},
   "outputs": [],
   "source": [
    "class Person:\n",
    "    \n",
    "    # Атрибут класса\n",
    "    cls_attr = 'Общее значение для всех объектов класса'\n",
    "\n",
    "    \n",
    "    # Статический метод\n",
    "    @staticmethod\n",
    "    def static_method():\n",
    "        print(\"Статический метод не обращается к атрибутам экземпляра или класса\")\n",
    "\n",
    "\n",
    "    # Метод класса\n",
    "    @classmethod\n",
    "    def cls_method(cls, text):\n",
    "        cls.cls_attr = text\n",
    "\n",
    "    def __init__(self, first_name, last_name):\n",
    "        # Атрибуты экземпляра\n",
    "        self.first_name = first_name  # public\n",
    "        self.last_name = last_name    # public\n",
    "\n",
    "\n",
    "    # Метод экземпляра\n",
    "    def full_name(self):\n",
    "        return f\"{self.first_name} {self.last_name}\""
   ]
  },
  {
   "cell_type": "code",
   "execution_count": 22,
   "metadata": {},
   "outputs": [
    {
     "name": "stdout",
     "output_type": "stream",
     "text": [
      "Статический метод не обращается к атрибутам экземпляра или класса\n"
     ]
    }
   ],
   "source": [
    "Person.static_method()"
   ]
  },
  {
   "cell_type": "code",
   "execution_count": 23,
   "metadata": {},
   "outputs": [],
   "source": [
    "person_a = Person('Иван', 'Петров')"
   ]
  },
  {
   "cell_type": "code",
   "execution_count": 24,
   "metadata": {},
   "outputs": [
    {
     "name": "stdout",
     "output_type": "stream",
     "text": [
      "Статический метод не обращается к атрибутам экземпляра или класса\n"
     ]
    }
   ],
   "source": [
    "person_a.static_method()"
   ]
  },
  {
   "cell_type": "code",
   "execution_count": null,
   "metadata": {},
   "outputs": [],
   "source": []
  }
 ],
 "metadata": {
  "kernelspec": {
   "display_name": ".venv",
   "language": "python",
   "name": "python3"
  },
  "language_info": {
   "codemirror_mode": {
    "name": "ipython",
    "version": 3
   },
   "file_extension": ".py",
   "mimetype": "text/x-python",
   "name": "python",
   "nbconvert_exporter": "python",
   "pygments_lexer": "ipython3",
   "version": "3.11.1"
  },
  "orig_nbformat": 4
 },
 "nbformat": 4,
 "nbformat_minor": 2
}
