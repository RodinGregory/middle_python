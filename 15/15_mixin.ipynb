{
 "cells": [
  {
   "cell_type": "markdown",
   "metadata": {},
   "source": [
    "# Mixin"
   ]
  },
  {
   "cell_type": "markdown",
   "metadata": {},
   "source": [
    "Описываем класс Mixin для чтения параметров из конфигурационного файла"
   ]
  },
  {
   "cell_type": "code",
   "execution_count": null,
   "metadata": {},
   "outputs": [],
   "source": [
    "import configparser\n",
    "from pathlib import Path\n",
    "    \n",
    "class SettingsFileMixin:\n",
    "    # Путь к конфигурационному файле\n",
    "    settings_path = Path('my_program.conf')\n",
    "    # Парсер параметров\n",
    "    config = configparser.ConfigParser()\n",
    "\n",
    "    def read_setting(self, key):\n",
    "        # Читаем файл с параметрами\n",
    "        self.config.read(self.settings_path)\n",
    "        try:\n",
    "            # Возвращаем нужный параметр\n",
    "            # Атрибут settings_section не определен в Mixin \n",
    "            return self.config[self.settings_section][key]\n",
    "        except KeyError:\n",
    "            raise KeyError(\"Неправильная секция в файле конфигурации\")"
   ]
  },
  {
   "cell_type": "markdown",
   "metadata": {},
   "source": [
    "Создаем класс, наследуемый от Mixin"
   ]
  },
  {
   "cell_type": "code",
   "execution_count": null,
   "metadata": {},
   "outputs": [],
   "source": [
    "class DbController(SettingsFileMixin):\n",
    "    def __init__(self):\n",
    "        # Определяем атрибут, которого не хватает в Mixin\n",
    "        self.settings_section = 'DATABASE'\n",
    "\n",
    "    def connect(self):\n",
    "        # Вызываем методы класса Mixin\n",
    "        hostname = self.read_setting('HostName')\n",
    "        username = self.read_setting('UserName')\n",
    "        password = self.read_setting('Password')\n",
    "        print(f'Параметры соединения с базой данных: {hostname}, {username}, {password}')"
   ]
  },
  {
   "cell_type": "code",
   "execution_count": null,
   "metadata": {},
   "outputs": [],
   "source": [
    "d = DbController()"
   ]
  },
  {
   "cell_type": "code",
   "execution_count": null,
   "metadata": {},
   "outputs": [],
   "source": [
    "d.connect()"
   ]
  }
 ],
 "metadata": {
  "kernelspec": {
   "display_name": ".venv",
   "language": "python",
   "name": "python3"
  },
  "language_info": {
   "codemirror_mode": {
    "name": "ipython",
    "version": 3
   },
   "file_extension": ".py",
   "mimetype": "text/x-python",
   "name": "python",
   "nbconvert_exporter": "python",
   "pygments_lexer": "ipython3",
   "version": "3.11.1"
  },
  "orig_nbformat": 4
 },
 "nbformat": 4,
 "nbformat_minor": 2
}
