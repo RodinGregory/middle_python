{
 "cells": [
  {
   "cell_type": "code",
   "execution_count": null,
   "metadata": {},
   "outputs": [],
   "source": [
    "# Базовый класс карандаш\n",
    "class Pencil:\n",
    "\n",
    "    def __init__(self, color=\"серый\"):\n",
    "        self.color = color\n",
    "    \n",
    "    # Рисуем изображение карандашом\n",
    "    def draw_picture(self):\n",
    "        return f\"Нарисован рисунок цветом '{self.color}'.\"\n",
    "\n",
    "\n",
    "# Производный класс ручка\n",
    "class Pen(Pencil):\n",
    "\n",
    "    # Подписываем документ ручкой\n",
    "    def sign_document(self):\n",
    "        if self.color not in (\"синий\", \"чёрный\", \"фиолетовый\"):\n",
    "            return f\"Ручкой цвета '{self.color}' нельзя подписать документ.\"\n",
    "        return f\"Подписан документ.\""
   ]
  }
 ],
 "metadata": {
  "language_info": {
   "name": "python"
  },
  "orig_nbformat": 4
 },
 "nbformat": 4,
 "nbformat_minor": 2
}
