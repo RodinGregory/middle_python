{
 "cells": [
  {
   "cell_type": "code",
   "execution_count": null,
   "metadata": {},
   "outputs": [],
   "source": [
    "from abc import ABC, abstractmethod\n",
    "\n",
    "class ChessPiece(ABC):\n",
    "    # Общий метод\n",
    "    def draw(self):\n",
    "        print(\"Рисование шахматной фигуры\")\n",
    "\n",
    "    # Абстрактный метод\n",
    "    @abstractmethod\n",
    "    def move(self):\n",
    "        pass"
   ]
  }
 ],
 "metadata": {
  "language_info": {
   "name": "python"
  },
  "orig_nbformat": 4
 },
 "nbformat": 4,
 "nbformat_minor": 2
}
