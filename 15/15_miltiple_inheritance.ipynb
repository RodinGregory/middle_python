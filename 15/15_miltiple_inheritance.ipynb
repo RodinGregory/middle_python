{
 "cells": [
  {
   "cell_type": "code",
   "execution_count": 4,
   "metadata": {},
   "outputs": [],
   "source": [
    "class Food:\n",
    "    def __str__(self):\n",
    "        return \"Что это за еда?\"\n",
    "    \n",
    "class Pizza(Food):\n",
    "    def __str__(self):\n",
    "        return \"Пицца.\"\n",
    "\n",
    "class Sandwich(Food):\n",
    "    def __str__(self):\n",
    "        return \"Сендвич.\"\n",
    "\n",
    "class Calzone(Pizza, Sandwich):\n",
    "    pass "
   ]
  },
  {
   "cell_type": "code",
   "execution_count": 5,
   "metadata": {},
   "outputs": [],
   "source": [
    "a = Calzone()"
   ]
  },
  {
   "cell_type": "code",
   "execution_count": 6,
   "metadata": {},
   "outputs": [
    {
     "name": "stdout",
     "output_type": "stream",
     "text": [
      "Сендвич.\n"
     ]
    }
   ],
   "source": [
    "print(a)"
   ]
  }
 ],
 "metadata": {
  "kernelspec": {
   "display_name": ".venv",
   "language": "python",
   "name": "python3"
  },
  "language_info": {
   "codemirror_mode": {
    "name": "ipython",
    "version": 3
   },
   "file_extension": ".py",
   "mimetype": "text/x-python",
   "name": "python",
   "nbconvert_exporter": "python",
   "pygments_lexer": "ipython3",
   "version": "3.11.1"
  },
  "orig_nbformat": 4
 },
 "nbformat": 4,
 "nbformat_minor": 2
}
