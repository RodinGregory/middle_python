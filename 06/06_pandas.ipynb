{
 "cells": [
  {
   "attachments": {},
   "cell_type": "markdown",
   "metadata": {},
   "source": [
    "# Работа с SQL Alchemy из Pandas \n",
    "\n",
    "<a target=\"_blank\" href=\"https://colab.research.google.com/github/sozykin/middle_python/blob/main/06/06_pandas.ipynb\">\n",
    "  <img src=\"https://colab.research.google.com/assets/colab-badge.svg\" alt=\"Open In Colab\"/>\n",
    "</a>"
   ]
  },
  {
   "cell_type": "code",
   "execution_count": 1,
   "metadata": {},
   "outputs": [],
   "source": [
    "import pandas as pd\n",
    "from sqlalchemy import create_engine\n",
    "from sqlalchemy import URL\n",
    "from sqlalchemy import select\n",
    "from sqlalchemy.orm import Session\n",
    "from sqlalchemy import text"
   ]
  },
  {
   "attachments": {},
   "cell_type": "markdown",
   "metadata": {},
   "source": [
    "## Загружаем данные из файла JSON"
   ]
  },
  {
   "cell_type": "code",
   "execution_count": 2,
   "metadata": {},
   "outputs": [],
   "source": [
    "names = pd.read_json(\"names_f.json\",\n",
    "                     encoding=\"Windows-1251\")"
   ]
  },
  {
   "attachments": {},
   "cell_type": "markdown",
   "metadata": {},
   "source": [
    "## Создаем подключение к базе данных PostgreSQL в SQLAlchemy"
   ]
  },
  {
   "cell_type": "code",
   "execution_count": 3,
   "metadata": {},
   "outputs": [],
   "source": [
    "url = URL.create(\n",
    "    \"postgresql+psycopg2\",\n",
    "    username=\"postgres\",\n",
    "    password=\"1234qwer\",  \n",
    "    host=\"localhost\",\n",
    "    database=\"postgres\",\n",
    ")"
   ]
  },
  {
   "cell_type": "code",
   "execution_count": 4,
   "metadata": {},
   "outputs": [],
   "source": [
    "engine = create_engine(url, echo=True)"
   ]
  },
  {
   "attachments": {},
   "cell_type": "markdown",
   "metadata": {},
   "source": [
    "## Записываем данные в PostgreSQL средствами Pandas"
   ]
  },
  {
   "cell_type": "code",
   "execution_count": 5,
   "metadata": {},
   "outputs": [
    {
     "name": "stdout",
     "output_type": "stream",
     "text": [
      "2023-06-19 07:51:51,212 INFO sqlalchemy.engine.Engine select pg_catalog.version()\n",
      "2023-06-19 07:51:51,213 INFO sqlalchemy.engine.Engine [raw sql] {}\n",
      "2023-06-19 07:51:51,214 INFO sqlalchemy.engine.Engine select current_schema()\n",
      "2023-06-19 07:51:51,215 INFO sqlalchemy.engine.Engine [raw sql] {}\n",
      "2023-06-19 07:51:51,215 INFO sqlalchemy.engine.Engine show standard_conforming_strings\n",
      "2023-06-19 07:51:51,215 INFO sqlalchemy.engine.Engine [raw sql] {}\n",
      "2023-06-19 07:51:51,216 INFO sqlalchemy.engine.Engine BEGIN (implicit)\n",
      "2023-06-19 07:51:51,219 INFO sqlalchemy.engine.Engine SELECT pg_catalog.pg_class.relname \n",
      "FROM pg_catalog.pg_class JOIN pg_catalog.pg_namespace ON pg_catalog.pg_namespace.oid = pg_catalog.pg_class.relnamespace \n",
      "WHERE pg_catalog.pg_class.relname = %(table_name)s AND pg_catalog.pg_class.relkind = ANY (ARRAY[%(param_1)s, %(param_2)s, %(param_3)s, %(param_4)s, %(param_5)s]) AND pg_catalog.pg_table_is_visible(pg_catalog.pg_class.oid) AND pg_catalog.pg_namespace.nspname != %(nspname_1)s\n",
      "2023-06-19 07:51:51,220 INFO sqlalchemy.engine.Engine [generated in 0.00043s] {'table_name': 'names_pandas', 'param_1': 'r', 'param_2': 'p', 'param_3': 'f', 'param_4': 'v', 'param_5': 'm', 'nspname_1': 'pg_catalog'}\n",
      "2023-06-19 07:51:51,222 INFO sqlalchemy.engine.Engine \n",
      "CREATE TABLE names_pandas (\n",
      "\t\"Name\" TEXT, \n",
      "\t\"NumberOfPersons\" BIGINT, \n",
      "\t\"Year\" BIGINT, \n",
      "\t\"Month\" TEXT\n",
      ")\n",
      "\n",
      "\n",
      "2023-06-19 07:51:51,223 INFO sqlalchemy.engine.Engine [no key 0.00032s] {}\n",
      "2023-06-19 07:51:51,251 INFO sqlalchemy.engine.Engine INSERT INTO names_pandas (\"Name\", \"NumberOfPersons\", \"Year\", \"Month\") VALUES (%(Name__0)s, %(NumberOfPersons__0)s, %(Year__0)s, %(Month__0)s), (%(Name__1)s, %(NumberOfPersons__1)s, %(Year__1)s, %(Month__1)s), (%(Name__2)s, %(NumberOfPersons__2)s, %(Y ... 73285 characters truncated ... ar__998)s, %(Month__998)s), (%(Name__999)s, %(NumberOfPersons__999)s, %(Year__999)s, %(Month__999)s)\n",
      "2023-06-19 07:51:51,252 INFO sqlalchemy.engine.Engine [generated in 0.01484s (insertmanyvalues) 1/10 (unordered)] {'NumberOfPersons__0': 252, 'Name__0': 'Мария', 'Month__0': 'январь', 'Year__0': 2015, 'NumberOfPersons__1': 224, 'Name__1': 'Анастасия', 'Month__1': 'январь', 'Year__1': 2015, 'NumberOfPersons__2': 190, 'Name__2': 'Анна', 'Month__2': 'январь', 'Year__2': 2015, 'NumberOfPersons__3': 190, 'Name__3': 'Варвара', 'Month__3': 'январь', 'Year__3': 2015, 'NumberOfPersons__4': 186, 'Name__4': 'Виктория', 'Month__4': 'январь', 'Year__4': 2015, 'NumberOfPersons__5': 8, 'Name__5': 'Амелия', 'Month__5': 'май', 'Year__5': 2015, 'NumberOfPersons__6': 8, 'Name__6': 'Камила', 'Month__6': 'май', 'Year__6': 2015, 'NumberOfPersons__7': 8, 'Name__7': 'Евангелина', 'Month__7': 'май', 'Year__7': 2015, 'NumberOfPersons__8': 8, 'Name__8': 'Альбина', 'Month__8': 'май', 'Year__8': 2015, 'NumberOfPersons__9': 8, 'Name__9': 'Владислава', 'Month__9': 'май', 'Year__9': 2015, 'NumberOfPersons__10': 8, 'Name__10': 'Айлин', 'Month__10': 'май', 'Year__10': 2015, 'NumberOfPersons__11': 7, 'Name__11': 'Евдокия', 'Month__11': 'май', 'Year__11': 2015, 'NumberOfPersons__12': 7, 'Name__12': 'Марьям' ... 3900 parameters truncated ... 'Month__987': 'апрель', 'Year__987': 2015, 'NumberOfPersons__988': 11, 'Name__988': 'Евангелина', 'Month__988': 'апрель', 'Year__988': 2015, 'NumberOfPersons__989': 11, 'Name__989': 'Амелия', 'Month__989': 'апрель', 'Year__989': 2015, 'NumberOfPersons__990': 11, 'Name__990': 'Валентина', 'Month__990': 'апрель', 'Year__990': 2015, 'NumberOfPersons__991': 10, 'Name__991': 'Нина', 'Month__991': 'апрель', 'Year__991': 2015, 'NumberOfPersons__992': 10, 'Name__992': 'Марианна', 'Month__992': 'апрель', 'Year__992': 2015, 'NumberOfPersons__993': 10, 'Name__993': 'Малика', 'Month__993': 'апрель', 'Year__993': 2015, 'NumberOfPersons__994': 10, 'Name__994': 'Агния', 'Month__994': 'апрель', 'Year__994': 2015, 'NumberOfPersons__995': 9, 'Name__995': 'Евдокия', 'Month__995': 'апрель', 'Year__995': 2015, 'NumberOfPersons__996': 9, 'Name__996': 'Камилла', 'Month__996': 'апрель', 'Year__996': 2015, 'NumberOfPersons__997': 8, 'Name__997': 'Мила', 'Month__997': 'апрель', 'Year__997': 2015, 'NumberOfPersons__998': 8, 'Name__998': 'Лейла', 'Month__998': 'апрель', 'Year__998': 2015, 'NumberOfPersons__999': 8, 'Name__999': 'Каролина', 'Month__999': 'апрель', 'Year__999': 2015}\n",
      "2023-06-19 07:51:51,264 INFO sqlalchemy.engine.Engine INSERT INTO names_pandas (\"Name\", \"NumberOfPersons\", \"Year\", \"Month\") VALUES (%(Name__0)s, %(NumberOfPersons__0)s, %(Year__0)s, %(Month__0)s), (%(Name__1)s, %(NumberOfPersons__1)s, %(Year__1)s, %(Month__1)s), (%(Name__2)s, %(NumberOfPersons__2)s, %(Y ... 73285 characters truncated ... ar__998)s, %(Month__998)s), (%(Name__999)s, %(NumberOfPersons__999)s, %(Year__999)s, %(Month__999)s)\n",
      "2023-06-19 07:51:51,265 INFO sqlalchemy.engine.Engine [insertmanyvalues 2/10 (unordered)] {'NumberOfPersons__0': 8, 'Name__0': 'Людмила', 'Month__0': 'апрель', 'Year__0': 2015, 'NumberOfPersons__1': 8, 'Name__1': 'Лада', 'Month__1': 'апрель', 'Year__1': 2015, 'NumberOfPersons__2': 8, 'Name__2': 'Аглая', 'Month__2': 'апрель', 'Year__2': 2015, 'NumberOfPersons__3': 8, 'Name__3': 'Мадина', 'Month__3': 'апрель', 'Year__3': 2015, 'NumberOfPersons__4': 8, 'Name__4': 'Марьяна', 'Month__4': 'апрель', 'Year__4': 2015, 'NumberOfPersons__5': 8, 'Name__5': 'Алеся', 'Month__5': 'апрель', 'Year__5': 2015, 'NumberOfPersons__6': 8, 'Name__6': 'Самира', 'Month__6': 'апрель', 'Year__6': 2015, 'NumberOfPersons__7': 7, 'Name__7': 'Влада', 'Month__7': 'апрель', 'Year__7': 2015, 'NumberOfPersons__8': 7, 'Name__8': 'Амира', 'Month__8': 'апрель', 'Year__8': 2015, 'NumberOfPersons__9': 7, 'Name__9': 'Луиза', 'Month__9': 'апрель', 'Year__9': 2015, 'NumberOfPersons__10': 7, 'Name__10': 'Ясмина', 'Month__10': 'апрель', 'Year__10': 2015, 'NumberOfPersons__11': 7, 'Name__11': 'Нелли', 'Month__11': 'апрель', 'Year__11': 2015, 'NumberOfPersons__12': 7, 'Name__12': 'Василина' ... 3900 parameters truncated ... 'Month__987': 'июль', 'Year__987': 2016, 'NumberOfPersons__988': 23, 'Name__988': 'Милена', 'Month__988': 'июль', 'Year__988': 2016, 'NumberOfPersons__989': 23, 'Name__989': 'Надежда', 'Month__989': 'июль', 'Year__989': 2016, 'NumberOfPersons__990': 22, 'Name__990': 'Ясмина', 'Month__990': 'июль', 'Year__990': 2016, 'NumberOfPersons__991': 21, 'Name__991': 'Олеся', 'Month__991': 'июль', 'Year__991': 2016, 'NumberOfPersons__992': 20, 'Name__992': 'Марьям', 'Month__992': 'июль', 'Year__992': 2016, 'NumberOfPersons__993': 18, 'Name__993': 'Николь', 'Month__993': 'июль', 'Year__993': 2016, 'NumberOfPersons__994': 17, 'Name__994': 'Аиша', 'Month__994': 'июль', 'Year__994': 2016, 'NumberOfPersons__995': 17, 'Name__995': 'Аделина', 'Month__995': 'июль', 'Year__995': 2016, 'NumberOfPersons__996': 17, 'Name__996': 'Лилия', 'Month__996': 'июль', 'Year__996': 2016, 'NumberOfPersons__997': 17, 'Name__997': 'Нина', 'Month__997': 'июль', 'Year__997': 2016, 'NumberOfPersons__998': 17, 'Name__998': 'Элина', 'Month__998': 'июль', 'Year__998': 2016, 'NumberOfPersons__999': 16, 'Name__999': 'Амелия', 'Month__999': 'июль', 'Year__999': 2016}\n",
      "2023-06-19 07:51:51,279 INFO sqlalchemy.engine.Engine INSERT INTO names_pandas (\"Name\", \"NumberOfPersons\", \"Year\", \"Month\") VALUES (%(Name__0)s, %(NumberOfPersons__0)s, %(Year__0)s, %(Month__0)s), (%(Name__1)s, %(NumberOfPersons__1)s, %(Year__1)s, %(Month__1)s), (%(Name__2)s, %(NumberOfPersons__2)s, %(Y ... 73285 characters truncated ... ar__998)s, %(Month__998)s), (%(Name__999)s, %(NumberOfPersons__999)s, %(Year__999)s, %(Month__999)s)\n",
      "2023-06-19 07:51:51,280 INFO sqlalchemy.engine.Engine [insertmanyvalues 3/10 (unordered)] {'NumberOfPersons__0': 16, 'Name__0': 'Амира', 'Month__0': 'июль', 'Year__0': 2016, 'NumberOfPersons__1': 14, 'Name__1': 'Антонина', 'Month__1': 'июль', 'Year__1': 2016, 'NumberOfPersons__2': 14, 'Name__2': 'Марта', 'Month__2': 'июль', 'Year__2': 2016, 'NumberOfPersons__3': 13, 'Name__3': 'Агния', 'Month__3': 'июль', 'Year__3': 2016, 'NumberOfPersons__4': 13, 'Name__4': 'Ариана', 'Month__4': 'июль', 'Year__4': 2016, 'NumberOfPersons__5': 13, 'Name__5': 'Асия', 'Month__5': 'июль', 'Year__5': 2016, 'NumberOfPersons__6': 13, 'Name__6': 'Лидия', 'Month__6': 'июль', 'Year__6': 2016, 'NumberOfPersons__7': 13, 'Name__7': 'Наталья', 'Month__7': 'июль', 'Year__7': 2016, 'NumberOfPersons__8': 13, 'Name__8': 'Сабина', 'Month__8': 'июль', 'Year__8': 2016, 'NumberOfPersons__9': 13, 'Name__9': 'Серафима', 'Month__9': 'июль', 'Year__9': 2016, 'NumberOfPersons__10': 12, 'Name__10': 'Алия', 'Month__10': 'июль', 'Year__10': 2016, 'NumberOfPersons__11': 17, 'Name__11': 'Валентина', 'Month__11': 'июль', 'Year__11': 2016, 'NumberOfPersons__12': 12, 'Name__12': 'Владислава' ... 3900 parameters truncated ... 'Month__987': 'июнь', 'Year__987': 2017, 'NumberOfPersons__988': 9, 'Name__988': 'Каролина', 'Month__988': 'июнь', 'Year__988': 2017, 'NumberOfPersons__989': 9, 'Name__989': 'Лада', 'Month__989': 'июнь', 'Year__989': 2017, 'NumberOfPersons__990': 9, 'Name__990': 'Алисия', 'Month__990': 'июнь', 'Year__990': 2017, 'NumberOfPersons__991': 8, 'Name__991': 'Аделина', 'Month__991': 'июнь', 'Year__991': 2017, 'NumberOfPersons__992': 8, 'Name__992': 'Антонина', 'Month__992': 'июнь', 'Year__992': 2017, 'NumberOfPersons__993': 8, 'Name__993': 'Мила', 'Month__993': 'июнь', 'Year__993': 2017, 'NumberOfPersons__994': 8, 'Name__994': 'Раяна', 'Month__994': 'июнь', 'Year__994': 2017, 'NumberOfPersons__995': 8, 'Name__995': 'Сабина', 'Month__995': 'июнь', 'Year__995': 2017, 'NumberOfPersons__996': 8, 'Name__996': 'Эмма', 'Month__996': 'июнь', 'Year__996': 2017, 'NumberOfPersons__997': 7, 'Name__997': 'Юлиана', 'Month__997': 'июнь', 'Year__997': 2017, 'NumberOfPersons__998': 7, 'Name__998': 'Сара', 'Month__998': 'июнь', 'Year__998': 2017, 'NumberOfPersons__999': 7, 'Name__999': 'Лидия', 'Month__999': 'июнь', 'Year__999': 2017}\n",
      "2023-06-19 07:51:51,298 INFO sqlalchemy.engine.Engine INSERT INTO names_pandas (\"Name\", \"NumberOfPersons\", \"Year\", \"Month\") VALUES (%(Name__0)s, %(NumberOfPersons__0)s, %(Year__0)s, %(Month__0)s), (%(Name__1)s, %(NumberOfPersons__1)s, %(Year__1)s, %(Month__1)s), (%(Name__2)s, %(NumberOfPersons__2)s, %(Y ... 73285 characters truncated ... ar__998)s, %(Month__998)s), (%(Name__999)s, %(NumberOfPersons__999)s, %(Year__999)s, %(Month__999)s)\n",
      "2023-06-19 07:51:51,299 INFO sqlalchemy.engine.Engine [insertmanyvalues 4/10 (unordered)] {'NumberOfPersons__0': 311, 'Name__0': 'София, Софья', 'Month__0': 'июль', 'Year__0': 2017, 'NumberOfPersons__1': 249, 'Name__1': 'Мария', 'Month__1': 'июль', 'Year__1': 2017, 'NumberOfPersons__2': 245, 'Name__2': 'Анна', 'Month__2': 'июль', 'Year__2': 2017, 'NumberOfPersons__3': 187, 'Name__3': 'Виктория', 'Month__3': 'июль', 'Year__3': 2017, 'NumberOfPersons__4': 187, 'Name__4': 'Анастасия', 'Month__4': 'июль', 'Year__4': 2017, 'NumberOfPersons__5': 185, 'Name__5': 'Алиса', 'Month__5': 'июль', 'Year__5': 2017, 'NumberOfPersons__6': 181, 'Name__6': 'Полина', 'Month__6': 'июль', 'Year__6': 2017, 'NumberOfPersons__7': 180, 'Name__7': 'Елизавета', 'Month__7': 'июль', 'Year__7': 2017, 'NumberOfPersons__8': 173, 'Name__8': 'Александра', 'Month__8': 'июль', 'Year__8': 2017, 'NumberOfPersons__9': 162, 'Name__9': 'Екатерина', 'Month__9': 'июль', 'Year__9': 2017, 'NumberOfPersons__10': 336, 'Name__10': 'София, Софья', 'Month__10': 'август', 'Year__10': 2017, 'NumberOfPersons__11': 270, 'Name__11': 'Анна', 'Month__11': 'август', 'Year__11': 2017, 'NumberOfPersons__12': 242, 'Name__12': 'Мария' ... 3900 parameters truncated ... 'Month__987': 'апрель', 'Year__987': 2018, 'NumberOfPersons__988': 8, 'Name__988': 'Анжелика', 'Month__988': 'апрель', 'Year__988': 2018, 'NumberOfPersons__989': 7, 'Name__989': 'Амира', 'Month__989': 'апрель', 'Year__989': 2018, 'NumberOfPersons__990': 7, 'Name__990': 'Ариана', 'Month__990': 'апрель', 'Year__990': 2018, 'NumberOfPersons__991': 7, 'Name__991': 'Аврора', 'Month__991': 'апрель', 'Year__991': 2018, 'NumberOfPersons__992': 7, 'Name__992': 'Владислава', 'Month__992': 'апрель', 'Year__992': 2018, 'NumberOfPersons__993': 7, 'Name__993': 'Медина', 'Month__993': 'апрель', 'Year__993': 2018, 'NumberOfPersons__994': 6, 'Name__994': 'Мила', 'Month__994': 'апрель', 'Year__994': 2018, 'NumberOfPersons__995': 6, 'Name__995': 'Милена', 'Month__995': 'апрель', 'Year__995': 2018, 'NumberOfPersons__996': 6, 'Name__996': 'Эвелина', 'Month__996': 'апрель', 'Year__996': 2018, 'NumberOfPersons__997': 6, 'Name__997': 'Евангелина', 'Month__997': 'апрель', 'Year__997': 2018, 'NumberOfPersons__998': 6, 'Name__998': 'Лилия', 'Month__998': 'апрель', 'Year__998': 2018, 'NumberOfPersons__999': 6, 'Name__999': 'Лада', 'Month__999': 'апрель', 'Year__999': 2018}\n",
      "2023-06-19 07:51:51,311 INFO sqlalchemy.engine.Engine INSERT INTO names_pandas (\"Name\", \"NumberOfPersons\", \"Year\", \"Month\") VALUES (%(Name__0)s, %(NumberOfPersons__0)s, %(Year__0)s, %(Month__0)s), (%(Name__1)s, %(NumberOfPersons__1)s, %(Year__1)s, %(Month__1)s), (%(Name__2)s, %(NumberOfPersons__2)s, %(Y ... 73285 characters truncated ... ar__998)s, %(Month__998)s), (%(Name__999)s, %(NumberOfPersons__999)s, %(Year__999)s, %(Month__999)s)\n",
      "2023-06-19 07:51:51,311 INFO sqlalchemy.engine.Engine [insertmanyvalues 5/10 (unordered)] {'NumberOfPersons__0': 281, 'Name__0': 'София, Софья', 'Month__0': 'май', 'Year__0': 2018, 'NumberOfPersons__1': 206, 'Name__1': 'Виктория', 'Month__1': 'май', 'Year__1': 2018, 'NumberOfPersons__2': 204, 'Name__2': 'Мария', 'Month__2': 'май', 'Year__2': 2018, 'NumberOfPersons__3': 186, 'Name__3': 'Анастасия', 'Month__3': 'май', 'Year__3': 2018, 'NumberOfPersons__4': 184, 'Name__4': 'Алиса', 'Month__4': 'май', 'Year__4': 2018, 'NumberOfPersons__5': 176, 'Name__5': 'Анна', 'Month__5': 'май', 'Year__5': 2018, 'NumberOfPersons__6': 150, 'Name__6': 'Александра', 'Month__6': 'май', 'Year__6': 2018, 'NumberOfPersons__7': 150, 'Name__7': 'Полина', 'Month__7': 'май', 'Year__7': 2018, 'NumberOfPersons__8': 141, 'Name__8': 'Ева', 'Month__8': 'май', 'Year__8': 2018, 'NumberOfPersons__9': 131, 'Name__9': 'Екатерина', 'Month__9': 'май', 'Year__9': 2018, 'NumberOfPersons__10': 130, 'Name__10': 'Елизавета', 'Month__10': 'май', 'Year__10': 2018, 'NumberOfPersons__11': 121, 'Name__11': 'Дарья', 'Month__11': 'май', 'Year__11': 2018, 'NumberOfPersons__12': 115, 'Name__12': 'Арина' ... 3900 parameters truncated ... 'Month__987': 'Февраль', 'Year__987': 2019, 'NumberOfPersons__988': 9, 'Name__988': 'Теона', 'Month__988': 'Февраль', 'Year__988': 2019, 'NumberOfPersons__989': 9, 'Name__989': 'Милена', 'Month__989': 'Февраль', 'Year__989': 2019, 'NumberOfPersons__990': 8, 'Name__990': 'Лея', 'Month__990': 'Февраль', 'Year__990': 2019, 'NumberOfPersons__991': 8, 'Name__991': 'Раяна', 'Month__991': 'Февраль', 'Year__991': 2019, 'NumberOfPersons__992': 8, 'Name__992': 'Марианна', 'Month__992': 'Февраль', 'Year__992': 2019, 'NumberOfPersons__993': 8, 'Name__993': 'Регина', 'Month__993': 'Февраль', 'Year__993': 2019, 'NumberOfPersons__994': 7, 'Name__994': 'Айша', 'Month__994': 'Февраль', 'Year__994': 2019, 'NumberOfPersons__995': 7, 'Name__995': 'Лейла', 'Month__995': 'Февраль', 'Year__995': 2019, 'NumberOfPersons__996': 7, 'Name__996': 'Марина', 'Month__996': 'Февраль', 'Year__996': 2019, 'NumberOfPersons__997': 7, 'Name__997': 'Асия', 'Month__997': 'Февраль', 'Year__997': 2019, 'NumberOfPersons__998': 7, 'Name__998': 'Наталья', 'Month__998': 'Февраль', 'Year__998': 2019, 'NumberOfPersons__999': 7, 'Name__999': 'Станислава', 'Month__999': 'Февраль', 'Year__999': 2019}\n",
      "2023-06-19 07:51:51,323 INFO sqlalchemy.engine.Engine INSERT INTO names_pandas (\"Name\", \"NumberOfPersons\", \"Year\", \"Month\") VALUES (%(Name__0)s, %(NumberOfPersons__0)s, %(Year__0)s, %(Month__0)s), (%(Name__1)s, %(NumberOfPersons__1)s, %(Year__1)s, %(Month__1)s), (%(Name__2)s, %(NumberOfPersons__2)s, %(Y ... 73285 characters truncated ... ar__998)s, %(Month__998)s), (%(Name__999)s, %(NumberOfPersons__999)s, %(Year__999)s, %(Month__999)s)\n",
      "2023-06-19 07:51:51,323 INFO sqlalchemy.engine.Engine [insertmanyvalues 6/10 (unordered)] {'NumberOfPersons__0': 225, 'Name__0': 'Мария', 'Month__0': 'Март', 'Year__0': 2019, 'NumberOfPersons__1': 222, 'Name__1': 'Анна', 'Month__1': 'Март', 'Year__1': 2019, 'NumberOfPersons__2': 188, 'Name__2': 'Алиса', 'Month__2': 'Март', 'Year__2': 2019, 'NumberOfPersons__3': 176, 'Name__3': 'Полина', 'Month__3': 'Март', 'Year__3': 2019, 'NumberOfPersons__4': 174, 'Name__4': 'Виктория', 'Month__4': 'Март', 'Year__4': 2019, 'NumberOfPersons__5': 164, 'Name__5': 'София', 'Month__5': 'Март', 'Year__5': 2019, 'NumberOfPersons__6': 155, 'Name__6': 'Анастасия', 'Month__6': 'Март', 'Year__6': 2019, 'NumberOfPersons__7': 144, 'Name__7': 'Варвара', 'Month__7': 'Март', 'Year__7': 2019, 'NumberOfPersons__8': 144, 'Name__8': 'Елизавета', 'Month__8': 'Март', 'Year__8': 2019, 'NumberOfPersons__9': 126, 'Name__9': 'Александра', 'Month__9': 'Март', 'Year__9': 2019, 'NumberOfPersons__10': 122, 'Name__10': 'Дарья', 'Month__10': 'Март', 'Year__10': 2019, 'NumberOfPersons__11': 119, 'Name__11': 'Екатерина', 'Month__11': 'Март', 'Year__11': 2019, 'NumberOfPersons__12': 117, 'Name__12': 'Ева' ... 3900 parameters truncated ... 'Month__987': 'Декабрь', 'Year__987': 2019, 'NumberOfPersons__988': 8, 'Name__988': 'Эвелина', 'Month__988': 'Декабрь', 'Year__988': 2019, 'NumberOfPersons__989': 8, 'Name__989': 'Марианна', 'Month__989': 'Декабрь', 'Year__989': 2019, 'NumberOfPersons__990': 8, 'Name__990': 'Антонина', 'Month__990': 'Декабрь', 'Year__990': 2019, 'NumberOfPersons__991': 8, 'Name__991': 'Мелисса', 'Month__991': 'Декабрь', 'Year__991': 2019, 'NumberOfPersons__992': 7, 'Name__992': 'Зоя', 'Month__992': 'Декабрь', 'Year__992': 2019, 'NumberOfPersons__993': 7, 'Name__993': 'Пелагея', 'Month__993': 'Декабрь', 'Year__993': 2019, 'NumberOfPersons__994': 7, 'Name__994': 'Арианна', 'Month__994': 'Декабрь', 'Year__994': 2019, 'NumberOfPersons__995': 7, 'Name__995': 'Лия', 'Month__995': 'Декабрь', 'Year__995': 2019, 'NumberOfPersons__996': 7, 'Name__996': 'Виолетта', 'Month__996': 'Декабрь', 'Year__996': 2019, 'NumberOfPersons__997': 7, 'Name__997': 'Сабрина', 'Month__997': 'Декабрь', 'Year__997': 2019, 'NumberOfPersons__998': 7, 'Name__998': 'Муслима', 'Month__998': 'Декабрь', 'Year__998': 2019, 'NumberOfPersons__999': 7, 'Name__999': 'Аделя', 'Month__999': 'Декабрь', 'Year__999': 2019}\n",
      "2023-06-19 07:51:51,334 INFO sqlalchemy.engine.Engine INSERT INTO names_pandas (\"Name\", \"NumberOfPersons\", \"Year\", \"Month\") VALUES (%(Name__0)s, %(NumberOfPersons__0)s, %(Year__0)s, %(Month__0)s), (%(Name__1)s, %(NumberOfPersons__1)s, %(Year__1)s, %(Month__1)s), (%(Name__2)s, %(NumberOfPersons__2)s, %(Y ... 73285 characters truncated ... ar__998)s, %(Month__998)s), (%(Name__999)s, %(NumberOfPersons__999)s, %(Year__999)s, %(Month__999)s)\n",
      "2023-06-19 07:51:51,334 INFO sqlalchemy.engine.Engine [insertmanyvalues 7/10 (unordered)] {'NumberOfPersons__0': 180, 'Name__0': 'Мария', 'Month__0': 'Январь', 'Year__0': 2020, 'NumberOfPersons__1': 174, 'Name__1': 'София', 'Month__1': 'Январь', 'Year__1': 2020, 'NumberOfPersons__2': 162, 'Name__2': 'Анна', 'Month__2': 'Январь', 'Year__2': 2020, 'NumberOfPersons__3': 160, 'Name__3': 'Полина', 'Month__3': 'Январь', 'Year__3': 2020, 'NumberOfPersons__4': 151, 'Name__4': 'Алиса', 'Month__4': 'Январь', 'Year__4': 2020, 'NumberOfPersons__5': 130, 'Name__5': 'Виктория', 'Month__5': 'Январь', 'Year__5': 2020, 'NumberOfPersons__6': 127, 'Name__6': 'Анастасия', 'Month__6': 'Январь', 'Year__6': 2020, 'NumberOfPersons__7': 111, 'Name__7': 'Александра', 'Month__7': 'Январь', 'Year__7': 2020, 'NumberOfPersons__8': 108, 'Name__8': 'Дарья', 'Month__8': 'Январь', 'Year__8': 2020, 'NumberOfPersons__9': 105, 'Name__9': 'Ева', 'Month__9': 'Январь', 'Year__9': 2020, 'NumberOfPersons__10': 102, 'Name__10': 'Варвара', 'Month__10': 'Январь', 'Year__10': 2020, 'NumberOfPersons__11': 98, 'Name__11': 'Ксения', 'Month__11': 'Январь', 'Year__11': 2020, 'NumberOfPersons__12': 95, 'Name__12': 'Елизавета' ... 3900 parameters truncated ... 'Month__987': 'Октябрь', 'Year__987': 2020, 'NumberOfPersons__988': 10, 'Name__988': 'Эвелина', 'Month__988': 'Октябрь', 'Year__988': 2020, 'NumberOfPersons__989': 10, 'Name__989': 'Айша', 'Month__989': 'Октябрь', 'Year__989': 2020, 'NumberOfPersons__990': 10, 'Name__990': 'Теона', 'Month__990': 'Октябрь', 'Year__990': 2020, 'NumberOfPersons__991': 10, 'Name__991': 'Аруузат', 'Month__991': 'Октябрь', 'Year__991': 2020, 'NumberOfPersons__992': 10, 'Name__992': 'Эмили', 'Month__992': 'Октябрь', 'Year__992': 2020, 'NumberOfPersons__993': 9, 'Name__993': 'Евангелина', 'Month__993': 'Октябрь', 'Year__993': 2020, 'NumberOfPersons__994': 9, 'Name__994': 'Марина', 'Month__994': 'Октябрь', 'Year__994': 2020, 'NumberOfPersons__995': 9, 'Name__995': 'Сара', 'Month__995': 'Октябрь', 'Year__995': 2020, 'NumberOfPersons__996': 9, 'Name__996': 'Мелисса', 'Month__996': 'Октябрь', 'Year__996': 2020, 'NumberOfPersons__997': 9, 'Name__997': 'Доминика', 'Month__997': 'Октябрь', 'Year__997': 2020, 'NumberOfPersons__998': 9, 'Name__998': 'Сумая', 'Month__998': 'Октябрь', 'Year__998': 2020, 'NumberOfPersons__999': 9, 'Name__999': 'Агния', 'Month__999': 'Октябрь', 'Year__999': 2020}\n",
      "2023-06-19 07:51:51,345 INFO sqlalchemy.engine.Engine INSERT INTO names_pandas (\"Name\", \"NumberOfPersons\", \"Year\", \"Month\") VALUES (%(Name__0)s, %(NumberOfPersons__0)s, %(Year__0)s, %(Month__0)s), (%(Name__1)s, %(NumberOfPersons__1)s, %(Year__1)s, %(Month__1)s), (%(Name__2)s, %(NumberOfPersons__2)s, %(Y ... 73285 characters truncated ... ar__998)s, %(Month__998)s), (%(Name__999)s, %(NumberOfPersons__999)s, %(Year__999)s, %(Month__999)s)\n",
      "2023-06-19 07:51:51,346 INFO sqlalchemy.engine.Engine [insertmanyvalues 8/10 (unordered)] {'NumberOfPersons__0': 174, 'Name__0': 'Мария', 'Month__0': 'Ноябрь', 'Year__0': 2020, 'NumberOfPersons__1': 173, 'Name__1': 'София', 'Month__1': 'Ноябрь', 'Year__1': 2020, 'NumberOfPersons__2': 169, 'Name__2': 'Анна', 'Month__2': 'Ноябрь', 'Year__2': 2020, 'NumberOfPersons__3': 157, 'Name__3': 'Полина', 'Month__3': 'Ноябрь', 'Year__3': 2020, 'NumberOfPersons__4': 144, 'Name__4': 'Виктория', 'Month__4': 'Ноябрь', 'Year__4': 2020, 'NumberOfPersons__5': 141, 'Name__5': 'Алиса', 'Month__5': 'Ноябрь', 'Year__5': 2020, 'NumberOfPersons__6': 134, 'Name__6': 'Елизавета', 'Month__6': 'Ноябрь', 'Year__6': 2020, 'NumberOfPersons__7': 131, 'Name__7': 'Ева', 'Month__7': 'Ноябрь', 'Year__7': 2020, 'NumberOfPersons__8': 114, 'Name__8': 'Варвара', 'Month__8': 'Ноябрь', 'Year__8': 2020, 'NumberOfPersons__9': 108, 'Name__9': 'Александра', 'Month__9': 'Ноябрь', 'Year__9': 2020, 'NumberOfPersons__10': 105, 'Name__10': 'Анастасия', 'Month__10': 'Ноябрь', 'Year__10': 2020, 'NumberOfPersons__11': 101, 'Name__11': 'Василиса', 'Month__11': 'Ноябрь', 'Year__11': 2020, 'NumberOfPersons__12': 91, 'Name__12': 'Дарья' ... 3900 parameters truncated ... 'Month__987': 'Август', 'Year__987': 2021, 'NumberOfPersons__988': 10, 'Name__988': 'Аглая', 'Month__988': 'Август', 'Year__988': 2021, 'NumberOfPersons__989': 10, 'Name__989': 'Агния', 'Month__989': 'Август', 'Year__989': 2021, 'NumberOfPersons__990': 10, 'Name__990': 'Каролина', 'Month__990': 'Август', 'Year__990': 2021, 'NumberOfPersons__991': 10, 'Name__991': 'Амалия', 'Month__991': 'Август', 'Year__991': 2021, 'NumberOfPersons__992': 10, 'Name__992': 'Лидия', 'Month__992': 'Август', 'Year__992': 2021, 'NumberOfPersons__993': 9, 'Name__993': 'Афина', 'Month__993': 'Август', 'Year__993': 2021, 'NumberOfPersons__994': 9, 'Name__994': 'Милена', 'Month__994': 'Август', 'Year__994': 2021, 'NumberOfPersons__995': 9, 'Name__995': 'Хадиджа', 'Month__995': 'Август', 'Year__995': 2021, 'NumberOfPersons__996': 9, 'Name__996': 'Анфиса', 'Month__996': 'Август', 'Year__996': 2021, 'NumberOfPersons__997': 8, 'Name__997': 'Сумая', 'Month__997': 'Август', 'Year__997': 2021, 'NumberOfPersons__998': 8, 'Name__998': 'Нина', 'Month__998': 'Август', 'Year__998': 2021, 'NumberOfPersons__999': 8, 'Name__999': 'Ярослава', 'Month__999': 'Август', 'Year__999': 2021}\n",
      "2023-06-19 07:51:51,358 INFO sqlalchemy.engine.Engine INSERT INTO names_pandas (\"Name\", \"NumberOfPersons\", \"Year\", \"Month\") VALUES (%(Name__0)s, %(NumberOfPersons__0)s, %(Year__0)s, %(Month__0)s), (%(Name__1)s, %(NumberOfPersons__1)s, %(Year__1)s, %(Month__1)s), (%(Name__2)s, %(NumberOfPersons__2)s, %(Y ... 73285 characters truncated ... ar__998)s, %(Month__998)s), (%(Name__999)s, %(NumberOfPersons__999)s, %(Year__999)s, %(Month__999)s)\n",
      "2023-06-19 07:51:51,358 INFO sqlalchemy.engine.Engine [insertmanyvalues 9/10 (unordered)] {'NumberOfPersons__0': 228, 'Name__0': 'София', 'Month__0': 'Сентябрь', 'Year__0': 2021, 'NumberOfPersons__1': 217, 'Name__1': 'Мария', 'Month__1': 'Сентябрь', 'Year__1': 2021, 'NumberOfPersons__2': 173, 'Name__2': 'Анна', 'Month__2': 'Сентябрь', 'Year__2': 2021, 'NumberOfPersons__3': 159, 'Name__3': 'Алиса', 'Month__3': 'Сентябрь', 'Year__3': 2021, 'NumberOfPersons__4': 136, 'Name__4': 'Елизавета', 'Month__4': 'Сентябрь', 'Year__4': 2021, 'NumberOfPersons__5': 135, 'Name__5': 'Виктория', 'Month__5': 'Сентябрь', 'Year__5': 2021, 'NumberOfPersons__6': 134, 'Name__6': 'Ева', 'Month__6': 'Сентябрь', 'Year__6': 2021, 'NumberOfPersons__7': 113, 'Name__7': 'Полина', 'Month__7': 'Сентябрь', 'Year__7': 2021, 'NumberOfPersons__8': 104, 'Name__8': 'Варвара', 'Month__8': 'Сентябрь', 'Year__8': 2021, 'NumberOfPersons__9': 96, 'Name__9': 'Александра', 'Month__9': 'Сентябрь', 'Year__9': 2021, 'NumberOfPersons__10': 94, 'Name__10': 'Ксения', 'Month__10': 'Сентябрь', 'Year__10': 2021, 'NumberOfPersons__11': 94, 'Name__11': 'Василиса', 'Month__11': 'Сентябрь', 'Year__11': 2021, 'NumberOfPersons__12': 91, 'Name__12': 'Дарья' ... 3900 parameters truncated ... 'Month__987': 'Июнь', 'Year__987': 2022, 'NumberOfPersons__988': 10, 'Name__988': 'Мила', 'Month__988': 'Июнь', 'Year__988': 2022, 'NumberOfPersons__989': 9, 'Name__989': 'Лея', 'Month__989': 'Июнь', 'Year__989': 2022, 'NumberOfPersons__990': 9, 'Name__990': 'Лидия', 'Month__990': 'Июнь', 'Year__990': 2022, 'NumberOfPersons__991': 9, 'Name__991': 'Любовь', 'Month__991': 'Июнь', 'Year__991': 2022, 'NumberOfPersons__992': 9, 'Name__992': 'Амира', 'Month__992': 'Июнь', 'Year__992': 2022, 'NumberOfPersons__993': 9, 'Name__993': 'Аниса', 'Month__993': 'Июнь', 'Year__993': 2022, 'NumberOfPersons__994': 9, 'Name__994': 'Хадижа', 'Month__994': 'Июнь', 'Year__994': 2022, 'NumberOfPersons__995': 9, 'Name__995': 'Мариям', 'Month__995': 'Июнь', 'Year__995': 2022, 'NumberOfPersons__996': 9, 'Name__996': 'Теона', 'Month__996': 'Июнь', 'Year__996': 2022, 'NumberOfPersons__997': 8, 'Name__997': 'Эвелина', 'Month__997': 'Июнь', 'Year__997': 2022, 'NumberOfPersons__998': 8, 'Name__998': 'Азалия', 'Month__998': 'Июнь', 'Year__998': 2022, 'NumberOfPersons__999': 8, 'Name__999': 'Марина', 'Month__999': 'Июнь', 'Year__999': 2022}\n",
      "2023-06-19 07:51:51,368 INFO sqlalchemy.engine.Engine INSERT INTO names_pandas (\"Name\", \"NumberOfPersons\", \"Year\", \"Month\") VALUES (%(Name__0)s, %(NumberOfPersons__0)s, %(Year__0)s, %(Month__0)s), (%(Name__1)s, %(NumberOfPersons__1)s, %(Year__1)s, %(Month__1)s), (%(Name__2)s, %(NumberOfPersons__2)s, %(Y ... 63665 characters truncated ... ar__868)s, %(Month__868)s), (%(Name__869)s, %(NumberOfPersons__869)s, %(Year__869)s, %(Month__869)s)\n",
      "2023-06-19 07:51:51,368 INFO sqlalchemy.engine.Engine [insertmanyvalues 10/10 (unordered)] {'NumberOfPersons__0': 202, 'Name__0': 'София', 'Month__0': 'Июль', 'Year__0': 2022, 'NumberOfPersons__1': 184, 'Name__1': 'Мария', 'Month__1': 'Июль', 'Year__1': 2022, 'NumberOfPersons__2': 161, 'Name__2': 'Анна', 'Month__2': 'Июль', 'Year__2': 2022, 'NumberOfPersons__3': 147, 'Name__3': 'Алиса', 'Month__3': 'Июль', 'Year__3': 2022, 'NumberOfPersons__4': 139, 'Name__4': 'Виктория', 'Month__4': 'Июль', 'Year__4': 2022, 'NumberOfPersons__5': 136, 'Name__5': 'Ева', 'Month__5': 'Июль', 'Year__5': 2022, 'NumberOfPersons__6': 128, 'Name__6': 'Елизавета', 'Month__6': 'Июль', 'Year__6': 2022, 'NumberOfPersons__7': 118, 'Name__7': 'Полина', 'Month__7': 'Июль', 'Year__7': 2022, 'NumberOfPersons__8': 118, 'Name__8': 'Варвара', 'Month__8': 'Июль', 'Year__8': 2022, 'NumberOfPersons__9': 115, 'Name__9': 'Василиса', 'Month__9': 'Июль', 'Year__9': 2022, 'NumberOfPersons__10': 111, 'Name__10': 'Александра', 'Month__10': 'Июль', 'Year__10': 2022, 'NumberOfPersons__11': 95, 'Name__11': 'Екатерина', 'Month__11': 'Июль', 'Year__11': 2022, 'NumberOfPersons__12': 92, 'Name__12': 'Анастасия' ... 3380 parameters truncated ... 'Month__857': 'Апрель', 'Year__857': 2023, 'NumberOfPersons__858': 15, 'Name__858': 'Айша', 'Month__858': 'Апрель', 'Year__858': 2023, 'NumberOfPersons__859': 14, 'Name__859': 'Ясмина', 'Month__859': 'Апрель', 'Year__859': 2023, 'NumberOfPersons__860': 13, 'Name__860': 'Ирина', 'Month__860': 'Апрель', 'Year__860': 2023, 'NumberOfPersons__861': 12, 'Name__861': 'Ярослава', 'Month__861': 'Апрель', 'Year__861': 2023, 'NumberOfPersons__862': 11, 'Name__862': 'Камила', 'Month__862': 'Апрель', 'Year__862': 2023, 'NumberOfPersons__863': 11, 'Name__863': 'Аниса', 'Month__863': 'Апрель', 'Year__863': 2023, 'NumberOfPersons__864': 10, 'Name__864': 'Аглая', 'Month__864': 'Апрель', 'Year__864': 2023, 'NumberOfPersons__865': 10, 'Name__865': 'Антонина', 'Month__865': 'Апрель', 'Year__865': 2023, 'NumberOfPersons__866': 9, 'Name__866': 'Дария', 'Month__866': 'Апрель', 'Year__866': 2023, 'NumberOfPersons__867': 9, 'Name__867': 'Айла', 'Month__867': 'Апрель', 'Year__867': 2023, 'NumberOfPersons__868': 9, 'Name__868': 'Лидия', 'Month__868': 'Апрель', 'Year__868': 2023, 'NumberOfPersons__869': 8, 'Name__869': 'Мелисса', 'Month__869': 'Апрель', 'Year__869': 2023}\n",
      "2023-06-19 07:51:51,377 INFO sqlalchemy.engine.Engine COMMIT\n"
     ]
    },
    {
     "data": {
      "text/plain": [
       "870"
      ]
     },
     "execution_count": 5,
     "metadata": {},
     "output_type": "execute_result"
    }
   ],
   "source": [
    "names[['Name', 'NumberOfPersons', 'Year', 'Month']].to_sql(\"names_pandas\", \n",
    "                                                            engine,\n",
    "                                                            if_exists='append',\n",
    "                                                            index=False)"
   ]
  },
  {
   "attachments": {},
   "cell_type": "markdown",
   "metadata": {},
   "source": [
    "## Просматриваем 20 записей из таблицы"
   ]
  },
  {
   "cell_type": "code",
   "execution_count": 6,
   "metadata": {},
   "outputs": [
    {
     "name": "stdout",
     "output_type": "stream",
     "text": [
      "2023-06-19 07:52:12,500 INFO sqlalchemy.engine.Engine BEGIN (implicit)\n",
      "2023-06-19 07:52:12,500 INFO sqlalchemy.engine.Engine SELECT * FROM names_pandas LIMIT 20\n",
      "2023-06-19 07:52:12,501 INFO sqlalchemy.engine.Engine [generated in 0.00091s] {}\n",
      "2023-06-19 07:52:12,502 INFO sqlalchemy.engine.Engine ROLLBACK\n"
     ]
    }
   ],
   "source": [
    "with engine.connect() as conn:\n",
    "    data = conn.execute(text(\"SELECT * FROM names_pandas LIMIT 20\")).fetchall() "
   ]
  },
  {
   "cell_type": "code",
   "execution_count": 7,
   "metadata": {},
   "outputs": [
    {
     "data": {
      "text/plain": [
       "[('Мария', 252, 2015, 'январь'),\n",
       " ('Анастасия', 224, 2015, 'январь'),\n",
       " ('Анна', 190, 2015, 'январь'),\n",
       " ('Варвара', 190, 2015, 'январь'),\n",
       " ('Виктория', 186, 2015, 'январь'),\n",
       " ('Амелия', 8, 2015, 'май'),\n",
       " ('Камила', 8, 2015, 'май'),\n",
       " ('Евангелина', 8, 2015, 'май'),\n",
       " ('Альбина', 8, 2015, 'май'),\n",
       " ('Владислава', 8, 2015, 'май'),\n",
       " ('Айлин', 8, 2015, 'май'),\n",
       " ('Евдокия', 7, 2015, 'май'),\n",
       " ('Марьям', 7, 2015, 'май'),\n",
       " ('Лейла', 7, 2015, 'май'),\n",
       " ('Мелисса', 7, 2015, 'май'),\n",
       " ('Амира', 7, 2015, 'май'),\n",
       " ('Оливия', 7, 2015, 'май'),\n",
       " ('Виталина', 7, 2015, 'май'),\n",
       " ('Станислава', 6, 2015, 'май'),\n",
       " ('Марьяна', 6, 2015, 'май')]"
      ]
     },
     "execution_count": 7,
     "metadata": {},
     "output_type": "execute_result"
    }
   ],
   "source": [
    "data"
   ]
  }
 ],
 "metadata": {
  "kernelspec": {
   "display_name": ".venv",
   "language": "python",
   "name": "python3"
  },
  "language_info": {
   "codemirror_mode": {
    "name": "ipython",
    "version": 3
   },
   "file_extension": ".py",
   "mimetype": "text/x-python",
   "name": "python",
   "nbconvert_exporter": "python",
   "pygments_lexer": "ipython3",
   "version": "3.11.1"
  },
  "orig_nbformat": 4
 },
 "nbformat": 4,
 "nbformat_minor": 2
}
