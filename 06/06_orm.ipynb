{
 "cells": [
  {
   "attachments": {},
   "cell_type": "markdown",
   "metadata": {},
   "source": [
    "# Работа с ORM в SQL Alchemy \n",
    "\n",
    "<a target=\"_blank\" href=\"https://colab.research.google.com/github/sozykin/middle_python/blob/main/06/06_orm.ipynb\">\n",
    "  <img src=\"https://colab.research.google.com/assets/colab-badge.svg\" alt=\"Open In Colab\"/>\n",
    "</a>"
   ]
  },
  {
   "cell_type": "code",
   "execution_count": null,
   "metadata": {},
   "outputs": [],
   "source": [
    "from sqlalchemy import create_engine\n",
    "from sqlalchemy.orm import declarative_base, sessionmaker\n",
    "from sqlalchemy import Column\n",
    "from sqlalchemy import String, Integer"
   ]
  },
  {
   "attachments": {},
   "cell_type": "markdown",
   "metadata": {},
   "source": [
    "## Создание класса с отображением в таблицу базы данных"
   ]
  },
  {
   "cell_type": "code",
   "execution_count": null,
   "metadata": {},
   "outputs": [],
   "source": [
    "# Базовый класс для создание классов, которые будут сохраняться в базе данных\n",
    "Base = declarative_base()"
   ]
  },
  {
   "cell_type": "code",
   "execution_count": null,
   "metadata": {},
   "outputs": [],
   "source": [
    "# Создаем класс и описываем отображение атрибутов в столбцы таблицы базы данных\n",
    "class Name(Base):\n",
    "    # Название таблицы в базе данных\n",
    "    __tablename__ = 'names'\n",
    "\n",
    "    # Атрибуты  \n",
    "    id = Column('id', Integer)\n",
    "    name = Column('name', String)\n",
    "    number_of_persons = Column('number_of_persons', Integer)\n",
    "    global_id = Column('global_id', Integer, primary_key=True)\n",
    "    year = Column('year', Integer)\n",
    "    month = Column('month', String)\n",
    "\n",
    "    # Функция инициализации\n",
    "    def __init__(self, id, name, number_of_persons, global_id, year, month):\n",
    "        self.id = id\n",
    "        self.name = name\n",
    "        self.number_of_persons = number_of_persons\n",
    "        self.global_id = global_id\n",
    "        self.year = year\n",
    "        self.month = month\n",
    "\n",
    "    # Текстовое представление объекта\n",
    "    def __repr__(self):\n",
    "        return(f\"{self.id}, {self.name}, {self.number_of_persons}, {self.global_id}, {self.year}, {self.month}\")"
   ]
  },
  {
   "cell_type": "code",
   "execution_count": null,
   "metadata": {},
   "outputs": [],
   "source": [
    "# Создаем соединение с базой данных SQLite\n",
    "engine = create_engine(\"sqlite:///test.db\", echo=True)"
   ]
  },
  {
   "cell_type": "code",
   "execution_count": null,
   "metadata": {},
   "outputs": [],
   "source": [
    "# Создаем таблицы в базе данных\n",
    "Base.metadata.create_all(bind=engine)"
   ]
  },
  {
   "attachments": {},
   "cell_type": "markdown",
   "metadata": {},
   "source": [
    "## Создаем объекты класса и сохраняем их в базе данных"
   ]
  },
  {
   "cell_type": "code",
   "execution_count": null,
   "metadata": {},
   "outputs": [],
   "source": [
    "# Создаем сессию\n",
    "Sesion = sessionmaker(bind=engine)\n",
    "session = Sesion()"
   ]
  },
  {
   "cell_type": "code",
   "execution_count": null,
   "metadata": {},
   "outputs": [],
   "source": [
    "# Создаем новый объект класса Name\n",
    "name1 = Name(3, 'Анна', 190, 37750256, 2015, 'январь')"
   ]
  },
  {
   "cell_type": "code",
   "execution_count": null,
   "metadata": {},
   "outputs": [],
   "source": [
    "# Сохраняем объект в базе данных\n",
    "session.add(name1)\n",
    "session.commit()"
   ]
  },
  {
   "cell_type": "code",
   "execution_count": null,
   "metadata": {},
   "outputs": [],
   "source": [
    "# Создаем еще один объект\n",
    "name2 = Name(4, 'Варвара', 190, 37750257, 2015, 'январь')"
   ]
  },
  {
   "cell_type": "code",
   "execution_count": null,
   "metadata": {},
   "outputs": [],
   "source": [
    "# Сохраняем объект в базе данных\n",
    "session.add(name2)\n",
    "session.commit()"
   ]
  },
  {
   "attachments": {},
   "cell_type": "markdown",
   "metadata": {},
   "source": [
    "## Поиск объектов в базе"
   ]
  },
  {
   "cell_type": "code",
   "execution_count": null,
   "metadata": {},
   "outputs": [],
   "source": [
    "# Извлекаем из базы нужные нам объекты\n",
    "results = session.query(Name).filter(Name.name == 'Варвара')"
   ]
  },
  {
   "cell_type": "code",
   "execution_count": null,
   "metadata": {},
   "outputs": [],
   "source": [
    "for row in results:\n",
    "    print(row)"
   ]
  },
  {
   "cell_type": "code",
   "execution_count": null,
   "metadata": {},
   "outputs": [],
   "source": [
    "session.close()"
   ]
  },
  {
   "attachments": {},
   "cell_type": "markdown",
   "metadata": {},
   "source": [
    "## Современный декларативный подход к описанию отображение атрибутов объекта в поля таблицы"
   ]
  },
  {
   "cell_type": "code",
   "execution_count": null,
   "metadata": {},
   "outputs": [],
   "source": [
    "from sqlalchemy.orm import DeclarativeBase\n",
    "from sqlalchemy.orm import mapped_column\n",
    "from sqlalchemy.orm import Mapped\n",
    "from sqlalchemy.orm import Session"
   ]
  },
  {
   "cell_type": "code",
   "execution_count": null,
   "metadata": {},
   "outputs": [],
   "source": [
    "# Базовый класс для создание классов, которые будут сохраняться в базе данных\n",
    "class Base(DeclarativeBase):\n",
    "    pass"
   ]
  },
  {
   "cell_type": "code",
   "execution_count": null,
   "metadata": {},
   "outputs": [],
   "source": [
    "# Создаем класс и описываем отображение атрибутов в столбцы таблицы базы данных\n",
    "class Name2(Base):\n",
    "    # Название таблицы в базе данных\n",
    "    __tablename__ = 'names2'\n",
    "\n",
    "    # Атрибуты  \n",
    "    id: Mapped[int] \n",
    "    name: Mapped[str]\n",
    "    number_of_persons: Mapped[str] \n",
    "    global_id: Mapped[int] = mapped_column(primary_key=True)\n",
    "    year: Mapped[int]\n",
    "    month: Mapped[str]\n",
    "\n",
    "    # Текстовое представление объекта\n",
    "    def __repr__(self):\n",
    "        return(f\"{self.id}, {self.name}, {self.number_of_persons}, {self.global_id}, {self.year}, {self.month}\")"
   ]
  },
  {
   "cell_type": "code",
   "execution_count": null,
   "metadata": {},
   "outputs": [],
   "source": [
    "# Создаем таблицу\n",
    "Base.metadata.create_all(engine)"
   ]
  },
  {
   "attachments": {},
   "cell_type": "markdown",
   "metadata": {},
   "source": [
    "## Создаем объекты"
   ]
  },
  {
   "cell_type": "code",
   "execution_count": null,
   "metadata": {},
   "outputs": [],
   "source": [
    "# Метод __init__ с именованными аргументами был сгенерирован автоматически\n",
    "new_name = Name2(id=3,\n",
    "                 name='Анна', \n",
    "                 number_of_persons=190, \n",
    "                 global_id=37750256,\n",
    "                 year=2015, \n",
    "                 month='январь')"
   ]
  },
  {
   "cell_type": "code",
   "execution_count": null,
   "metadata": {},
   "outputs": [],
   "source": [
    "new_name"
   ]
  },
  {
   "cell_type": "code",
   "execution_count": null,
   "metadata": {},
   "outputs": [],
   "source": [
    "new_name2 = Name2(id=4,\n",
    "                 name='Варвара', \n",
    "                 number_of_persons=190, \n",
    "                 global_id=37750257,\n",
    "                 year=2015, \n",
    "                 month='январь')"
   ]
  },
  {
   "attachments": {},
   "cell_type": "markdown",
   "metadata": {},
   "source": [
    "## Сохраняем данные в базе"
   ]
  },
  {
   "cell_type": "code",
   "execution_count": null,
   "metadata": {},
   "outputs": [],
   "source": [
    "with Session(engine) as session:\n",
    "    session.add(new_name)\n",
    "    session.add(new_name2)\n",
    "    session.commit()"
   ]
  },
  {
   "attachments": {},
   "cell_type": "markdown",
   "metadata": {},
   "source": [
    "## Извлекаем данные из базы"
   ]
  },
  {
   "cell_type": "code",
   "execution_count": null,
   "metadata": {},
   "outputs": [],
   "source": [
    "from sqlalchemy import select"
   ]
  },
  {
   "cell_type": "code",
   "execution_count": null,
   "metadata": {},
   "outputs": [],
   "source": [
    "with Session(engine) as session:\n",
    "    results = session.execute(select(Name2))\n",
    "    for row in results:\n",
    "        print(row)"
   ]
  },
  {
   "cell_type": "code",
   "execution_count": null,
   "metadata": {},
   "outputs": [],
   "source": [
    "with Session(engine) as session:\n",
    "    results = session.execute(select(Name2).where(Name2.name == 'Анна'))\n",
    "    for row in results:\n",
    "        print(row)"
   ]
  },
  {
   "attachments": {},
   "cell_type": "markdown",
   "metadata": {},
   "source": [
    "## Изменяем данные в базе"
   ]
  },
  {
   "cell_type": "code",
   "execution_count": null,
   "metadata": {},
   "outputs": [],
   "source": [
    "session = Session(engine)"
   ]
  },
  {
   "cell_type": "code",
   "execution_count": null,
   "metadata": {},
   "outputs": [],
   "source": [
    "name = session.execute(select(Name2).where(Name2.name == 'Анна')).scalar_one()"
   ]
  },
  {
   "cell_type": "code",
   "execution_count": null,
   "metadata": {},
   "outputs": [],
   "source": [
    "name"
   ]
  },
  {
   "cell_type": "code",
   "execution_count": null,
   "metadata": {},
   "outputs": [],
   "source": [
    "name.name = 'Мария'"
   ]
  },
  {
   "cell_type": "code",
   "execution_count": null,
   "metadata": {},
   "outputs": [],
   "source": [
    "session.dirty"
   ]
  },
  {
   "cell_type": "code",
   "execution_count": null,
   "metadata": {},
   "outputs": [],
   "source": [
    "session.commit()"
   ]
  },
  {
   "cell_type": "code",
   "execution_count": null,
   "metadata": {},
   "outputs": [],
   "source": [
    "session.dirty"
   ]
  },
  {
   "cell_type": "code",
   "execution_count": null,
   "metadata": {},
   "outputs": [],
   "source": [
    "session.close()"
   ]
  },
  {
   "attachments": {},
   "cell_type": "markdown",
   "metadata": {},
   "source": [
    "## Удаляем данные из базы"
   ]
  },
  {
   "cell_type": "code",
   "execution_count": null,
   "metadata": {},
   "outputs": [],
   "source": [
    "with Session(engine) as session:\n",
    "    session.delete(new_name)\n",
    "    session.delete(new_name2)\n",
    "    session.commit()"
   ]
  },
  {
   "attachments": {},
   "cell_type": "markdown",
   "metadata": {},
   "source": [
    "## Загрузка данных из JSON а базу с помощью SQL Alchemy"
   ]
  },
  {
   "cell_type": "code",
   "execution_count": null,
   "metadata": {},
   "outputs": [],
   "source": [
    "import json"
   ]
  },
  {
   "cell_type": "code",
   "execution_count": null,
   "metadata": {},
   "outputs": [],
   "source": [
    "with open(\"names_f.json\", \"r\") as read_file:\n",
    "    data = json.load(read_file)"
   ]
  },
  {
   "cell_type": "code",
   "execution_count": null,
   "metadata": {},
   "outputs": [],
   "source": [
    "data"
   ]
  },
  {
   "attachments": {},
   "cell_type": "markdown",
   "metadata": {},
   "source": [
    "## Записываем данные в базу"
   ]
  },
  {
   "cell_type": "code",
   "execution_count": null,
   "metadata": {},
   "outputs": [],
   "source": [
    "with Session(engine) as session:\n",
    "    for record in data:\n",
    "        new_name = Name2(id=record['ID'],\n",
    "                         name=record['Name'], \n",
    "                         number_of_persons=record['NumberOfPersons'], \n",
    "                         global_id=record['global_id'],\n",
    "                         year=record['Year'], \n",
    "                         month=record['Month'])\n",
    "        session.add(new_name)\n",
    "    session.commit()"
   ]
  }
 ],
 "metadata": {
  "kernelspec": {
   "display_name": ".venv",
   "language": "python",
   "name": "python3"
  },
  "language_info": {
   "codemirror_mode": {
    "name": "ipython",
    "version": 3
   },
   "file_extension": ".py",
   "mimetype": "text/x-python",
   "name": "python",
   "nbconvert_exporter": "python",
   "pygments_lexer": "ipython3",
   "version": "3.11.1"
  },
  "orig_nbformat": 4
 },
 "nbformat": 4,
 "nbformat_minor": 2
}
