{
 "cells": [
  {
   "attachments": {},
   "cell_type": "markdown",
   "metadata": {},
   "source": [
    "# Работа с Core в SQL Alchemy \n",
    "\n",
    "<a target=\"_blank\" href=\"https://colab.research.google.com/github/sozykin/middle_python/blob/main/06/06_core.ipynb\">\n",
    "  <img src=\"https://colab.research.google.com/assets/colab-badge.svg\" alt=\"Open In Colab\"/>\n",
    "</a>"
   ]
  },
  {
   "cell_type": "code",
   "execution_count": 29,
   "metadata": {},
   "outputs": [],
   "source": [
    "from sqlalchemy import MetaData\n",
    "from sqlalchemy import Table, Column, Integer, String\n",
    "from sqlalchemy import create_engine\n",
    "from sqlalchemy import URL\n",
    "from sqlalchemy import select, insert, update, delete"
   ]
  },
  {
   "cell_type": "code",
   "execution_count": 8,
   "metadata": {},
   "outputs": [],
   "source": [
    "url_object = URL.create(\n",
    "    \"postgresql+psycopg2\",\n",
    "    username=\"postgres\",\n",
    "    password=\"1234qwer\",  \n",
    "    host=\"localhost\",\n",
    "    database=\"postgres\",\n",
    ")"
   ]
  },
  {
   "cell_type": "code",
   "execution_count": 9,
   "metadata": {},
   "outputs": [],
   "source": [
    "engine = create_engine(url_object, echo=True)"
   ]
  },
  {
   "cell_type": "code",
   "execution_count": 18,
   "metadata": {},
   "outputs": [],
   "source": [
    "metadata_obj = MetaData()"
   ]
  },
  {
   "cell_type": "code",
   "execution_count": 19,
   "metadata": {},
   "outputs": [],
   "source": [
    "names_table = Table(\n",
    "        \"names_core\",\n",
    "         metadata_obj,\n",
    "         Column(\"id\", Integer),\n",
    "        Column(\"name\", String),\n",
    "        Column('number_of_persons', Integer),\n",
    "        Column('year', Integer),\n",
    "        Column('month', String)\n",
    ")"
   ]
  },
  {
   "cell_type": "code",
   "execution_count": 20,
   "metadata": {},
   "outputs": [
    {
     "name": "stdout",
     "output_type": "stream",
     "text": [
      "2023-06-19 08:18:18,349 INFO sqlalchemy.engine.Engine BEGIN (implicit)\n",
      "2023-06-19 08:18:18,350 INFO sqlalchemy.engine.Engine SELECT pg_catalog.pg_class.relname \n",
      "FROM pg_catalog.pg_class JOIN pg_catalog.pg_namespace ON pg_catalog.pg_namespace.oid = pg_catalog.pg_class.relnamespace \n",
      "WHERE pg_catalog.pg_class.relname = %(table_name)s AND pg_catalog.pg_class.relkind = ANY (ARRAY[%(param_1)s, %(param_2)s, %(param_3)s, %(param_4)s, %(param_5)s]) AND pg_catalog.pg_table_is_visible(pg_catalog.pg_class.oid) AND pg_catalog.pg_namespace.nspname != %(nspname_1)s\n",
      "2023-06-19 08:18:18,350 INFO sqlalchemy.engine.Engine [cached since 358.2s ago] {'table_name': 'names_core', 'param_1': 'r', 'param_2': 'p', 'param_3': 'f', 'param_4': 'v', 'param_5': 'm', 'nspname_1': 'pg_catalog'}\n",
      "2023-06-19 08:18:18,352 INFO sqlalchemy.engine.Engine \n",
      "CREATE TABLE names_core (\n",
      "\tid INTEGER, \n",
      "\tname VARCHAR, \n",
      "\tnumber_of_persons INTEGER, \n",
      "\tyear INTEGER, \n",
      "\tmonth VARCHAR\n",
      ")\n",
      "\n",
      "\n",
      "2023-06-19 08:18:18,352 INFO sqlalchemy.engine.Engine [no key 0.00050s] {}\n",
      "2023-06-19 08:18:18,359 INFO sqlalchemy.engine.Engine COMMIT\n"
     ]
    }
   ],
   "source": [
    "metadata_obj.create_all(engine)"
   ]
  },
  {
   "attachments": {},
   "cell_type": "markdown",
   "metadata": {},
   "source": [
    "## Вставка данных"
   ]
  },
  {
   "cell_type": "code",
   "execution_count": 21,
   "metadata": {},
   "outputs": [],
   "source": [
    "stmt = insert(names_table).values(id=1, name='Мария', number_of_persons=252, year=2015, month='январь')"
   ]
  },
  {
   "cell_type": "code",
   "execution_count": 22,
   "metadata": {},
   "outputs": [
    {
     "name": "stdout",
     "output_type": "stream",
     "text": [
      "INSERT INTO names_core (id, name, number_of_persons, year, month) VALUES (:id, :name, :number_of_persons, :year, :month)\n"
     ]
    }
   ],
   "source": [
    "print(stmt)"
   ]
  },
  {
   "cell_type": "code",
   "execution_count": 23,
   "metadata": {},
   "outputs": [
    {
     "name": "stdout",
     "output_type": "stream",
     "text": [
      "2023-06-19 08:18:26,603 INFO sqlalchemy.engine.Engine BEGIN (implicit)\n",
      "2023-06-19 08:18:26,604 INFO sqlalchemy.engine.Engine INSERT INTO names_core (id, name, number_of_persons, year, month) VALUES (%(id)s, %(name)s, %(number_of_persons)s, %(year)s, %(month)s)\n",
      "2023-06-19 08:18:26,604 INFO sqlalchemy.engine.Engine [generated in 0.00089s] {'id': 1, 'name': 'Мария', 'number_of_persons': 252, 'year': 2015, 'month': 'январь'}\n",
      "2023-06-19 08:18:26,605 INFO sqlalchemy.engine.Engine COMMIT\n"
     ]
    }
   ],
   "source": [
    "with engine.connect() as conn:\n",
    "    conn.execute(stmt)\n",
    "    conn.commit()"
   ]
  },
  {
   "cell_type": "code",
   "execution_count": 24,
   "metadata": {},
   "outputs": [],
   "source": [
    "stmt = insert(names_table).values(id=2, name='Анастасия', number_of_persons=224, year=2015, month='январь')"
   ]
  },
  {
   "cell_type": "code",
   "execution_count": 25,
   "metadata": {},
   "outputs": [
    {
     "name": "stdout",
     "output_type": "stream",
     "text": [
      "2023-06-19 08:19:48,015 INFO sqlalchemy.engine.Engine BEGIN (implicit)\n",
      "2023-06-19 08:19:48,016 INFO sqlalchemy.engine.Engine INSERT INTO names_core (id, name, number_of_persons, year, month) VALUES (%(id)s, %(name)s, %(number_of_persons)s, %(year)s, %(month)s)\n",
      "2023-06-19 08:19:48,016 INFO sqlalchemy.engine.Engine [cached since 81.41s ago] {'id': 2, 'name': 'Анастасия', 'number_of_persons': 224, 'year': 2015, 'month': 'январь'}\n",
      "2023-06-19 08:19:48,017 INFO sqlalchemy.engine.Engine COMMIT\n"
     ]
    }
   ],
   "source": [
    "with engine.connect() as conn:\n",
    "    conn.execute(stmt)\n",
    "    conn.commit()"
   ]
  },
  {
   "attachments": {},
   "cell_type": "markdown",
   "metadata": {},
   "source": [
    "## Извлечение данных"
   ]
  },
  {
   "cell_type": "code",
   "execution_count": 26,
   "metadata": {},
   "outputs": [],
   "source": [
    "stmt = select(names_table)"
   ]
  },
  {
   "cell_type": "code",
   "execution_count": 27,
   "metadata": {},
   "outputs": [
    {
     "name": "stdout",
     "output_type": "stream",
     "text": [
      "SELECT names_core.id, names_core.name, names_core.number_of_persons, names_core.year, names_core.month \n",
      "FROM names_core\n"
     ]
    }
   ],
   "source": [
    "print(stmt)"
   ]
  },
  {
   "cell_type": "code",
   "execution_count": 28,
   "metadata": {},
   "outputs": [
    {
     "name": "stdout",
     "output_type": "stream",
     "text": [
      "2023-06-19 08:21:33,237 INFO sqlalchemy.engine.Engine BEGIN (implicit)\n",
      "2023-06-19 08:21:33,237 INFO sqlalchemy.engine.Engine SELECT names_core.id, names_core.name, names_core.number_of_persons, names_core.year, names_core.month \n",
      "FROM names_core\n",
      "2023-06-19 08:21:33,237 INFO sqlalchemy.engine.Engine [generated in 0.00071s] {}\n",
      "(1, 'Мария', 252, 2015, 'январь')\n",
      "(2, 'Анастасия', 224, 2015, 'январь')\n",
      "2023-06-19 08:21:33,239 INFO sqlalchemy.engine.Engine ROLLBACK\n"
     ]
    }
   ],
   "source": [
    "with engine.connect() as conn:\n",
    "    results = conn.execute(stmt)\n",
    "    for row in results:\n",
    "        print(row)"
   ]
  },
  {
   "attachments": {},
   "cell_type": "markdown",
   "metadata": {},
   "source": [
    "## Изменение данных"
   ]
  },
  {
   "cell_type": "code",
   "execution_count": 30,
   "metadata": {},
   "outputs": [],
   "source": [
    "stmt = update(names_table).where(names_table.c.id == 1).values(name='Анна')"
   ]
  },
  {
   "cell_type": "code",
   "execution_count": 31,
   "metadata": {},
   "outputs": [
    {
     "name": "stdout",
     "output_type": "stream",
     "text": [
      "UPDATE names_core SET name=:name WHERE names_core.id = :id_1\n"
     ]
    }
   ],
   "source": [
    "print(stmt)"
   ]
  },
  {
   "cell_type": "code",
   "execution_count": 32,
   "metadata": {},
   "outputs": [
    {
     "name": "stdout",
     "output_type": "stream",
     "text": [
      "2023-06-19 08:34:46,144 INFO sqlalchemy.engine.Engine BEGIN (implicit)\n",
      "2023-06-19 08:34:46,145 INFO sqlalchemy.engine.Engine UPDATE names_core SET name=%(name)s WHERE names_core.id = %(id_1)s\n",
      "2023-06-19 08:34:46,145 INFO sqlalchemy.engine.Engine [generated in 0.00116s] {'name': 'Анна', 'id_1': 1}\n",
      "2023-06-19 08:34:46,156 INFO sqlalchemy.engine.Engine ROLLBACK\n"
     ]
    }
   ],
   "source": [
    "with engine.connect() as conn:\n",
    "    conn.execute(stmt)"
   ]
  },
  {
   "cell_type": "code",
   "execution_count": 33,
   "metadata": {},
   "outputs": [
    {
     "name": "stdout",
     "output_type": "stream",
     "text": [
      "2023-06-19 08:35:11,786 INFO sqlalchemy.engine.Engine BEGIN (implicit)\n",
      "2023-06-19 08:35:11,787 INFO sqlalchemy.engine.Engine UPDATE names_core SET name=%(name)s WHERE names_core.id = %(id_1)s\n",
      "2023-06-19 08:35:11,787 INFO sqlalchemy.engine.Engine [cached since 25.64s ago] {'name': 'Анна', 'id_1': 1}\n",
      "2023-06-19 08:35:11,788 INFO sqlalchemy.engine.Engine COMMIT\n"
     ]
    }
   ],
   "source": [
    "with engine.connect() as conn:\n",
    "    conn.execute(stmt)\n",
    "    conn.commit()"
   ]
  },
  {
   "attachments": {},
   "cell_type": "markdown",
   "metadata": {},
   "source": [
    "## Удаление данных"
   ]
  },
  {
   "cell_type": "code",
   "execution_count": 34,
   "metadata": {},
   "outputs": [],
   "source": [
    "stmt = delete(names_table).where(names_table.c.id == 2)"
   ]
  },
  {
   "cell_type": "code",
   "execution_count": 35,
   "metadata": {},
   "outputs": [
    {
     "name": "stdout",
     "output_type": "stream",
     "text": [
      "DELETE FROM names_core WHERE names_core.id = :id_1\n"
     ]
    }
   ],
   "source": [
    "print(stmt)"
   ]
  },
  {
   "cell_type": "code",
   "execution_count": 36,
   "metadata": {},
   "outputs": [
    {
     "name": "stdout",
     "output_type": "stream",
     "text": [
      "2023-06-19 08:37:07,714 INFO sqlalchemy.engine.Engine BEGIN (implicit)\n",
      "2023-06-19 08:37:07,715 INFO sqlalchemy.engine.Engine DELETE FROM names_core WHERE names_core.id = %(id_1)s\n",
      "2023-06-19 08:37:07,715 INFO sqlalchemy.engine.Engine [generated in 0.00110s] {'id_1': 2}\n",
      "2023-06-19 08:37:07,716 INFO sqlalchemy.engine.Engine COMMIT\n"
     ]
    }
   ],
   "source": [
    "with engine.connect() as conn:\n",
    "    conn.execute(stmt)\n",
    "    conn.commit()"
   ]
  }
 ],
 "metadata": {
  "kernelspec": {
   "display_name": ".venv",
   "language": "python",
   "name": "python3"
  },
  "language_info": {
   "codemirror_mode": {
    "name": "ipython",
    "version": 3
   },
   "file_extension": ".py",
   "mimetype": "text/x-python",
   "name": "python",
   "nbconvert_exporter": "python",
   "pygments_lexer": "ipython3",
   "version": "3.11.1"
  },
  "orig_nbformat": 4
 },
 "nbformat": 4,
 "nbformat_minor": 2
}
