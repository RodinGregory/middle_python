{
  "cells": [
    {
      "attachments": {},
      "cell_type": "markdown",
      "metadata": {
        "id": "GbubFrt-hijt"
      },
      "source": [
        "# Работа с таблицами в Python\n",
        "\n",
        "Курс \"Python для продвинутых специалистов\"\n",
        "\n",
        "<a target=\"_blank\" href=\"https://colab.research.google.com/github/sozykin/middle_python/blob/main/01/01_tables.ipynb\">\n",
        "  <img src=\"https://colab.research.google.com/assets/colab-badge.svg\" alt=\"Open In Colab\"/>\n",
        "</a>"
      ]
    },
    {
      "attachments": {},
      "cell_type": "markdown",
      "metadata": {
        "id": "_h4wJLyPk_Vc"
      },
      "source": [
        "Просматриваем файл с данными"
      ]
    },
    {
      "cell_type": "code",
      "execution_count": 1,
      "metadata": {
        "id": "s636fNnell27"
      },
      "outputs": [],
      "source": [
        "filename = 'sales.csv'"
      ]
    },
    {
      "attachments": {},
      "cell_type": "markdown",
      "metadata": {
        "id": "3Ak9Ee44lIlc"
      },
      "source": [
        "Читаем файл в Python"
      ]
    },
    {
      "cell_type": "code",
      "execution_count": 4,
      "metadata": {
        "colab": {
          "base_uri": "https://localhost:8080/"
        },
        "id": "aKn08pdHlKg8",
        "outputId": "49ee5e3b-ddd3-4f5f-dedc-33a00b1cb534"
      },
      "outputs": [
        {
          "name": "stdout",
          "output_type": "stream",
          "text": [
            "298919,2013-06-17,46,BREAD/BAKERY,566.253,0\n",
            "298920,2013-06-17,46,CELEBRATION,0.0,0\n",
            "298921,2013-06-17,46,CLEANING,1707.0,0\n",
            "298922,2013-06-17,46,DAIRY,711.0,0\n",
            "298923,2013-06-17,46,DELI,709.268,0\n",
            "298924,2013-06-17,46,EGGS,203.0,0\n",
            "298925,2013-06-17,46,FROZEN FOODS,249.0,0\n",
            "298926,2013-06-17,46,GROCERY I,5715.0,0\n",
            "298927,2013-06-17,46,GROCERY II,42.0,0\n"
          ]
        }
      ],
      "source": [
        "with open(filename) as file:\n",
        "    for line in file:\n",
        "        print(line.rstrip())"
      ]
    },
    {
      "attachments": {},
      "cell_type": "markdown",
      "metadata": {
        "id": "-RSW_RYclDAs"
      },
      "source": [
        "Создаем пустой список"
      ]
    },
    {
      "cell_type": "code",
      "execution_count": 5,
      "metadata": {
        "id": "kFnKPMTMlGo0"
      },
      "outputs": [],
      "source": [
        "# Создаем пустой список\n",
        "sales = []"
      ]
    },
    {
      "attachments": {},
      "cell_type": "markdown",
      "metadata": {
        "id": "Rpew7lNllx-M"
      },
      "source": [
        "Загружаем данные в список"
      ]
    },
    {
      "cell_type": "code",
      "execution_count": 6,
      "metadata": {
        "id": "f9azk17dl3Q8"
      },
      "outputs": [],
      "source": [
        "with open(filename) as file:\n",
        "    for line in file:\n",
        "        sales.append(line.rstrip().split(','))"
      ]
    },
    {
      "attachments": {},
      "cell_type": "markdown",
      "metadata": {
        "id": "v5FyvUxpmDgD"
      },
      "source": [
        "Просматриваем список"
      ]
    },
    {
      "cell_type": "code",
      "execution_count": 7,
      "metadata": {
        "colab": {
          "base_uri": "https://localhost:8080/"
        },
        "id": "4WNSrgbVmCsj",
        "outputId": "378618f4-c0b6-433d-ca2e-a283065e991d"
      },
      "outputs": [
        {
          "data": {
            "text/plain": [
              "[['298919', '2013-06-17', '46', 'BREAD/BAKERY', '566.253', '0'],\n",
              " ['298920', '2013-06-17', '46', 'CELEBRATION', '0.0', '0'],\n",
              " ['298921', '2013-06-17', '46', 'CLEANING', '1707.0', '0'],\n",
              " ['298922', '2013-06-17', '46', 'DAIRY', '711.0', '0'],\n",
              " ['298923', '2013-06-17', '46', 'DELI', '709.268', '0'],\n",
              " ['298924', '2013-06-17', '46', 'EGGS', '203.0', '0'],\n",
              " ['298925', '2013-06-17', '46', 'FROZEN FOODS', '249.0', '0'],\n",
              " ['298926', '2013-06-17', '46', 'GROCERY I', '5715.0', '0'],\n",
              " ['298927', '2013-06-17', '46', 'GROCERY II', '42.0', '0']]"
            ]
          },
          "execution_count": 7,
          "metadata": {},
          "output_type": "execute_result"
        }
      ],
      "source": [
        "sales"
      ]
    },
    {
      "attachments": {},
      "cell_type": "markdown",
      "metadata": {
        "id": "2rW6K2cQmVIS"
      },
      "source": [
        "Загружаем данные с преобразованием типов"
      ]
    },
    {
      "cell_type": "code",
      "execution_count": 8,
      "metadata": {
        "id": "nVHcMvwxmYrM"
      },
      "outputs": [],
      "source": [
        "sales = []\n",
        "with open(filename) as file:\n",
        "    for line in file:\n",
        "        new_line = line.rstrip().split(',')\n",
        "        new_line[0] = int(new_line[0])\n",
        "        new_line[2] = int(new_line[2])\n",
        "        new_line[4] = float(new_line[4])\n",
        "        new_line[5] = int(new_line[5])\n",
        "        sales.append(new_line)"
      ]
    },
    {
      "cell_type": "code",
      "execution_count": 10,
      "metadata": {
        "colab": {
          "base_uri": "https://localhost:8080/"
        },
        "id": "vpsR_q_nnCcE",
        "outputId": "2989a50f-9ec2-49b0-c14b-01a846818e11"
      },
      "outputs": [
        {
          "data": {
            "text/plain": [
              "[[298919, '2013-06-17', 46, 'BREAD/BAKERY', 566.253, 0],\n",
              " [298920, '2013-06-17', 46, 'CELEBRATION', 0.0, 0],\n",
              " [298921, '2013-06-17', 46, 'CLEANING', 1707.0, 0],\n",
              " [298922, '2013-06-17', 46, 'DAIRY', 711.0, 0],\n",
              " [298923, '2013-06-17', 46, 'DELI', 709.268, 0],\n",
              " [298924, '2013-06-17', 46, 'EGGS', 203.0, 0],\n",
              " [298925, '2013-06-17', 46, 'FROZEN FOODS', 249.0, 0],\n",
              " [298926, '2013-06-17', 46, 'GROCERY I', 5715.0, 0],\n",
              " [298927, '2013-06-17', 46, 'GROCERY II', 42.0, 0]]"
            ]
          },
          "execution_count": 10,
          "metadata": {},
          "output_type": "execute_result"
        }
      ],
      "source": [
        "sales"
      ]
    },
    {
      "cell_type": "code",
      "execution_count": 11,
      "metadata": {
        "id": "5W8T-78rW99b"
      },
      "outputs": [],
      "source": [
        "from datetime import datetime"
      ]
    },
    {
      "cell_type": "code",
      "execution_count": 12,
      "metadata": {
        "id": "Nh4N7fUTXBaq"
      },
      "outputs": [],
      "source": [
        "sales = []\n",
        "with open(filename) as file:\n",
        "    for line in file:\n",
        "        new_line = line.rstrip().split(',')\n",
        "        new_line[0] = int(new_line[0])\n",
        "        new_line[1] = datetime.strptime(new_line[1], '%Y-%m-%d')\n",
        "        new_line[2] = int(new_line[2])\n",
        "        new_line[4] = float(new_line[4])\n",
        "        new_line[5] = bool(int(new_line[5]))\n",
        "        sales.append(new_line)"
      ]
    },
    {
      "cell_type": "code",
      "execution_count": 13,
      "metadata": {
        "colab": {
          "base_uri": "https://localhost:8080/"
        },
        "id": "SkqLFIMHXm1q",
        "outputId": "16256d5b-35a2-4291-bd8f-bfb04de52f90"
      },
      "outputs": [
        {
          "data": {
            "text/plain": [
              "[[298919,\n",
              "  datetime.datetime(2013, 6, 17, 0, 0),\n",
              "  46,\n",
              "  'BREAD/BAKERY',\n",
              "  566.253,\n",
              "  False],\n",
              " [298920, datetime.datetime(2013, 6, 17, 0, 0), 46, 'CELEBRATION', 0.0, False],\n",
              " [298921, datetime.datetime(2013, 6, 17, 0, 0), 46, 'CLEANING', 1707.0, False],\n",
              " [298922, datetime.datetime(2013, 6, 17, 0, 0), 46, 'DAIRY', 711.0, False],\n",
              " [298923, datetime.datetime(2013, 6, 17, 0, 0), 46, 'DELI', 709.268, False],\n",
              " [298924, datetime.datetime(2013, 6, 17, 0, 0), 46, 'EGGS', 203.0, False],\n",
              " [298925,\n",
              "  datetime.datetime(2013, 6, 17, 0, 0),\n",
              "  46,\n",
              "  'FROZEN FOODS',\n",
              "  249.0,\n",
              "  False],\n",
              " [298926,\n",
              "  datetime.datetime(2013, 6, 17, 0, 0),\n",
              "  46,\n",
              "  'GROCERY I',\n",
              "  5715.0,\n",
              "  False],\n",
              " [298927, datetime.datetime(2013, 6, 17, 0, 0), 46, 'GROCERY II', 42.0, False]]"
            ]
          },
          "execution_count": 13,
          "metadata": {},
          "output_type": "execute_result"
        }
      ],
      "source": [
        "sales"
      ]
    },
    {
      "attachments": {},
      "cell_type": "markdown",
      "metadata": {
        "id": "0wfba3slXvb6"
      },
      "source": [
        "Найти сумму всех продаж"
      ]
    },
    {
      "cell_type": "code",
      "execution_count": 14,
      "metadata": {
        "id": "lwfYypCHXxwJ"
      },
      "outputs": [],
      "source": [
        "s = 0\n",
        "for line in sales:\n",
        "    s += line[4]"
      ]
    },
    {
      "cell_type": "code",
      "execution_count": 15,
      "metadata": {
        "colab": {
          "base_uri": "https://localhost:8080/"
        },
        "id": "RIZl6MdPX_zp",
        "outputId": "27e15651-5a1e-46b5-bd0e-62139f81552f"
      },
      "outputs": [
        {
          "data": {
            "text/plain": [
              "9902.521"
            ]
          },
          "execution_count": 15,
          "metadata": {},
          "output_type": "execute_result"
        }
      ],
      "source": [
        "s"
      ]
    }
  ],
  "metadata": {
    "colab": {
      "provenance": []
    },
    "kernelspec": {
      "display_name": "Python 3",
      "name": "python3"
    },
    "language_info": {
      "codemirror_mode": {
        "name": "ipython",
        "version": 3
      },
      "file_extension": ".py",
      "mimetype": "text/x-python",
      "name": "python",
      "nbconvert_exporter": "python",
      "pygments_lexer": "ipython3",
      "version": "3.11.1"
    }
  },
  "nbformat": 4,
  "nbformat_minor": 0
}
