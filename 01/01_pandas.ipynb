{
  "cells": [
    {
      "attachments": {},
      "cell_type": "markdown",
      "metadata": {
        "id": "ZBF2ykqwHSHS"
      },
      "source": [
        "# Библиотека Pandas в Python\n",
        "\n",
        "Курс \"Python для продвинутых специалистов\"\n",
        "\n",
        "<a target=\"_blank\" href=\"https://colab.research.google.com/github/sozykin/middle_python/blob/main/01/01_pandas.ipynb\">\n",
        "  <img src=\"https://colab.research.google.com/assets/colab-badge.svg\" alt=\"Open In Colab\"/>\n",
        "</a>"
      ]
    },
    {
      "attachments": {},
      "cell_type": "markdown",
      "metadata": {
        "id": "s94HZcKuLjXw"
      },
      "source": [
        "Подключаем библиотеку Pandas"
      ]
    },
    {
      "cell_type": "code",
      "execution_count": null,
      "metadata": {
        "id": "5WyDxGHWHRTb"
      },
      "outputs": [],
      "source": [
        "# Подключаем библиотеку Pandas\n",
        "import pandas as pd"
      ]
    },
    {
      "attachments": {},
      "cell_type": "markdown",
      "metadata": {
        "id": "P_qj49Waesy_"
      },
      "source": [
        "## Чтение файла csv в Pandas"
      ]
    },
    {
      "cell_type": "code",
      "execution_count": null,
      "metadata": {
        "id": "0p-C4OMgLo2X"
      },
      "outputs": [],
      "source": [
        "# Читаем csv файл в Pandas\n",
        "df = pd.read_csv('sales_headers.csv')"
      ]
    },
    {
      "cell_type": "code",
      "execution_count": null,
      "metadata": {
        "colab": {
          "base_uri": "https://localhost:8080/",
          "height": 331
        },
        "id": "3rq1-J0DeiIX",
        "outputId": "0b3db125-b63f-4f9a-8f70-d5e35ff5dc58"
      },
      "outputs": [],
      "source": [
        "df"
      ]
    },
    {
      "cell_type": "code",
      "execution_count": 8,
      "metadata": {
        "colab": {
          "base_uri": "https://localhost:8080/"
        },
        "id": "KQHUqoSvN9_u",
        "outputId": "0d4756f7-f2c5-4d1e-92e9-882834492dd9"
      },
      "outputs": [
        {
          "name": "stdout",
          "output_type": "stream",
          "text": [
            "         date  store_nbr     sales\n",
            "0  2013-06-17         46   566.253\n",
            "1  2013-06-17         46     0.000\n",
            "2  2013-06-17         46  1707.000\n",
            "3  2013-06-17         46   711.000\n",
            "4  2013-06-17         46   709.268\n",
            "5  2013-06-17         46   203.000\n",
            "6  2013-06-17         46   249.000\n",
            "7  2013-06-17         46  5715.000\n",
            "8  2013-06-17         46    42.000\n"
          ]
        }
      ],
      "source": [
        "# Выбор стольцов в Pandas DataFrame\n",
        "print(df[['date','store_nbr', 'sales']])"
      ]
    },
    {
      "attachments": {},
      "cell_type": "markdown",
      "metadata": {
        "id": "74a9A62He05G"
      },
      "source": [
        "## Типы данных столбцов"
      ]
    },
    {
      "cell_type": "code",
      "execution_count": 9,
      "metadata": {
        "colab": {
          "base_uri": "https://localhost:8080/"
        },
        "id": "ewdpH68oOUBW",
        "outputId": "fec792af-1ee5-4a73-83f6-169cfa446f09"
      },
      "outputs": [
        {
          "name": "stdout",
          "output_type": "stream",
          "text": [
            "<class 'pandas.core.frame.DataFrame'>\n",
            "RangeIndex: 9 entries, 0 to 8\n",
            "Data columns (total 6 columns):\n",
            " #   Column       Non-Null Count  Dtype  \n",
            "---  ------       --------------  -----  \n",
            " 0   id           9 non-null      int64  \n",
            " 1   date         9 non-null      object \n",
            " 2   store_nbr    9 non-null      int64  \n",
            " 3   family       9 non-null      object \n",
            " 4   sales        9 non-null      float64\n",
            " 5   onpromotion  9 non-null      int64  \n",
            "dtypes: float64(1), int64(3), object(2)\n",
            "memory usage: 560.0+ bytes\n"
          ]
        }
      ],
      "source": [
        "df.info()"
      ]
    },
    {
      "attachments": {},
      "cell_type": "markdown",
      "metadata": {
        "id": "u37kT-eefeCl"
      },
      "source": [
        "Распознавание даты в Pandas"
      ]
    },
    {
      "cell_type": "code",
      "execution_count": 10,
      "metadata": {
        "id": "qL8y2WLwfK2X"
      },
      "outputs": [],
      "source": [
        "df = pd.read_csv('sales_headers.csv', parse_dates=['date'])"
      ]
    },
    {
      "cell_type": "code",
      "execution_count": 11,
      "metadata": {
        "colab": {
          "base_uri": "https://localhost:8080/"
        },
        "id": "Nk84KOmVfQJW",
        "outputId": "e28dc3e4-603f-4a89-9995-08ff2ee4a530"
      },
      "outputs": [
        {
          "name": "stdout",
          "output_type": "stream",
          "text": [
            "<class 'pandas.core.frame.DataFrame'>\n",
            "RangeIndex: 9 entries, 0 to 8\n",
            "Data columns (total 6 columns):\n",
            " #   Column       Non-Null Count  Dtype         \n",
            "---  ------       --------------  -----         \n",
            " 0   id           9 non-null      int64         \n",
            " 1   date         9 non-null      datetime64[ns]\n",
            " 2   store_nbr    9 non-null      int64         \n",
            " 3   family       9 non-null      object        \n",
            " 4   sales        9 non-null      float64       \n",
            " 5   onpromotion  9 non-null      int64         \n",
            "dtypes: datetime64[ns](1), float64(1), int64(3), object(1)\n",
            "memory usage: 560.0+ bytes\n"
          ]
        }
      ],
      "source": [
        "df.info()"
      ]
    },
    {
      "cell_type": "code",
      "execution_count": 12,
      "metadata": {
        "colab": {
          "base_uri": "https://localhost:8080/",
          "height": 331
        },
        "id": "ENrFyjfCfTot",
        "outputId": "06a8c427-9d80-467d-a903-e615dd4d9764"
      },
      "outputs": [
        {
          "data": {
            "text/html": [
              "<div>\n",
              "<style scoped>\n",
              "    .dataframe tbody tr th:only-of-type {\n",
              "        vertical-align: middle;\n",
              "    }\n",
              "\n",
              "    .dataframe tbody tr th {\n",
              "        vertical-align: top;\n",
              "    }\n",
              "\n",
              "    .dataframe thead th {\n",
              "        text-align: right;\n",
              "    }\n",
              "</style>\n",
              "<table border=\"1\" class=\"dataframe\">\n",
              "  <thead>\n",
              "    <tr style=\"text-align: right;\">\n",
              "      <th></th>\n",
              "      <th>id</th>\n",
              "      <th>date</th>\n",
              "      <th>store_nbr</th>\n",
              "      <th>family</th>\n",
              "      <th>sales</th>\n",
              "      <th>onpromotion</th>\n",
              "    </tr>\n",
              "  </thead>\n",
              "  <tbody>\n",
              "    <tr>\n",
              "      <th>0</th>\n",
              "      <td>298919</td>\n",
              "      <td>2013-06-17</td>\n",
              "      <td>46</td>\n",
              "      <td>BREAD/BAKERY</td>\n",
              "      <td>566.253</td>\n",
              "      <td>0</td>\n",
              "    </tr>\n",
              "    <tr>\n",
              "      <th>1</th>\n",
              "      <td>298920</td>\n",
              "      <td>2013-06-17</td>\n",
              "      <td>46</td>\n",
              "      <td>CELEBRATION</td>\n",
              "      <td>0.000</td>\n",
              "      <td>0</td>\n",
              "    </tr>\n",
              "    <tr>\n",
              "      <th>2</th>\n",
              "      <td>298921</td>\n",
              "      <td>2013-06-17</td>\n",
              "      <td>46</td>\n",
              "      <td>CLEANING</td>\n",
              "      <td>1707.000</td>\n",
              "      <td>0</td>\n",
              "    </tr>\n",
              "    <tr>\n",
              "      <th>3</th>\n",
              "      <td>298922</td>\n",
              "      <td>2013-06-17</td>\n",
              "      <td>46</td>\n",
              "      <td>DAIRY</td>\n",
              "      <td>711.000</td>\n",
              "      <td>0</td>\n",
              "    </tr>\n",
              "    <tr>\n",
              "      <th>4</th>\n",
              "      <td>298923</td>\n",
              "      <td>2013-06-17</td>\n",
              "      <td>46</td>\n",
              "      <td>DELI</td>\n",
              "      <td>709.268</td>\n",
              "      <td>0</td>\n",
              "    </tr>\n",
              "    <tr>\n",
              "      <th>5</th>\n",
              "      <td>298924</td>\n",
              "      <td>2013-06-17</td>\n",
              "      <td>46</td>\n",
              "      <td>EGGS</td>\n",
              "      <td>203.000</td>\n",
              "      <td>0</td>\n",
              "    </tr>\n",
              "    <tr>\n",
              "      <th>6</th>\n",
              "      <td>298925</td>\n",
              "      <td>2013-06-17</td>\n",
              "      <td>46</td>\n",
              "      <td>FROZEN FOODS</td>\n",
              "      <td>249.000</td>\n",
              "      <td>0</td>\n",
              "    </tr>\n",
              "    <tr>\n",
              "      <th>7</th>\n",
              "      <td>298926</td>\n",
              "      <td>2013-06-17</td>\n",
              "      <td>46</td>\n",
              "      <td>GROCERY I</td>\n",
              "      <td>5715.000</td>\n",
              "      <td>0</td>\n",
              "    </tr>\n",
              "    <tr>\n",
              "      <th>8</th>\n",
              "      <td>298927</td>\n",
              "      <td>2013-06-17</td>\n",
              "      <td>46</td>\n",
              "      <td>GROCERY II</td>\n",
              "      <td>42.000</td>\n",
              "      <td>0</td>\n",
              "    </tr>\n",
              "  </tbody>\n",
              "</table>\n",
              "</div>"
            ],
            "text/plain": [
              "       id       date  store_nbr        family     sales  onpromotion\n",
              "0  298919 2013-06-17         46  BREAD/BAKERY   566.253            0\n",
              "1  298920 2013-06-17         46   CELEBRATION     0.000            0\n",
              "2  298921 2013-06-17         46      CLEANING  1707.000            0\n",
              "3  298922 2013-06-17         46         DAIRY   711.000            0\n",
              "4  298923 2013-06-17         46          DELI   709.268            0\n",
              "5  298924 2013-06-17         46          EGGS   203.000            0\n",
              "6  298925 2013-06-17         46  FROZEN FOODS   249.000            0\n",
              "7  298926 2013-06-17         46     GROCERY I  5715.000            0\n",
              "8  298927 2013-06-17         46    GROCERY II    42.000            0"
            ]
          },
          "execution_count": 12,
          "metadata": {},
          "output_type": "execute_result"
        }
      ],
      "source": [
        "df"
      ]
    },
    {
      "attachments": {},
      "cell_type": "markdown",
      "metadata": {
        "id": "gW4d8OUvfiqf"
      },
      "source": [
        "## Фильтрация данных в Pandas"
      ]
    },
    {
      "cell_type": "code",
      "execution_count": 13,
      "metadata": {
        "colab": {
          "base_uri": "https://localhost:8080/"
        },
        "id": "8r4TtBg2SCZm",
        "outputId": "af1186f4-b1f8-4357-ae97-25976a1ed058"
      },
      "outputs": [
        {
          "name": "stdout",
          "output_type": "stream",
          "text": [
            "       id       date  store_nbr     family   sales  onpromotion\n",
            "2  298921 2013-06-17         46   CLEANING  1707.0            0\n",
            "7  298926 2013-06-17         46  GROCERY I  5715.0            0\n"
          ]
        }
      ],
      "source": [
        "# Фильтрация данных в DataFrame\n",
        "print(df[df.sales > 1000])"
      ]
    },
    {
      "attachments": {},
      "cell_type": "markdown",
      "metadata": {
        "id": "F3Q-iabPfv8O"
      },
      "source": [
        "## Агрегатные функции в Pandas"
      ]
    },
    {
      "cell_type": "code",
      "execution_count": 14,
      "metadata": {
        "colab": {
          "base_uri": "https://localhost:8080/"
        },
        "id": "OcEzLojoSvek",
        "outputId": "c1e332ca-9474-421f-c6c0-4b8e60c9f54d"
      },
      "outputs": [
        {
          "name": "stdout",
          "output_type": "stream",
          "text": [
            "9902.521\n"
          ]
        }
      ],
      "source": [
        "# Агрегатные функции в Pandas\n",
        "print(df['sales'].sum())"
      ]
    },
    {
      "cell_type": "code",
      "execution_count": 15,
      "metadata": {
        "colab": {
          "base_uri": "https://localhost:8080/"
        },
        "id": "P6KIOS62S5zd",
        "outputId": "b90ddb3c-8ea1-465a-dce7-927d9d4a8aa7"
      },
      "outputs": [
        {
          "name": "stdout",
          "output_type": "stream",
          "text": [
            "5715.0\n"
          ]
        }
      ],
      "source": [
        "print(df['sales'].max())"
      ]
    },
    {
      "cell_type": "code",
      "execution_count": 16,
      "metadata": {
        "colab": {
          "base_uri": "https://localhost:8080/"
        },
        "id": "wKEK6nVIS8Xz",
        "outputId": "d2ff3e2a-f31c-46aa-a0e5-c81ecd122e9d"
      },
      "outputs": [
        {
          "name": "stdout",
          "output_type": "stream",
          "text": [
            "0.0\n"
          ]
        }
      ],
      "source": [
        "print(df['sales'].min())"
      ]
    },
    {
      "attachments": {},
      "cell_type": "markdown",
      "metadata": {
        "id": "BZebYfsZfzUm"
      },
      "source": [
        "Группировка в Pandas"
      ]
    },
    {
      "cell_type": "code",
      "execution_count": 17,
      "metadata": {
        "colab": {
          "base_uri": "https://localhost:8080/"
        },
        "id": "U0STJ71FTQyU",
        "outputId": "4b25ba18-9a3f-4c92-89ef-9a48d7fe7d7a"
      },
      "outputs": [
        {
          "name": "stdout",
          "output_type": "stream",
          "text": [
            "                 sales\n",
            "family                \n",
            "BREAD/BAKERY   566.253\n",
            "CELEBRATION      0.000\n",
            "CLEANING      1707.000\n",
            "DAIRY          711.000\n",
            "DELI           709.268\n",
            "EGGS           203.000\n",
            "FROZEN FOODS   249.000\n",
            "GROCERY I     5715.000\n",
            "GROCERY II      42.000\n"
          ]
        }
      ],
      "source": [
        "print(df[['family', 'sales']].groupby('family').sum())"
      ]
    },
    {
      "attachments": {},
      "cell_type": "markdown",
      "metadata": {
        "id": "YHTai2N4f89O"
      },
      "source": [
        "## Изменение таблицы в Pandas"
      ]
    },
    {
      "cell_type": "code",
      "execution_count": 18,
      "metadata": {
        "colab": {
          "base_uri": "https://localhost:8080/",
          "height": 331
        },
        "id": "9OBu7EFkgALV",
        "outputId": "36ab3008-692c-4e21-acc1-8702a42afc33"
      },
      "outputs": [
        {
          "data": {
            "text/html": [
              "<div>\n",
              "<style scoped>\n",
              "    .dataframe tbody tr th:only-of-type {\n",
              "        vertical-align: middle;\n",
              "    }\n",
              "\n",
              "    .dataframe tbody tr th {\n",
              "        vertical-align: top;\n",
              "    }\n",
              "\n",
              "    .dataframe thead th {\n",
              "        text-align: right;\n",
              "    }\n",
              "</style>\n",
              "<table border=\"1\" class=\"dataframe\">\n",
              "  <thead>\n",
              "    <tr style=\"text-align: right;\">\n",
              "      <th></th>\n",
              "      <th>id</th>\n",
              "      <th>date</th>\n",
              "      <th>store_nbr</th>\n",
              "      <th>family</th>\n",
              "      <th>sales</th>\n",
              "      <th>onpromotion</th>\n",
              "    </tr>\n",
              "  </thead>\n",
              "  <tbody>\n",
              "    <tr>\n",
              "      <th>0</th>\n",
              "      <td>298919</td>\n",
              "      <td>2013-06-17</td>\n",
              "      <td>46</td>\n",
              "      <td>BREAD/BAKERY</td>\n",
              "      <td>566.253</td>\n",
              "      <td>0</td>\n",
              "    </tr>\n",
              "    <tr>\n",
              "      <th>1</th>\n",
              "      <td>298920</td>\n",
              "      <td>2013-06-17</td>\n",
              "      <td>46</td>\n",
              "      <td>CELEBRATION</td>\n",
              "      <td>0.000</td>\n",
              "      <td>0</td>\n",
              "    </tr>\n",
              "    <tr>\n",
              "      <th>2</th>\n",
              "      <td>298921</td>\n",
              "      <td>2013-06-17</td>\n",
              "      <td>46</td>\n",
              "      <td>CLEANING</td>\n",
              "      <td>1707.000</td>\n",
              "      <td>0</td>\n",
              "    </tr>\n",
              "    <tr>\n",
              "      <th>3</th>\n",
              "      <td>298922</td>\n",
              "      <td>2013-06-17</td>\n",
              "      <td>46</td>\n",
              "      <td>DAIRY</td>\n",
              "      <td>711.000</td>\n",
              "      <td>0</td>\n",
              "    </tr>\n",
              "    <tr>\n",
              "      <th>4</th>\n",
              "      <td>298923</td>\n",
              "      <td>2013-06-17</td>\n",
              "      <td>46</td>\n",
              "      <td>DELI</td>\n",
              "      <td>709.268</td>\n",
              "      <td>0</td>\n",
              "    </tr>\n",
              "    <tr>\n",
              "      <th>5</th>\n",
              "      <td>298924</td>\n",
              "      <td>2013-06-17</td>\n",
              "      <td>46</td>\n",
              "      <td>EGGS</td>\n",
              "      <td>203.000</td>\n",
              "      <td>0</td>\n",
              "    </tr>\n",
              "    <tr>\n",
              "      <th>6</th>\n",
              "      <td>298925</td>\n",
              "      <td>2013-06-17</td>\n",
              "      <td>46</td>\n",
              "      <td>FROZEN FOODS</td>\n",
              "      <td>249.000</td>\n",
              "      <td>0</td>\n",
              "    </tr>\n",
              "    <tr>\n",
              "      <th>7</th>\n",
              "      <td>298926</td>\n",
              "      <td>2013-06-17</td>\n",
              "      <td>46</td>\n",
              "      <td>GROCERY I</td>\n",
              "      <td>5715.000</td>\n",
              "      <td>0</td>\n",
              "    </tr>\n",
              "    <tr>\n",
              "      <th>8</th>\n",
              "      <td>298927</td>\n",
              "      <td>2013-06-17</td>\n",
              "      <td>46</td>\n",
              "      <td>GROCERY II</td>\n",
              "      <td>42.000</td>\n",
              "      <td>0</td>\n",
              "    </tr>\n",
              "  </tbody>\n",
              "</table>\n",
              "</div>"
            ],
            "text/plain": [
              "       id       date  store_nbr        family     sales  onpromotion\n",
              "0  298919 2013-06-17         46  BREAD/BAKERY   566.253            0\n",
              "1  298920 2013-06-17         46   CELEBRATION     0.000            0\n",
              "2  298921 2013-06-17         46      CLEANING  1707.000            0\n",
              "3  298922 2013-06-17         46         DAIRY   711.000            0\n",
              "4  298923 2013-06-17         46          DELI   709.268            0\n",
              "5  298924 2013-06-17         46          EGGS   203.000            0\n",
              "6  298925 2013-06-17         46  FROZEN FOODS   249.000            0\n",
              "7  298926 2013-06-17         46     GROCERY I  5715.000            0\n",
              "8  298927 2013-06-17         46    GROCERY II    42.000            0"
            ]
          },
          "execution_count": 18,
          "metadata": {},
          "output_type": "execute_result"
        }
      ],
      "source": [
        "df"
      ]
    },
    {
      "cell_type": "code",
      "execution_count": 19,
      "metadata": {
        "colab": {
          "base_uri": "https://localhost:8080/"
        },
        "id": "idfsbbCygEiV",
        "outputId": "69f213a3-5239-4c3e-e1a3-a2f1b7b251ae"
      },
      "outputs": [
        {
          "name": "stderr",
          "output_type": "stream",
          "text": [
            "C:\\Users\\sozyk\\AppData\\Local\\Temp\\ipykernel_12436\\3397168793.py:1: SettingWithCopyWarning: \n",
            "A value is trying to be set on a copy of a slice from a DataFrame.\n",
            "Try using .loc[row_indexer,col_indexer] = value instead\n",
            "\n",
            "See the caveats in the documentation: https://pandas.pydata.org/pandas-docs/stable/user_guide/indexing.html#returning-a-view-versus-a-copy\n",
            "  df[df.family == 'FROZEN FOODS']['onpromotion'] = 1\n"
          ]
        }
      ],
      "source": [
        "df[df.family == 'FROZEN FOODS']['onpromotion'] = 1"
      ]
    },
    {
      "cell_type": "code",
      "execution_count": 20,
      "metadata": {
        "colab": {
          "base_uri": "https://localhost:8080/",
          "height": 331
        },
        "id": "XZEBveX9gi12",
        "outputId": "bc884bc9-e83c-4339-af8e-ebdf52ba024e"
      },
      "outputs": [
        {
          "data": {
            "text/html": [
              "<div>\n",
              "<style scoped>\n",
              "    .dataframe tbody tr th:only-of-type {\n",
              "        vertical-align: middle;\n",
              "    }\n",
              "\n",
              "    .dataframe tbody tr th {\n",
              "        vertical-align: top;\n",
              "    }\n",
              "\n",
              "    .dataframe thead th {\n",
              "        text-align: right;\n",
              "    }\n",
              "</style>\n",
              "<table border=\"1\" class=\"dataframe\">\n",
              "  <thead>\n",
              "    <tr style=\"text-align: right;\">\n",
              "      <th></th>\n",
              "      <th>id</th>\n",
              "      <th>date</th>\n",
              "      <th>store_nbr</th>\n",
              "      <th>family</th>\n",
              "      <th>sales</th>\n",
              "      <th>onpromotion</th>\n",
              "    </tr>\n",
              "  </thead>\n",
              "  <tbody>\n",
              "    <tr>\n",
              "      <th>0</th>\n",
              "      <td>298919</td>\n",
              "      <td>2013-06-17</td>\n",
              "      <td>46</td>\n",
              "      <td>BREAD/BAKERY</td>\n",
              "      <td>566.253</td>\n",
              "      <td>0</td>\n",
              "    </tr>\n",
              "    <tr>\n",
              "      <th>1</th>\n",
              "      <td>298920</td>\n",
              "      <td>2013-06-17</td>\n",
              "      <td>46</td>\n",
              "      <td>CELEBRATION</td>\n",
              "      <td>0.000</td>\n",
              "      <td>0</td>\n",
              "    </tr>\n",
              "    <tr>\n",
              "      <th>2</th>\n",
              "      <td>298921</td>\n",
              "      <td>2013-06-17</td>\n",
              "      <td>46</td>\n",
              "      <td>CLEANING</td>\n",
              "      <td>1707.000</td>\n",
              "      <td>0</td>\n",
              "    </tr>\n",
              "    <tr>\n",
              "      <th>3</th>\n",
              "      <td>298922</td>\n",
              "      <td>2013-06-17</td>\n",
              "      <td>46</td>\n",
              "      <td>DAIRY</td>\n",
              "      <td>711.000</td>\n",
              "      <td>0</td>\n",
              "    </tr>\n",
              "    <tr>\n",
              "      <th>4</th>\n",
              "      <td>298923</td>\n",
              "      <td>2013-06-17</td>\n",
              "      <td>46</td>\n",
              "      <td>DELI</td>\n",
              "      <td>709.268</td>\n",
              "      <td>0</td>\n",
              "    </tr>\n",
              "    <tr>\n",
              "      <th>5</th>\n",
              "      <td>298924</td>\n",
              "      <td>2013-06-17</td>\n",
              "      <td>46</td>\n",
              "      <td>EGGS</td>\n",
              "      <td>203.000</td>\n",
              "      <td>0</td>\n",
              "    </tr>\n",
              "    <tr>\n",
              "      <th>6</th>\n",
              "      <td>298925</td>\n",
              "      <td>2013-06-17</td>\n",
              "      <td>46</td>\n",
              "      <td>FROZEN FOODS</td>\n",
              "      <td>249.000</td>\n",
              "      <td>0</td>\n",
              "    </tr>\n",
              "    <tr>\n",
              "      <th>7</th>\n",
              "      <td>298926</td>\n",
              "      <td>2013-06-17</td>\n",
              "      <td>46</td>\n",
              "      <td>GROCERY I</td>\n",
              "      <td>5715.000</td>\n",
              "      <td>0</td>\n",
              "    </tr>\n",
              "    <tr>\n",
              "      <th>8</th>\n",
              "      <td>298927</td>\n",
              "      <td>2013-06-17</td>\n",
              "      <td>46</td>\n",
              "      <td>GROCERY II</td>\n",
              "      <td>42.000</td>\n",
              "      <td>0</td>\n",
              "    </tr>\n",
              "  </tbody>\n",
              "</table>\n",
              "</div>"
            ],
            "text/plain": [
              "       id       date  store_nbr        family     sales  onpromotion\n",
              "0  298919 2013-06-17         46  BREAD/BAKERY   566.253            0\n",
              "1  298920 2013-06-17         46   CELEBRATION     0.000            0\n",
              "2  298921 2013-06-17         46      CLEANING  1707.000            0\n",
              "3  298922 2013-06-17         46         DAIRY   711.000            0\n",
              "4  298923 2013-06-17         46          DELI   709.268            0\n",
              "5  298924 2013-06-17         46          EGGS   203.000            0\n",
              "6  298925 2013-06-17         46  FROZEN FOODS   249.000            0\n",
              "7  298926 2013-06-17         46     GROCERY I  5715.000            0\n",
              "8  298927 2013-06-17         46    GROCERY II    42.000            0"
            ]
          },
          "execution_count": 20,
          "metadata": {},
          "output_type": "execute_result"
        }
      ],
      "source": [
        "df"
      ]
    },
    {
      "cell_type": "code",
      "execution_count": 21,
      "metadata": {
        "id": "TYwvvahSgmW1"
      },
      "outputs": [],
      "source": [
        "df.loc[df.family == 'FROZEN FOODS', ('onpromotion')] = 1"
      ]
    },
    {
      "cell_type": "code",
      "execution_count": 22,
      "metadata": {
        "colab": {
          "base_uri": "https://localhost:8080/",
          "height": 331
        },
        "id": "37flLhMpg6AF",
        "outputId": "efd73ffa-f736-44c8-81a8-c2a0a314d735"
      },
      "outputs": [
        {
          "data": {
            "text/html": [
              "<div>\n",
              "<style scoped>\n",
              "    .dataframe tbody tr th:only-of-type {\n",
              "        vertical-align: middle;\n",
              "    }\n",
              "\n",
              "    .dataframe tbody tr th {\n",
              "        vertical-align: top;\n",
              "    }\n",
              "\n",
              "    .dataframe thead th {\n",
              "        text-align: right;\n",
              "    }\n",
              "</style>\n",
              "<table border=\"1\" class=\"dataframe\">\n",
              "  <thead>\n",
              "    <tr style=\"text-align: right;\">\n",
              "      <th></th>\n",
              "      <th>id</th>\n",
              "      <th>date</th>\n",
              "      <th>store_nbr</th>\n",
              "      <th>family</th>\n",
              "      <th>sales</th>\n",
              "      <th>onpromotion</th>\n",
              "    </tr>\n",
              "  </thead>\n",
              "  <tbody>\n",
              "    <tr>\n",
              "      <th>0</th>\n",
              "      <td>298919</td>\n",
              "      <td>2013-06-17</td>\n",
              "      <td>46</td>\n",
              "      <td>BREAD/BAKERY</td>\n",
              "      <td>566.253</td>\n",
              "      <td>0</td>\n",
              "    </tr>\n",
              "    <tr>\n",
              "      <th>1</th>\n",
              "      <td>298920</td>\n",
              "      <td>2013-06-17</td>\n",
              "      <td>46</td>\n",
              "      <td>CELEBRATION</td>\n",
              "      <td>0.000</td>\n",
              "      <td>0</td>\n",
              "    </tr>\n",
              "    <tr>\n",
              "      <th>2</th>\n",
              "      <td>298921</td>\n",
              "      <td>2013-06-17</td>\n",
              "      <td>46</td>\n",
              "      <td>CLEANING</td>\n",
              "      <td>1707.000</td>\n",
              "      <td>0</td>\n",
              "    </tr>\n",
              "    <tr>\n",
              "      <th>3</th>\n",
              "      <td>298922</td>\n",
              "      <td>2013-06-17</td>\n",
              "      <td>46</td>\n",
              "      <td>DAIRY</td>\n",
              "      <td>711.000</td>\n",
              "      <td>0</td>\n",
              "    </tr>\n",
              "    <tr>\n",
              "      <th>4</th>\n",
              "      <td>298923</td>\n",
              "      <td>2013-06-17</td>\n",
              "      <td>46</td>\n",
              "      <td>DELI</td>\n",
              "      <td>709.268</td>\n",
              "      <td>0</td>\n",
              "    </tr>\n",
              "    <tr>\n",
              "      <th>5</th>\n",
              "      <td>298924</td>\n",
              "      <td>2013-06-17</td>\n",
              "      <td>46</td>\n",
              "      <td>EGGS</td>\n",
              "      <td>203.000</td>\n",
              "      <td>0</td>\n",
              "    </tr>\n",
              "    <tr>\n",
              "      <th>6</th>\n",
              "      <td>298925</td>\n",
              "      <td>2013-06-17</td>\n",
              "      <td>46</td>\n",
              "      <td>FROZEN FOODS</td>\n",
              "      <td>249.000</td>\n",
              "      <td>1</td>\n",
              "    </tr>\n",
              "    <tr>\n",
              "      <th>7</th>\n",
              "      <td>298926</td>\n",
              "      <td>2013-06-17</td>\n",
              "      <td>46</td>\n",
              "      <td>GROCERY I</td>\n",
              "      <td>5715.000</td>\n",
              "      <td>0</td>\n",
              "    </tr>\n",
              "    <tr>\n",
              "      <th>8</th>\n",
              "      <td>298927</td>\n",
              "      <td>2013-06-17</td>\n",
              "      <td>46</td>\n",
              "      <td>GROCERY II</td>\n",
              "      <td>42.000</td>\n",
              "      <td>0</td>\n",
              "    </tr>\n",
              "  </tbody>\n",
              "</table>\n",
              "</div>"
            ],
            "text/plain": [
              "       id       date  store_nbr        family     sales  onpromotion\n",
              "0  298919 2013-06-17         46  BREAD/BAKERY   566.253            0\n",
              "1  298920 2013-06-17         46   CELEBRATION     0.000            0\n",
              "2  298921 2013-06-17         46      CLEANING  1707.000            0\n",
              "3  298922 2013-06-17         46         DAIRY   711.000            0\n",
              "4  298923 2013-06-17         46          DELI   709.268            0\n",
              "5  298924 2013-06-17         46          EGGS   203.000            0\n",
              "6  298925 2013-06-17         46  FROZEN FOODS   249.000            1\n",
              "7  298926 2013-06-17         46     GROCERY I  5715.000            0\n",
              "8  298927 2013-06-17         46    GROCERY II    42.000            0"
            ]
          },
          "execution_count": 22,
          "metadata": {},
          "output_type": "execute_result"
        }
      ],
      "source": [
        "df"
      ]
    },
    {
      "attachments": {},
      "cell_type": "markdown",
      "metadata": {
        "id": "vjmSlqFthoGl"
      },
      "source": [
        "## Pandas DataFrame в памяти"
      ]
    },
    {
      "cell_type": "code",
      "execution_count": 23,
      "metadata": {
        "id": "mbZ3JxQahtHt"
      },
      "outputs": [],
      "source": [
        "new_df = df"
      ]
    },
    {
      "cell_type": "code",
      "execution_count": 24,
      "metadata": {
        "colab": {
          "base_uri": "https://localhost:8080/",
          "height": 331
        },
        "id": "emV9qPPPhvFM",
        "outputId": "fc193a35-307e-4f63-da2d-adb5c4bc9848"
      },
      "outputs": [
        {
          "data": {
            "text/html": [
              "<div>\n",
              "<style scoped>\n",
              "    .dataframe tbody tr th:only-of-type {\n",
              "        vertical-align: middle;\n",
              "    }\n",
              "\n",
              "    .dataframe tbody tr th {\n",
              "        vertical-align: top;\n",
              "    }\n",
              "\n",
              "    .dataframe thead th {\n",
              "        text-align: right;\n",
              "    }\n",
              "</style>\n",
              "<table border=\"1\" class=\"dataframe\">\n",
              "  <thead>\n",
              "    <tr style=\"text-align: right;\">\n",
              "      <th></th>\n",
              "      <th>id</th>\n",
              "      <th>date</th>\n",
              "      <th>store_nbr</th>\n",
              "      <th>family</th>\n",
              "      <th>sales</th>\n",
              "      <th>onpromotion</th>\n",
              "    </tr>\n",
              "  </thead>\n",
              "  <tbody>\n",
              "    <tr>\n",
              "      <th>0</th>\n",
              "      <td>298919</td>\n",
              "      <td>2013-06-17</td>\n",
              "      <td>46</td>\n",
              "      <td>BREAD/BAKERY</td>\n",
              "      <td>566.253</td>\n",
              "      <td>0</td>\n",
              "    </tr>\n",
              "    <tr>\n",
              "      <th>1</th>\n",
              "      <td>298920</td>\n",
              "      <td>2013-06-17</td>\n",
              "      <td>46</td>\n",
              "      <td>CELEBRATION</td>\n",
              "      <td>0.000</td>\n",
              "      <td>0</td>\n",
              "    </tr>\n",
              "    <tr>\n",
              "      <th>2</th>\n",
              "      <td>298921</td>\n",
              "      <td>2013-06-17</td>\n",
              "      <td>46</td>\n",
              "      <td>CLEANING</td>\n",
              "      <td>1707.000</td>\n",
              "      <td>0</td>\n",
              "    </tr>\n",
              "    <tr>\n",
              "      <th>3</th>\n",
              "      <td>298922</td>\n",
              "      <td>2013-06-17</td>\n",
              "      <td>46</td>\n",
              "      <td>DAIRY</td>\n",
              "      <td>711.000</td>\n",
              "      <td>0</td>\n",
              "    </tr>\n",
              "    <tr>\n",
              "      <th>4</th>\n",
              "      <td>298923</td>\n",
              "      <td>2013-06-17</td>\n",
              "      <td>46</td>\n",
              "      <td>DELI</td>\n",
              "      <td>709.268</td>\n",
              "      <td>0</td>\n",
              "    </tr>\n",
              "    <tr>\n",
              "      <th>5</th>\n",
              "      <td>298924</td>\n",
              "      <td>2013-06-17</td>\n",
              "      <td>46</td>\n",
              "      <td>EGGS</td>\n",
              "      <td>203.000</td>\n",
              "      <td>0</td>\n",
              "    </tr>\n",
              "    <tr>\n",
              "      <th>6</th>\n",
              "      <td>298925</td>\n",
              "      <td>2013-06-17</td>\n",
              "      <td>46</td>\n",
              "      <td>FROZEN FOODS</td>\n",
              "      <td>249.000</td>\n",
              "      <td>1</td>\n",
              "    </tr>\n",
              "    <tr>\n",
              "      <th>7</th>\n",
              "      <td>298926</td>\n",
              "      <td>2013-06-17</td>\n",
              "      <td>46</td>\n",
              "      <td>GROCERY I</td>\n",
              "      <td>5715.000</td>\n",
              "      <td>0</td>\n",
              "    </tr>\n",
              "    <tr>\n",
              "      <th>8</th>\n",
              "      <td>298927</td>\n",
              "      <td>2013-06-17</td>\n",
              "      <td>46</td>\n",
              "      <td>GROCERY II</td>\n",
              "      <td>42.000</td>\n",
              "      <td>0</td>\n",
              "    </tr>\n",
              "  </tbody>\n",
              "</table>\n",
              "</div>"
            ],
            "text/plain": [
              "       id       date  store_nbr        family     sales  onpromotion\n",
              "0  298919 2013-06-17         46  BREAD/BAKERY   566.253            0\n",
              "1  298920 2013-06-17         46   CELEBRATION     0.000            0\n",
              "2  298921 2013-06-17         46      CLEANING  1707.000            0\n",
              "3  298922 2013-06-17         46         DAIRY   711.000            0\n",
              "4  298923 2013-06-17         46          DELI   709.268            0\n",
              "5  298924 2013-06-17         46          EGGS   203.000            0\n",
              "6  298925 2013-06-17         46  FROZEN FOODS   249.000            1\n",
              "7  298926 2013-06-17         46     GROCERY I  5715.000            0\n",
              "8  298927 2013-06-17         46    GROCERY II    42.000            0"
            ]
          },
          "execution_count": 24,
          "metadata": {},
          "output_type": "execute_result"
        }
      ],
      "source": [
        "new_df"
      ]
    },
    {
      "cell_type": "code",
      "execution_count": 25,
      "metadata": {
        "colab": {
          "base_uri": "https://localhost:8080/"
        },
        "id": "EO0woIAxhwq0",
        "outputId": "1b6bd71b-10a1-40bd-fccc-c5e71b8867b9"
      },
      "outputs": [
        {
          "data": {
            "text/plain": [
              "2388825671632"
            ]
          },
          "execution_count": 25,
          "metadata": {},
          "output_type": "execute_result"
        }
      ],
      "source": [
        "id(df)"
      ]
    },
    {
      "cell_type": "code",
      "execution_count": 26,
      "metadata": {
        "colab": {
          "base_uri": "https://localhost:8080/"
        },
        "id": "QY7UHE81hzEF",
        "outputId": "406be8b7-9643-4c5a-b63b-732605edbf8a"
      },
      "outputs": [
        {
          "data": {
            "text/plain": [
              "2388825671632"
            ]
          },
          "execution_count": 26,
          "metadata": {},
          "output_type": "execute_result"
        }
      ],
      "source": [
        "id(new_df)"
      ]
    },
    {
      "cell_type": "code",
      "execution_count": 27,
      "metadata": {
        "id": "aQreJDI9h31U"
      },
      "outputs": [],
      "source": [
        "new_df.loc[df.family == 'CLEANING', ('onpromotion')] = 1"
      ]
    },
    {
      "cell_type": "code",
      "execution_count": 28,
      "metadata": {
        "colab": {
          "base_uri": "https://localhost:8080/",
          "height": 331
        },
        "id": "cexOqyrZiBvc",
        "outputId": "d4dae0f1-4c55-4c1f-fd19-e8bef8901b81"
      },
      "outputs": [
        {
          "data": {
            "text/html": [
              "<div>\n",
              "<style scoped>\n",
              "    .dataframe tbody tr th:only-of-type {\n",
              "        vertical-align: middle;\n",
              "    }\n",
              "\n",
              "    .dataframe tbody tr th {\n",
              "        vertical-align: top;\n",
              "    }\n",
              "\n",
              "    .dataframe thead th {\n",
              "        text-align: right;\n",
              "    }\n",
              "</style>\n",
              "<table border=\"1\" class=\"dataframe\">\n",
              "  <thead>\n",
              "    <tr style=\"text-align: right;\">\n",
              "      <th></th>\n",
              "      <th>id</th>\n",
              "      <th>date</th>\n",
              "      <th>store_nbr</th>\n",
              "      <th>family</th>\n",
              "      <th>sales</th>\n",
              "      <th>onpromotion</th>\n",
              "    </tr>\n",
              "  </thead>\n",
              "  <tbody>\n",
              "    <tr>\n",
              "      <th>0</th>\n",
              "      <td>298919</td>\n",
              "      <td>2013-06-17</td>\n",
              "      <td>46</td>\n",
              "      <td>BREAD/BAKERY</td>\n",
              "      <td>566.253</td>\n",
              "      <td>0</td>\n",
              "    </tr>\n",
              "    <tr>\n",
              "      <th>1</th>\n",
              "      <td>298920</td>\n",
              "      <td>2013-06-17</td>\n",
              "      <td>46</td>\n",
              "      <td>CELEBRATION</td>\n",
              "      <td>0.000</td>\n",
              "      <td>0</td>\n",
              "    </tr>\n",
              "    <tr>\n",
              "      <th>2</th>\n",
              "      <td>298921</td>\n",
              "      <td>2013-06-17</td>\n",
              "      <td>46</td>\n",
              "      <td>CLEANING</td>\n",
              "      <td>1707.000</td>\n",
              "      <td>1</td>\n",
              "    </tr>\n",
              "    <tr>\n",
              "      <th>3</th>\n",
              "      <td>298922</td>\n",
              "      <td>2013-06-17</td>\n",
              "      <td>46</td>\n",
              "      <td>DAIRY</td>\n",
              "      <td>711.000</td>\n",
              "      <td>0</td>\n",
              "    </tr>\n",
              "    <tr>\n",
              "      <th>4</th>\n",
              "      <td>298923</td>\n",
              "      <td>2013-06-17</td>\n",
              "      <td>46</td>\n",
              "      <td>DELI</td>\n",
              "      <td>709.268</td>\n",
              "      <td>0</td>\n",
              "    </tr>\n",
              "    <tr>\n",
              "      <th>5</th>\n",
              "      <td>298924</td>\n",
              "      <td>2013-06-17</td>\n",
              "      <td>46</td>\n",
              "      <td>EGGS</td>\n",
              "      <td>203.000</td>\n",
              "      <td>0</td>\n",
              "    </tr>\n",
              "    <tr>\n",
              "      <th>6</th>\n",
              "      <td>298925</td>\n",
              "      <td>2013-06-17</td>\n",
              "      <td>46</td>\n",
              "      <td>FROZEN FOODS</td>\n",
              "      <td>249.000</td>\n",
              "      <td>1</td>\n",
              "    </tr>\n",
              "    <tr>\n",
              "      <th>7</th>\n",
              "      <td>298926</td>\n",
              "      <td>2013-06-17</td>\n",
              "      <td>46</td>\n",
              "      <td>GROCERY I</td>\n",
              "      <td>5715.000</td>\n",
              "      <td>0</td>\n",
              "    </tr>\n",
              "    <tr>\n",
              "      <th>8</th>\n",
              "      <td>298927</td>\n",
              "      <td>2013-06-17</td>\n",
              "      <td>46</td>\n",
              "      <td>GROCERY II</td>\n",
              "      <td>42.000</td>\n",
              "      <td>0</td>\n",
              "    </tr>\n",
              "  </tbody>\n",
              "</table>\n",
              "</div>"
            ],
            "text/plain": [
              "       id       date  store_nbr        family     sales  onpromotion\n",
              "0  298919 2013-06-17         46  BREAD/BAKERY   566.253            0\n",
              "1  298920 2013-06-17         46   CELEBRATION     0.000            0\n",
              "2  298921 2013-06-17         46      CLEANING  1707.000            1\n",
              "3  298922 2013-06-17         46         DAIRY   711.000            0\n",
              "4  298923 2013-06-17         46          DELI   709.268            0\n",
              "5  298924 2013-06-17         46          EGGS   203.000            0\n",
              "6  298925 2013-06-17         46  FROZEN FOODS   249.000            1\n",
              "7  298926 2013-06-17         46     GROCERY I  5715.000            0\n",
              "8  298927 2013-06-17         46    GROCERY II    42.000            0"
            ]
          },
          "execution_count": 28,
          "metadata": {},
          "output_type": "execute_result"
        }
      ],
      "source": [
        "new_df"
      ]
    },
    {
      "cell_type": "code",
      "execution_count": 29,
      "metadata": {
        "colab": {
          "base_uri": "https://localhost:8080/",
          "height": 331
        },
        "id": "u7urRnO7iEYD",
        "outputId": "27946fb7-94f6-4a0d-d39f-2281cc40f412"
      },
      "outputs": [
        {
          "data": {
            "text/html": [
              "<div>\n",
              "<style scoped>\n",
              "    .dataframe tbody tr th:only-of-type {\n",
              "        vertical-align: middle;\n",
              "    }\n",
              "\n",
              "    .dataframe tbody tr th {\n",
              "        vertical-align: top;\n",
              "    }\n",
              "\n",
              "    .dataframe thead th {\n",
              "        text-align: right;\n",
              "    }\n",
              "</style>\n",
              "<table border=\"1\" class=\"dataframe\">\n",
              "  <thead>\n",
              "    <tr style=\"text-align: right;\">\n",
              "      <th></th>\n",
              "      <th>id</th>\n",
              "      <th>date</th>\n",
              "      <th>store_nbr</th>\n",
              "      <th>family</th>\n",
              "      <th>sales</th>\n",
              "      <th>onpromotion</th>\n",
              "    </tr>\n",
              "  </thead>\n",
              "  <tbody>\n",
              "    <tr>\n",
              "      <th>0</th>\n",
              "      <td>298919</td>\n",
              "      <td>2013-06-17</td>\n",
              "      <td>46</td>\n",
              "      <td>BREAD/BAKERY</td>\n",
              "      <td>566.253</td>\n",
              "      <td>0</td>\n",
              "    </tr>\n",
              "    <tr>\n",
              "      <th>1</th>\n",
              "      <td>298920</td>\n",
              "      <td>2013-06-17</td>\n",
              "      <td>46</td>\n",
              "      <td>CELEBRATION</td>\n",
              "      <td>0.000</td>\n",
              "      <td>0</td>\n",
              "    </tr>\n",
              "    <tr>\n",
              "      <th>2</th>\n",
              "      <td>298921</td>\n",
              "      <td>2013-06-17</td>\n",
              "      <td>46</td>\n",
              "      <td>CLEANING</td>\n",
              "      <td>1707.000</td>\n",
              "      <td>1</td>\n",
              "    </tr>\n",
              "    <tr>\n",
              "      <th>3</th>\n",
              "      <td>298922</td>\n",
              "      <td>2013-06-17</td>\n",
              "      <td>46</td>\n",
              "      <td>DAIRY</td>\n",
              "      <td>711.000</td>\n",
              "      <td>0</td>\n",
              "    </tr>\n",
              "    <tr>\n",
              "      <th>4</th>\n",
              "      <td>298923</td>\n",
              "      <td>2013-06-17</td>\n",
              "      <td>46</td>\n",
              "      <td>DELI</td>\n",
              "      <td>709.268</td>\n",
              "      <td>0</td>\n",
              "    </tr>\n",
              "    <tr>\n",
              "      <th>5</th>\n",
              "      <td>298924</td>\n",
              "      <td>2013-06-17</td>\n",
              "      <td>46</td>\n",
              "      <td>EGGS</td>\n",
              "      <td>203.000</td>\n",
              "      <td>0</td>\n",
              "    </tr>\n",
              "    <tr>\n",
              "      <th>6</th>\n",
              "      <td>298925</td>\n",
              "      <td>2013-06-17</td>\n",
              "      <td>46</td>\n",
              "      <td>FROZEN FOODS</td>\n",
              "      <td>249.000</td>\n",
              "      <td>1</td>\n",
              "    </tr>\n",
              "    <tr>\n",
              "      <th>7</th>\n",
              "      <td>298926</td>\n",
              "      <td>2013-06-17</td>\n",
              "      <td>46</td>\n",
              "      <td>GROCERY I</td>\n",
              "      <td>5715.000</td>\n",
              "      <td>0</td>\n",
              "    </tr>\n",
              "    <tr>\n",
              "      <th>8</th>\n",
              "      <td>298927</td>\n",
              "      <td>2013-06-17</td>\n",
              "      <td>46</td>\n",
              "      <td>GROCERY II</td>\n",
              "      <td>42.000</td>\n",
              "      <td>0</td>\n",
              "    </tr>\n",
              "  </tbody>\n",
              "</table>\n",
              "</div>"
            ],
            "text/plain": [
              "       id       date  store_nbr        family     sales  onpromotion\n",
              "0  298919 2013-06-17         46  BREAD/BAKERY   566.253            0\n",
              "1  298920 2013-06-17         46   CELEBRATION     0.000            0\n",
              "2  298921 2013-06-17         46      CLEANING  1707.000            1\n",
              "3  298922 2013-06-17         46         DAIRY   711.000            0\n",
              "4  298923 2013-06-17         46          DELI   709.268            0\n",
              "5  298924 2013-06-17         46          EGGS   203.000            0\n",
              "6  298925 2013-06-17         46  FROZEN FOODS   249.000            1\n",
              "7  298926 2013-06-17         46     GROCERY I  5715.000            0\n",
              "8  298927 2013-06-17         46    GROCERY II    42.000            0"
            ]
          },
          "execution_count": 29,
          "metadata": {},
          "output_type": "execute_result"
        }
      ],
      "source": [
        "df"
      ]
    },
    {
      "cell_type": "code",
      "execution_count": 30,
      "metadata": {
        "id": "I4cg2IkFiHRz"
      },
      "outputs": [],
      "source": [
        "separate_df = df.copy()"
      ]
    },
    {
      "cell_type": "code",
      "execution_count": 31,
      "metadata": {
        "colab": {
          "base_uri": "https://localhost:8080/"
        },
        "id": "ofK5deb1iKwD",
        "outputId": "b42ecc4a-9563-4b59-e71f-e4d7291467bf"
      },
      "outputs": [
        {
          "data": {
            "text/plain": [
              "2388825671632"
            ]
          },
          "execution_count": 31,
          "metadata": {},
          "output_type": "execute_result"
        }
      ],
      "source": [
        "id(df)"
      ]
    },
    {
      "cell_type": "code",
      "execution_count": 32,
      "metadata": {
        "colab": {
          "base_uri": "https://localhost:8080/"
        },
        "id": "n2GxBT9ZiMRT",
        "outputId": "bd2dc50f-77e5-4782-9dd5-9f8cacb63ee5"
      },
      "outputs": [
        {
          "data": {
            "text/plain": [
              "2388300422736"
            ]
          },
          "execution_count": 32,
          "metadata": {},
          "output_type": "execute_result"
        }
      ],
      "source": [
        "id(separate_df)"
      ]
    },
    {
      "cell_type": "code",
      "execution_count": 33,
      "metadata": {
        "id": "KfQ2cu2hiQnz"
      },
      "outputs": [],
      "source": [
        "df.loc[df.family == 'FROZEN FOODS', ('onpromotion')] = 0"
      ]
    },
    {
      "cell_type": "code",
      "execution_count": 34,
      "metadata": {
        "colab": {
          "base_uri": "https://localhost:8080/",
          "height": 331
        },
        "id": "PcFEhyBKiVSc",
        "outputId": "4561a8a6-c7b5-4e77-c563-76e1f7fd5a0b"
      },
      "outputs": [
        {
          "data": {
            "text/html": [
              "<div>\n",
              "<style scoped>\n",
              "    .dataframe tbody tr th:only-of-type {\n",
              "        vertical-align: middle;\n",
              "    }\n",
              "\n",
              "    .dataframe tbody tr th {\n",
              "        vertical-align: top;\n",
              "    }\n",
              "\n",
              "    .dataframe thead th {\n",
              "        text-align: right;\n",
              "    }\n",
              "</style>\n",
              "<table border=\"1\" class=\"dataframe\">\n",
              "  <thead>\n",
              "    <tr style=\"text-align: right;\">\n",
              "      <th></th>\n",
              "      <th>id</th>\n",
              "      <th>date</th>\n",
              "      <th>store_nbr</th>\n",
              "      <th>family</th>\n",
              "      <th>sales</th>\n",
              "      <th>onpromotion</th>\n",
              "    </tr>\n",
              "  </thead>\n",
              "  <tbody>\n",
              "    <tr>\n",
              "      <th>0</th>\n",
              "      <td>298919</td>\n",
              "      <td>2013-06-17</td>\n",
              "      <td>46</td>\n",
              "      <td>BREAD/BAKERY</td>\n",
              "      <td>566.253</td>\n",
              "      <td>0</td>\n",
              "    </tr>\n",
              "    <tr>\n",
              "      <th>1</th>\n",
              "      <td>298920</td>\n",
              "      <td>2013-06-17</td>\n",
              "      <td>46</td>\n",
              "      <td>CELEBRATION</td>\n",
              "      <td>0.000</td>\n",
              "      <td>0</td>\n",
              "    </tr>\n",
              "    <tr>\n",
              "      <th>2</th>\n",
              "      <td>298921</td>\n",
              "      <td>2013-06-17</td>\n",
              "      <td>46</td>\n",
              "      <td>CLEANING</td>\n",
              "      <td>1707.000</td>\n",
              "      <td>1</td>\n",
              "    </tr>\n",
              "    <tr>\n",
              "      <th>3</th>\n",
              "      <td>298922</td>\n",
              "      <td>2013-06-17</td>\n",
              "      <td>46</td>\n",
              "      <td>DAIRY</td>\n",
              "      <td>711.000</td>\n",
              "      <td>0</td>\n",
              "    </tr>\n",
              "    <tr>\n",
              "      <th>4</th>\n",
              "      <td>298923</td>\n",
              "      <td>2013-06-17</td>\n",
              "      <td>46</td>\n",
              "      <td>DELI</td>\n",
              "      <td>709.268</td>\n",
              "      <td>0</td>\n",
              "    </tr>\n",
              "    <tr>\n",
              "      <th>5</th>\n",
              "      <td>298924</td>\n",
              "      <td>2013-06-17</td>\n",
              "      <td>46</td>\n",
              "      <td>EGGS</td>\n",
              "      <td>203.000</td>\n",
              "      <td>0</td>\n",
              "    </tr>\n",
              "    <tr>\n",
              "      <th>6</th>\n",
              "      <td>298925</td>\n",
              "      <td>2013-06-17</td>\n",
              "      <td>46</td>\n",
              "      <td>FROZEN FOODS</td>\n",
              "      <td>249.000</td>\n",
              "      <td>0</td>\n",
              "    </tr>\n",
              "    <tr>\n",
              "      <th>7</th>\n",
              "      <td>298926</td>\n",
              "      <td>2013-06-17</td>\n",
              "      <td>46</td>\n",
              "      <td>GROCERY I</td>\n",
              "      <td>5715.000</td>\n",
              "      <td>0</td>\n",
              "    </tr>\n",
              "    <tr>\n",
              "      <th>8</th>\n",
              "      <td>298927</td>\n",
              "      <td>2013-06-17</td>\n",
              "      <td>46</td>\n",
              "      <td>GROCERY II</td>\n",
              "      <td>42.000</td>\n",
              "      <td>0</td>\n",
              "    </tr>\n",
              "  </tbody>\n",
              "</table>\n",
              "</div>"
            ],
            "text/plain": [
              "       id       date  store_nbr        family     sales  onpromotion\n",
              "0  298919 2013-06-17         46  BREAD/BAKERY   566.253            0\n",
              "1  298920 2013-06-17         46   CELEBRATION     0.000            0\n",
              "2  298921 2013-06-17         46      CLEANING  1707.000            1\n",
              "3  298922 2013-06-17         46         DAIRY   711.000            0\n",
              "4  298923 2013-06-17         46          DELI   709.268            0\n",
              "5  298924 2013-06-17         46          EGGS   203.000            0\n",
              "6  298925 2013-06-17         46  FROZEN FOODS   249.000            0\n",
              "7  298926 2013-06-17         46     GROCERY I  5715.000            0\n",
              "8  298927 2013-06-17         46    GROCERY II    42.000            0"
            ]
          },
          "execution_count": 34,
          "metadata": {},
          "output_type": "execute_result"
        }
      ],
      "source": [
        "df"
      ]
    },
    {
      "cell_type": "code",
      "execution_count": 35,
      "metadata": {
        "colab": {
          "base_uri": "https://localhost:8080/",
          "height": 331
        },
        "id": "cZlkQQsviWLU",
        "outputId": "f41c17e3-4eea-479d-c2f1-ec2fe7a9bf93"
      },
      "outputs": [
        {
          "data": {
            "text/html": [
              "<div>\n",
              "<style scoped>\n",
              "    .dataframe tbody tr th:only-of-type {\n",
              "        vertical-align: middle;\n",
              "    }\n",
              "\n",
              "    .dataframe tbody tr th {\n",
              "        vertical-align: top;\n",
              "    }\n",
              "\n",
              "    .dataframe thead th {\n",
              "        text-align: right;\n",
              "    }\n",
              "</style>\n",
              "<table border=\"1\" class=\"dataframe\">\n",
              "  <thead>\n",
              "    <tr style=\"text-align: right;\">\n",
              "      <th></th>\n",
              "      <th>id</th>\n",
              "      <th>date</th>\n",
              "      <th>store_nbr</th>\n",
              "      <th>family</th>\n",
              "      <th>sales</th>\n",
              "      <th>onpromotion</th>\n",
              "    </tr>\n",
              "  </thead>\n",
              "  <tbody>\n",
              "    <tr>\n",
              "      <th>0</th>\n",
              "      <td>298919</td>\n",
              "      <td>2013-06-17</td>\n",
              "      <td>46</td>\n",
              "      <td>BREAD/BAKERY</td>\n",
              "      <td>566.253</td>\n",
              "      <td>0</td>\n",
              "    </tr>\n",
              "    <tr>\n",
              "      <th>1</th>\n",
              "      <td>298920</td>\n",
              "      <td>2013-06-17</td>\n",
              "      <td>46</td>\n",
              "      <td>CELEBRATION</td>\n",
              "      <td>0.000</td>\n",
              "      <td>0</td>\n",
              "    </tr>\n",
              "    <tr>\n",
              "      <th>2</th>\n",
              "      <td>298921</td>\n",
              "      <td>2013-06-17</td>\n",
              "      <td>46</td>\n",
              "      <td>CLEANING</td>\n",
              "      <td>1707.000</td>\n",
              "      <td>1</td>\n",
              "    </tr>\n",
              "    <tr>\n",
              "      <th>3</th>\n",
              "      <td>298922</td>\n",
              "      <td>2013-06-17</td>\n",
              "      <td>46</td>\n",
              "      <td>DAIRY</td>\n",
              "      <td>711.000</td>\n",
              "      <td>0</td>\n",
              "    </tr>\n",
              "    <tr>\n",
              "      <th>4</th>\n",
              "      <td>298923</td>\n",
              "      <td>2013-06-17</td>\n",
              "      <td>46</td>\n",
              "      <td>DELI</td>\n",
              "      <td>709.268</td>\n",
              "      <td>0</td>\n",
              "    </tr>\n",
              "    <tr>\n",
              "      <th>5</th>\n",
              "      <td>298924</td>\n",
              "      <td>2013-06-17</td>\n",
              "      <td>46</td>\n",
              "      <td>EGGS</td>\n",
              "      <td>203.000</td>\n",
              "      <td>0</td>\n",
              "    </tr>\n",
              "    <tr>\n",
              "      <th>6</th>\n",
              "      <td>298925</td>\n",
              "      <td>2013-06-17</td>\n",
              "      <td>46</td>\n",
              "      <td>FROZEN FOODS</td>\n",
              "      <td>249.000</td>\n",
              "      <td>1</td>\n",
              "    </tr>\n",
              "    <tr>\n",
              "      <th>7</th>\n",
              "      <td>298926</td>\n",
              "      <td>2013-06-17</td>\n",
              "      <td>46</td>\n",
              "      <td>GROCERY I</td>\n",
              "      <td>5715.000</td>\n",
              "      <td>0</td>\n",
              "    </tr>\n",
              "    <tr>\n",
              "      <th>8</th>\n",
              "      <td>298927</td>\n",
              "      <td>2013-06-17</td>\n",
              "      <td>46</td>\n",
              "      <td>GROCERY II</td>\n",
              "      <td>42.000</td>\n",
              "      <td>0</td>\n",
              "    </tr>\n",
              "  </tbody>\n",
              "</table>\n",
              "</div>"
            ],
            "text/plain": [
              "       id       date  store_nbr        family     sales  onpromotion\n",
              "0  298919 2013-06-17         46  BREAD/BAKERY   566.253            0\n",
              "1  298920 2013-06-17         46   CELEBRATION     0.000            0\n",
              "2  298921 2013-06-17         46      CLEANING  1707.000            1\n",
              "3  298922 2013-06-17         46         DAIRY   711.000            0\n",
              "4  298923 2013-06-17         46          DELI   709.268            0\n",
              "5  298924 2013-06-17         46          EGGS   203.000            0\n",
              "6  298925 2013-06-17         46  FROZEN FOODS   249.000            1\n",
              "7  298926 2013-06-17         46     GROCERY I  5715.000            0\n",
              "8  298927 2013-06-17         46    GROCERY II    42.000            0"
            ]
          },
          "execution_count": 35,
          "metadata": {},
          "output_type": "execute_result"
        }
      ],
      "source": [
        "separate_df"
      ]
    },
    {
      "attachments": {},
      "cell_type": "markdown",
      "metadata": {
        "id": "u6x0K0aPifcj"
      },
      "source": [
        "## Запись из Pandas в файл"
      ]
    },
    {
      "cell_type": "code",
      "execution_count": 36,
      "metadata": {
        "id": "rxf7S15ZjBG7"
      },
      "outputs": [],
      "source": [
        "output_file = 'new_sales.csv'"
      ]
    },
    {
      "cell_type": "code",
      "execution_count": 37,
      "metadata": {
        "id": "TOH_n3g9il1s"
      },
      "outputs": [],
      "source": [
        "separate_df.to_csv(output_file)"
      ]
    },
    {
      "attachments": {},
      "cell_type": "markdown",
      "metadata": {
        "id": "Bm83OB1yjUMD"
      },
      "source": [
        "Запись без индекса"
      ]
    },
    {
      "cell_type": "code",
      "execution_count": 38,
      "metadata": {
        "id": "vvc58vq0jMf8"
      },
      "outputs": [],
      "source": [
        "separate_df.to_csv(output_file, index=False)"
      ]
    },
    {
      "attachments": {},
      "cell_type": "markdown",
      "metadata": {
        "id": "geCxRLmsjj86"
      },
      "source": [
        "Запись без заголовка"
      ]
    },
    {
      "cell_type": "code",
      "execution_count": 39,
      "metadata": {
        "id": "gzwbTKmEjjgC"
      },
      "outputs": [],
      "source": [
        "separate_df.to_csv(output_file, index=False, header=False)"
      ]
    },
    {
      "attachments": {},
      "cell_type": "markdown",
      "metadata": {
        "id": "ZhtTbrUgj0pr"
      },
      "source": [
        "Запись в файл Excel"
      ]
    },
    {
      "cell_type": "code",
      "execution_count": 40,
      "metadata": {
        "id": "2Tqq5jAoiwuT"
      },
      "outputs": [],
      "source": [
        "separate_df.to_excel('sales.xlsx', index=False)"
      ]
    }
  ],
  "metadata": {
    "colab": {
      "provenance": []
    },
    "kernelspec": {
      "display_name": "Python 3",
      "name": "python3"
    },
    "language_info": {
      "codemirror_mode": {
        "name": "ipython",
        "version": 3
      },
      "file_extension": ".py",
      "mimetype": "text/x-python",
      "name": "python",
      "nbconvert_exporter": "python",
      "pygments_lexer": "ipython3",
      "version": "3.11.1"
    }
  },
  "nbformat": 4,
  "nbformat_minor": 0
}
