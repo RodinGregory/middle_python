{
  "cells": [
    {
      "attachments": {},
      "cell_type": "markdown",
      "metadata": {
        "id": "qCYvz_OA-UUL"
      },
      "source": [
        "# Базовые структуры данных в Python\n",
        "\n",
        "Курс \"Python для продвинутых специалистов\"\n",
        "\n",
        "<a target=\"_blank\" href=\"https://colab.research.google.com/github/sozykin/middle_python/blob/main/01/01_data_structures.ipynb\">\n",
        "  <img src=\"https://colab.research.google.com/assets/colab-badge.svg\" alt=\"Open In Colab\"/>\n",
        "</a>"
      ]
    },
    {
      "attachments": {},
      "cell_type": "markdown",
      "metadata": {
        "id": "U4cABPDR-cJS"
      },
      "source": [
        "В язык Python встроены четыре структуры данных:\n",
        "- Списки\n",
        "- Словари\n",
        "- Множества\n",
        "- Кортежи"
      ]
    },
    {
      "attachments": {},
      "cell_type": "markdown",
      "metadata": {
        "id": "DicqPRZf-oKa"
      },
      "source": [
        "## Списки"
      ]
    },
    {
      "cell_type": "code",
      "execution_count": 1,
      "metadata": {
        "id": "-yhVFY0SWdI1"
      },
      "outputs": [],
      "source": [
        "l = ['a', 'b', 'c']\n",
        "n = [1, 2, 3]"
      ]
    },
    {
      "cell_type": "code",
      "execution_count": 2,
      "metadata": {
        "colab": {
          "base_uri": "https://localhost:8080/"
        },
        "id": "jeAilbpeBVjP",
        "outputId": "4715e357-6ab9-483b-dd34-91e7b9e1b835"
      },
      "outputs": [
        {
          "data": {
            "text/plain": [
              "list"
            ]
          },
          "execution_count": 2,
          "metadata": {},
          "output_type": "execute_result"
        }
      ],
      "source": [
        "type(l)"
      ]
    },
    {
      "attachments": {},
      "cell_type": "markdown",
      "metadata": {
        "id": "pKvseOa6-sK6"
      },
      "source": [
        "Обращение к элементам списка"
      ]
    },
    {
      "cell_type": "code",
      "execution_count": 3,
      "metadata": {
        "colab": {
          "base_uri": "https://localhost:8080/",
          "height": 35
        },
        "id": "od8eTHa_WtHz",
        "outputId": "bf50dd51-edcc-4265-eed6-d1314033984f"
      },
      "outputs": [
        {
          "data": {
            "text/plain": [
              "'a'"
            ]
          },
          "execution_count": 3,
          "metadata": {},
          "output_type": "execute_result"
        }
      ],
      "source": [
        "l[0]"
      ]
    },
    {
      "cell_type": "code",
      "execution_count": 4,
      "metadata": {
        "colab": {
          "base_uri": "https://localhost:8080/"
        },
        "id": "UREnU7zj-ybq",
        "outputId": "788df5c1-6203-439d-c005-60596bcb6f5a"
      },
      "outputs": [
        {
          "data": {
            "text/plain": [
              "[2, 3]"
            ]
          },
          "execution_count": 4,
          "metadata": {},
          "output_type": "execute_result"
        }
      ],
      "source": [
        "n[1:3]"
      ]
    },
    {
      "attachments": {},
      "cell_type": "markdown",
      "metadata": {
        "id": "Jh3j8dz--1Tq"
      },
      "source": [
        "Список из элементов разных типов"
      ]
    },
    {
      "cell_type": "code",
      "execution_count": 5,
      "metadata": {
        "id": "jg5ujCEzXjop"
      },
      "outputs": [],
      "source": [
        "d = ['a', 'b', 'c', 1, 2, 3]"
      ]
    },
    {
      "attachments": {},
      "cell_type": "markdown",
      "metadata": {
        "id": "nrz4Af2S-9Qj"
      },
      "source": [
        "Перебор элементов списка"
      ]
    },
    {
      "cell_type": "code",
      "execution_count": 6,
      "metadata": {
        "colab": {
          "base_uri": "https://localhost:8080/"
        },
        "id": "jNj-onJQXr86",
        "outputId": "60ed44f1-bc07-4d81-f474-b80ee07eb21b"
      },
      "outputs": [
        {
          "name": "stdout",
          "output_type": "stream",
          "text": [
            "a\n",
            "b\n",
            "c\n",
            "1\n",
            "2\n",
            "3\n"
          ]
        }
      ],
      "source": [
        "for item in d:\n",
        "  print(item)"
      ]
    },
    {
      "attachments": {},
      "cell_type": "markdown",
      "metadata": {
        "id": "Y0GmgyAu_EMT"
      },
      "source": [
        "Изменение элементов списка"
      ]
    },
    {
      "cell_type": "code",
      "execution_count": 7,
      "metadata": {
        "colab": {
          "base_uri": "https://localhost:8080/"
        },
        "id": "SvwwAnc0_GbR",
        "outputId": "07cf3434-9fc2-49a6-d3ca-f3773c2ae503"
      },
      "outputs": [
        {
          "data": {
            "text/plain": [
              "['a', 'b', 'c']"
            ]
          },
          "execution_count": 7,
          "metadata": {},
          "output_type": "execute_result"
        }
      ],
      "source": [
        "l"
      ]
    },
    {
      "cell_type": "code",
      "execution_count": 8,
      "metadata": {
        "colab": {
          "base_uri": "https://localhost:8080/"
        },
        "id": "s2FWJpcK_IPZ",
        "outputId": "b586350b-570e-4474-ca6a-20587f49d135"
      },
      "outputs": [
        {
          "data": {
            "text/plain": [
              "['z', 'b', 'c']"
            ]
          },
          "execution_count": 8,
          "metadata": {},
          "output_type": "execute_result"
        }
      ],
      "source": [
        "l[0] = 'z'\n",
        "l"
      ]
    },
    {
      "cell_type": "code",
      "execution_count": 9,
      "metadata": {
        "colab": {
          "base_uri": "https://localhost:8080/"
        },
        "id": "k_Nqha41_Nai",
        "outputId": "9164e17e-74d6-44d2-8c6f-819a81caf863"
      },
      "outputs": [
        {
          "data": {
            "text/plain": [
              "['z', 'b', 'c', 'd']"
            ]
          },
          "execution_count": 9,
          "metadata": {},
          "output_type": "execute_result"
        }
      ],
      "source": [
        "l.append('d')\n",
        "l"
      ]
    },
    {
      "cell_type": "code",
      "execution_count": 10,
      "metadata": {
        "colab": {
          "base_uri": "https://localhost:8080/"
        },
        "id": "e4epLYVGAm8B",
        "outputId": "5d809d6d-fad1-4459-e192-b26308e9f364"
      },
      "outputs": [
        {
          "data": {
            "text/plain": [
              "['z', 'b', 'e', 'c', 'd']"
            ]
          },
          "execution_count": 10,
          "metadata": {},
          "output_type": "execute_result"
        }
      ],
      "source": [
        "l.insert(2, 'e')\n",
        "l"
      ]
    },
    {
      "cell_type": "code",
      "execution_count": 11,
      "metadata": {
        "id": "qgZ72PY1_Tfi"
      },
      "outputs": [],
      "source": [
        "removed = l.pop(3)"
      ]
    },
    {
      "cell_type": "code",
      "execution_count": 12,
      "metadata": {
        "colab": {
          "base_uri": "https://localhost:8080/"
        },
        "id": "rCa5SLKE_waa",
        "outputId": "76cadb46-39f3-4cc7-e96d-e3e61396bbd3"
      },
      "outputs": [
        {
          "data": {
            "text/plain": [
              "['z', 'b', 'e', 'd']"
            ]
          },
          "execution_count": 12,
          "metadata": {},
          "output_type": "execute_result"
        }
      ],
      "source": [
        "l"
      ]
    },
    {
      "cell_type": "code",
      "execution_count": 13,
      "metadata": {
        "colab": {
          "base_uri": "https://localhost:8080/",
          "height": 35
        },
        "id": "Wj2o_Zuf_xpp",
        "outputId": "365b9739-adde-4812-a783-1a7e16e72a61"
      },
      "outputs": [
        {
          "data": {
            "text/plain": [
              "'c'"
            ]
          },
          "execution_count": 13,
          "metadata": {},
          "output_type": "execute_result"
        }
      ],
      "source": [
        "removed"
      ]
    },
    {
      "cell_type": "code",
      "execution_count": 14,
      "metadata": {
        "id": "6dovCKzD_0k5"
      },
      "outputs": [],
      "source": [
        "l.remove('b')"
      ]
    },
    {
      "cell_type": "code",
      "execution_count": 15,
      "metadata": {
        "colab": {
          "base_uri": "https://localhost:8080/"
        },
        "id": "THxYbNL8AAwJ",
        "outputId": "5ef213ef-da45-418a-dfcd-4a4263e322c6"
      },
      "outputs": [
        {
          "data": {
            "text/plain": [
              "['z', 'e', 'd']"
            ]
          },
          "execution_count": 15,
          "metadata": {},
          "output_type": "execute_result"
        }
      ],
      "source": [
        "l"
      ]
    },
    {
      "cell_type": "code",
      "execution_count": 16,
      "metadata": {
        "colab": {
          "base_uri": "https://localhost:8080/"
        },
        "id": "O2Ds0WZUACUZ",
        "outputId": "6bdde65c-ed5a-469b-af86-0d5e1ff276c7"
      },
      "outputs": [
        {
          "data": {
            "text/plain": [
              "['z', 'e', 'd', 'b', 'b']"
            ]
          },
          "execution_count": 16,
          "metadata": {},
          "output_type": "execute_result"
        }
      ],
      "source": [
        "l.append('b')\n",
        "l.append('b')\n",
        "l"
      ]
    },
    {
      "cell_type": "code",
      "execution_count": 17,
      "metadata": {
        "colab": {
          "base_uri": "https://localhost:8080/"
        },
        "id": "xMsilOeVAH05",
        "outputId": "2746c661-716d-4687-dea3-2116f25e5fa9"
      },
      "outputs": [
        {
          "data": {
            "text/plain": [
              "['z', 'e', 'd', 'b']"
            ]
          },
          "execution_count": 17,
          "metadata": {},
          "output_type": "execute_result"
        }
      ],
      "source": [
        "l.remove('b')\n",
        "l"
      ]
    },
    {
      "attachments": {},
      "cell_type": "markdown",
      "metadata": {
        "id": "p8Woh5f5APsp"
      },
      "source": [
        "Проверка наличия элемента в списке"
      ]
    },
    {
      "cell_type": "code",
      "execution_count": 18,
      "metadata": {
        "colab": {
          "base_uri": "https://localhost:8080/"
        },
        "id": "7U9oDySpATCw",
        "outputId": "676374ca-cc1f-4b30-f07c-f7fc3a484c48"
      },
      "outputs": [
        {
          "data": {
            "text/plain": [
              "True"
            ]
          },
          "execution_count": 18,
          "metadata": {},
          "output_type": "execute_result"
        }
      ],
      "source": [
        "'z' in l"
      ]
    },
    {
      "cell_type": "code",
      "execution_count": 19,
      "metadata": {
        "colab": {
          "base_uri": "https://localhost:8080/"
        },
        "id": "bwq8QWEOAYSI",
        "outputId": "87b6dbdf-7377-46d8-d2af-ae0856508359"
      },
      "outputs": [
        {
          "data": {
            "text/plain": [
              "False"
            ]
          },
          "execution_count": 19,
          "metadata": {},
          "output_type": "execute_result"
        }
      ],
      "source": [
        "'a' in l"
      ]
    },
    {
      "attachments": {},
      "cell_type": "markdown",
      "metadata": {
        "id": "LUGhjOv0Hu7i"
      },
      "source": [
        "## Кортеж"
      ]
    },
    {
      "cell_type": "code",
      "execution_count": 20,
      "metadata": {
        "id": "UwsFDghMHw4i"
      },
      "outputs": [],
      "source": [
        "t = ('a', 'b', 'c')"
      ]
    },
    {
      "cell_type": "code",
      "execution_count": 21,
      "metadata": {
        "colab": {
          "base_uri": "https://localhost:8080/"
        },
        "id": "gqmZc7OQH7rr",
        "outputId": "ae7a82ea-9c74-4c31-8755-b3b28bb03f30"
      },
      "outputs": [
        {
          "data": {
            "text/plain": [
              "('a', 'b', 'c')"
            ]
          },
          "execution_count": 21,
          "metadata": {},
          "output_type": "execute_result"
        }
      ],
      "source": [
        "t"
      ]
    },
    {
      "cell_type": "code",
      "execution_count": 22,
      "metadata": {
        "colab": {
          "base_uri": "https://localhost:8080/"
        },
        "id": "Y1omZOjYH1Z7",
        "outputId": "38c5de23-2712-48cc-d53c-58e61384ef34"
      },
      "outputs": [
        {
          "data": {
            "text/plain": [
              "tuple"
            ]
          },
          "execution_count": 22,
          "metadata": {},
          "output_type": "execute_result"
        }
      ],
      "source": [
        "type(t)"
      ]
    },
    {
      "cell_type": "code",
      "execution_count": 23,
      "metadata": {
        "colab": {
          "base_uri": "https://localhost:8080/",
          "height": 35
        },
        "id": "ysH5VEeQH9Di",
        "outputId": "bbc27e15-d22b-4079-d858-4fe2ffb60a86"
      },
      "outputs": [
        {
          "data": {
            "text/plain": [
              "'a'"
            ]
          },
          "execution_count": 23,
          "metadata": {},
          "output_type": "execute_result"
        }
      ],
      "source": [
        "t[0]"
      ]
    },
    {
      "cell_type": "code",
      "execution_count": 24,
      "metadata": {
        "colab": {
          "base_uri": "https://localhost:8080/"
        },
        "id": "M-a52VfsH_da",
        "outputId": "d153a585-c60c-4349-8e2c-067039bf11f0"
      },
      "outputs": [
        {
          "data": {
            "text/plain": [
              "('b', 'c')"
            ]
          },
          "execution_count": 24,
          "metadata": {},
          "output_type": "execute_result"
        }
      ],
      "source": [
        "t[1:3]"
      ]
    },
    {
      "cell_type": "code",
      "execution_count": 25,
      "metadata": {
        "colab": {
          "base_uri": "https://localhost:8080/"
        },
        "id": "W4XN2wp9IDiS",
        "outputId": "5ac667f5-85fb-4223-ac8e-1b11dba3b99a"
      },
      "outputs": [
        {
          "name": "stdout",
          "output_type": "stream",
          "text": [
            "a\n",
            "b\n",
            "c\n"
          ]
        }
      ],
      "source": [
        "for item in t:\n",
        "  print(item)"
      ]
    },
    {
      "attachments": {},
      "cell_type": "markdown",
      "metadata": {
        "id": "1zXqyAUMIIR5"
      },
      "source": [
        "Кортежи нельзя менять"
      ]
    },
    {
      "cell_type": "code",
      "execution_count": 26,
      "metadata": {
        "colab": {
          "base_uri": "https://localhost:8080/",
          "height": 166
        },
        "id": "sGG_9nnDIKHx",
        "outputId": "3b54d23c-a1cb-403e-e796-a52b860d638e"
      },
      "outputs": [
        {
          "ename": "TypeError",
          "evalue": "'tuple' object does not support item assignment",
          "output_type": "error",
          "traceback": [
            "\u001b[1;31m---------------------------------------------------------------------------\u001b[0m",
            "\u001b[1;31mTypeError\u001b[0m                                 Traceback (most recent call last)",
            "Cell \u001b[1;32mIn[26], line 1\u001b[0m\n\u001b[1;32m----> 1\u001b[0m t[\u001b[39m0\u001b[39;49m] \u001b[39m=\u001b[39m \u001b[39m'\u001b[39m\u001b[39mz\u001b[39m\u001b[39m'\u001b[39m\n",
            "\u001b[1;31mTypeError\u001b[0m: 'tuple' object does not support item assignment"
          ]
        }
      ],
      "source": [
        "t[0] = 'z'"
      ]
    },
    {
      "cell_type": "code",
      "execution_count": 27,
      "metadata": {
        "colab": {
          "base_uri": "https://localhost:8080/",
          "height": 166
        },
        "id": "hjaFjDRtITO5",
        "outputId": "b9a9a4f0-507b-4f1e-cdc2-d6a2f8537c98"
      },
      "outputs": [
        {
          "ename": "AttributeError",
          "evalue": "'tuple' object has no attribute 'append'",
          "output_type": "error",
          "traceback": [
            "\u001b[1;31m---------------------------------------------------------------------------\u001b[0m",
            "\u001b[1;31mAttributeError\u001b[0m                            Traceback (most recent call last)",
            "Cell \u001b[1;32mIn[27], line 1\u001b[0m\n\u001b[1;32m----> 1\u001b[0m t\u001b[39m.\u001b[39;49mappend(\u001b[39m'\u001b[39m\u001b[39md\u001b[39m\u001b[39m'\u001b[39m)\n",
            "\u001b[1;31mAttributeError\u001b[0m: 'tuple' object has no attribute 'append'"
          ]
        }
      ],
      "source": [
        "t.append('d')"
      ]
    },
    {
      "cell_type": "code",
      "execution_count": 28,
      "metadata": {
        "colab": {
          "base_uri": "https://localhost:8080/",
          "height": 166
        },
        "id": "EYOXYwu2IYOi",
        "outputId": "544edf4f-5601-48a8-d70f-96d49f7a5a02"
      },
      "outputs": [
        {
          "ename": "AttributeError",
          "evalue": "'tuple' object has no attribute 'remove'",
          "output_type": "error",
          "traceback": [
            "\u001b[1;31m---------------------------------------------------------------------------\u001b[0m",
            "\u001b[1;31mAttributeError\u001b[0m                            Traceback (most recent call last)",
            "Cell \u001b[1;32mIn[28], line 1\u001b[0m\n\u001b[1;32m----> 1\u001b[0m t\u001b[39m.\u001b[39;49mremove(\u001b[39m'\u001b[39m\u001b[39ma\u001b[39m\u001b[39m'\u001b[39m)\n",
            "\u001b[1;31mAttributeError\u001b[0m: 'tuple' object has no attribute 'remove'"
          ]
        }
      ],
      "source": [
        "t.remove('a')"
      ]
    },
    {
      "attachments": {},
      "cell_type": "markdown",
      "metadata": {
        "id": "qWTEwPJ7JpEv"
      },
      "source": [
        "Проверка наличия элемента в кортеже"
      ]
    },
    {
      "cell_type": "code",
      "execution_count": 29,
      "metadata": {
        "colab": {
          "base_uri": "https://localhost:8080/"
        },
        "id": "6QoQRTXqJoWI",
        "outputId": "13e8e54c-dc2e-432c-91a0-465214b2f644"
      },
      "outputs": [
        {
          "data": {
            "text/plain": [
              "True"
            ]
          },
          "execution_count": 29,
          "metadata": {},
          "output_type": "execute_result"
        }
      ],
      "source": [
        "'a' in t"
      ]
    },
    {
      "cell_type": "code",
      "execution_count": 30,
      "metadata": {
        "colab": {
          "base_uri": "https://localhost:8080/"
        },
        "id": "sFQDE7koJuZB",
        "outputId": "7d689508-57b7-40db-c4e9-389de8a46035"
      },
      "outputs": [
        {
          "data": {
            "text/plain": [
              "False"
            ]
          },
          "execution_count": 30,
          "metadata": {},
          "output_type": "execute_result"
        }
      ],
      "source": [
        "'z' in t"
      ]
    },
    {
      "attachments": {},
      "cell_type": "markdown",
      "metadata": {
        "id": "2r4EL9MCJE4x"
      },
      "source": [
        "Распаковка кортежа"
      ]
    },
    {
      "cell_type": "code",
      "execution_count": 31,
      "metadata": {
        "colab": {
          "base_uri": "https://localhost:8080/"
        },
        "id": "KBZ73uCwJEYZ",
        "outputId": "7821ee9e-7026-4fb5-83d3-fd8c9dd93f20"
      },
      "outputs": [
        {
          "data": {
            "text/plain": [
              "('a', 'b', 'c')"
            ]
          },
          "execution_count": 31,
          "metadata": {},
          "output_type": "execute_result"
        }
      ],
      "source": [
        "t"
      ]
    },
    {
      "cell_type": "code",
      "execution_count": 32,
      "metadata": {
        "id": "VCRAtrXrJH_R"
      },
      "outputs": [],
      "source": [
        "a, b, c = t"
      ]
    },
    {
      "cell_type": "code",
      "execution_count": 33,
      "metadata": {
        "colab": {
          "base_uri": "https://localhost:8080/",
          "height": 35
        },
        "id": "ci_G558kJKaB",
        "outputId": "f4774165-a908-4ecc-b75a-5aacef09f4b1"
      },
      "outputs": [
        {
          "data": {
            "text/plain": [
              "'a'"
            ]
          },
          "execution_count": 33,
          "metadata": {},
          "output_type": "execute_result"
        }
      ],
      "source": [
        "a"
      ]
    },
    {
      "cell_type": "code",
      "execution_count": 34,
      "metadata": {
        "colab": {
          "base_uri": "https://localhost:8080/",
          "height": 35
        },
        "id": "YPXyoLEgJLMp",
        "outputId": "6f03b51d-9c28-47ec-f2a3-694de968354a"
      },
      "outputs": [
        {
          "data": {
            "text/plain": [
              "'b'"
            ]
          },
          "execution_count": 34,
          "metadata": {},
          "output_type": "execute_result"
        }
      ],
      "source": [
        "b"
      ]
    },
    {
      "cell_type": "code",
      "execution_count": 35,
      "metadata": {
        "colab": {
          "base_uri": "https://localhost:8080/",
          "height": 35
        },
        "id": "7pBto9ZeJMGO",
        "outputId": "f03833e6-c1a6-452a-f04a-f0a31c2ace3d"
      },
      "outputs": [
        {
          "data": {
            "text/plain": [
              "'c'"
            ]
          },
          "execution_count": 35,
          "metadata": {},
          "output_type": "execute_result"
        }
      ],
      "source": [
        "c"
      ]
    },
    {
      "cell_type": "code",
      "execution_count": 36,
      "metadata": {
        "colab": {
          "base_uri": "https://localhost:8080/",
          "height": 166
        },
        "id": "aiJY2TUcJM-K",
        "outputId": "dae4749b-41b1-41dd-80ff-67952d968901"
      },
      "outputs": [
        {
          "ename": "ValueError",
          "evalue": "too many values to unpack (expected 2)",
          "output_type": "error",
          "traceback": [
            "\u001b[1;31m---------------------------------------------------------------------------\u001b[0m",
            "\u001b[1;31mValueError\u001b[0m                                Traceback (most recent call last)",
            "Cell \u001b[1;32mIn[36], line 1\u001b[0m\n\u001b[1;32m----> 1\u001b[0m a, b \u001b[39m=\u001b[39m t\n",
            "\u001b[1;31mValueError\u001b[0m: too many values to unpack (expected 2)"
          ]
        }
      ],
      "source": [
        "a, b = t"
      ]
    },
    {
      "cell_type": "code",
      "execution_count": 37,
      "metadata": {
        "colab": {
          "base_uri": "https://localhost:8080/",
          "height": 166
        },
        "id": "pEOf0DiMJPiB",
        "outputId": "67e478fa-c2f5-4de2-d9c9-b53dacc08575"
      },
      "outputs": [
        {
          "ename": "ValueError",
          "evalue": "not enough values to unpack (expected 4, got 3)",
          "output_type": "error",
          "traceback": [
            "\u001b[1;31m---------------------------------------------------------------------------\u001b[0m",
            "\u001b[1;31mValueError\u001b[0m                                Traceback (most recent call last)",
            "Cell \u001b[1;32mIn[37], line 1\u001b[0m\n\u001b[1;32m----> 1\u001b[0m a, b, c, d \u001b[39m=\u001b[39m t\n",
            "\u001b[1;31mValueError\u001b[0m: not enough values to unpack (expected 4, got 3)"
          ]
        }
      ],
      "source": [
        "a, b, c, d = t"
      ]
    },
    {
      "attachments": {},
      "cell_type": "markdown",
      "metadata": {
        "id": "dH9iPZQVIe1o"
      },
      "source": [
        "Пример использования кортежей"
      ]
    },
    {
      "cell_type": "code",
      "execution_count": 38,
      "metadata": {
        "id": "jxK70wEJIiHZ"
      },
      "outputs": [],
      "source": [
        "a = 10\n",
        "b = 20"
      ]
    },
    {
      "cell_type": "code",
      "execution_count": 39,
      "metadata": {
        "colab": {
          "base_uri": "https://localhost:8080/"
        },
        "id": "icMJtoO6Ilyi",
        "outputId": "5db86b16-967a-415a-f543-a7e7397ebee6"
      },
      "outputs": [
        {
          "data": {
            "text/plain": [
              "10"
            ]
          },
          "execution_count": 39,
          "metadata": {},
          "output_type": "execute_result"
        }
      ],
      "source": [
        "a"
      ]
    },
    {
      "cell_type": "code",
      "execution_count": 40,
      "metadata": {
        "colab": {
          "base_uri": "https://localhost:8080/"
        },
        "id": "6v7AYBefIm2L",
        "outputId": "64d154f3-2cd2-42c8-8ef7-31145092cbaf"
      },
      "outputs": [
        {
          "data": {
            "text/plain": [
              "20"
            ]
          },
          "execution_count": 40,
          "metadata": {},
          "output_type": "execute_result"
        }
      ],
      "source": [
        "b"
      ]
    },
    {
      "cell_type": "code",
      "execution_count": 41,
      "metadata": {
        "id": "_r9J9P5qInaS"
      },
      "outputs": [],
      "source": [
        "a, b = b, a"
      ]
    },
    {
      "cell_type": "code",
      "execution_count": 42,
      "metadata": {
        "colab": {
          "base_uri": "https://localhost:8080/"
        },
        "id": "7LqXjXq9IqeZ",
        "outputId": "b330c05b-bedf-4f92-d94c-aea02ec867e3"
      },
      "outputs": [
        {
          "data": {
            "text/plain": [
              "20"
            ]
          },
          "execution_count": 42,
          "metadata": {},
          "output_type": "execute_result"
        }
      ],
      "source": [
        "a"
      ]
    },
    {
      "cell_type": "code",
      "execution_count": 43,
      "metadata": {
        "colab": {
          "base_uri": "https://localhost:8080/"
        },
        "id": "k87j9wm0IrSh",
        "outputId": "2f8b6bb3-7fb6-4902-8f76-a75bcc47edf9"
      },
      "outputs": [
        {
          "data": {
            "text/plain": [
              "10"
            ]
          },
          "execution_count": 43,
          "metadata": {},
          "output_type": "execute_result"
        }
      ],
      "source": [
        "b"
      ]
    },
    {
      "attachments": {},
      "cell_type": "markdown",
      "metadata": {
        "id": "40BlOSt8BAuR"
      },
      "source": [
        "## Словарь"
      ]
    },
    {
      "cell_type": "code",
      "execution_count": 44,
      "metadata": {
        "id": "RxR5bBtKBDTZ"
      },
      "outputs": [],
      "source": [
        "capitals = {}"
      ]
    },
    {
      "cell_type": "code",
      "execution_count": 45,
      "metadata": {
        "colab": {
          "base_uri": "https://localhost:8080/"
        },
        "id": "w1SUpteyBZnQ",
        "outputId": "faa88c69-25e8-4d14-c2da-db0a9548bcf3"
      },
      "outputs": [
        {
          "data": {
            "text/plain": [
              "dict"
            ]
          },
          "execution_count": 45,
          "metadata": {},
          "output_type": "execute_result"
        }
      ],
      "source": [
        "type(capitals)"
      ]
    },
    {
      "cell_type": "code",
      "execution_count": 46,
      "metadata": {
        "id": "tmiRDNJsBSsP"
      },
      "outputs": [],
      "source": [
        "capitals['Россия'] = 'Москва'\n",
        "capitals['Китай'] = 'Пекин'\n",
        "capitals['Индия'] = 'Нью-Дели'"
      ]
    },
    {
      "cell_type": "code",
      "execution_count": 47,
      "metadata": {
        "colab": {
          "base_uri": "https://localhost:8080/"
        },
        "id": "i-Z8bh5uExeU",
        "outputId": "09775ee5-8689-4fb4-ee3a-a28a3f4be342"
      },
      "outputs": [
        {
          "data": {
            "text/plain": [
              "{'Россия': 'Москва', 'Китай': 'Пекин', 'Индия': 'Нью-Дели'}"
            ]
          },
          "execution_count": 47,
          "metadata": {},
          "output_type": "execute_result"
        }
      ],
      "source": [
        "capitals"
      ]
    },
    {
      "attachments": {},
      "cell_type": "markdown",
      "metadata": {
        "id": "zUKDos16FAG0"
      },
      "source": [
        "Обращение к элементам словаря"
      ]
    },
    {
      "cell_type": "code",
      "execution_count": 48,
      "metadata": {
        "colab": {
          "base_uri": "https://localhost:8080/",
          "height": 35
        },
        "id": "xPAJlKYjEzTc",
        "outputId": "6ca38bf3-0c15-4762-f282-197469eda7fb"
      },
      "outputs": [
        {
          "data": {
            "text/plain": [
              "'Пекин'"
            ]
          },
          "execution_count": 48,
          "metadata": {},
          "output_type": "execute_result"
        }
      ],
      "source": [
        "capitals['Китай']"
      ]
    },
    {
      "cell_type": "code",
      "execution_count": 49,
      "metadata": {
        "colab": {
          "base_uri": "https://localhost:8080/",
          "height": 166
        },
        "id": "VzrUkk9DE1vU",
        "outputId": "aa7d921a-794a-4442-fe99-9aa4f5a0c922"
      },
      "outputs": [
        {
          "ename": "KeyError",
          "evalue": "0",
          "output_type": "error",
          "traceback": [
            "\u001b[1;31m---------------------------------------------------------------------------\u001b[0m",
            "\u001b[1;31mKeyError\u001b[0m                                  Traceback (most recent call last)",
            "Cell \u001b[1;32mIn[49], line 1\u001b[0m\n\u001b[1;32m----> 1\u001b[0m capitals[\u001b[39m0\u001b[39;49m]\n",
            "\u001b[1;31mKeyError\u001b[0m: 0"
          ]
        }
      ],
      "source": [
        "capitals[0]"
      ]
    },
    {
      "attachments": {},
      "cell_type": "markdown",
      "metadata": {},
      "source": [
        "Запрос ключа, которого нет в словаре"
      ]
    },
    {
      "cell_type": "code",
      "execution_count": 50,
      "metadata": {
        "colab": {
          "base_uri": "https://localhost:8080/",
          "height": 166
        },
        "id": "Md1szb0YE482",
        "outputId": "0dddd80d-9cbc-4014-dedd-984f34f661dd"
      },
      "outputs": [
        {
          "ename": "KeyError",
          "evalue": "'Турция'",
          "output_type": "error",
          "traceback": [
            "\u001b[1;31m---------------------------------------------------------------------------\u001b[0m",
            "\u001b[1;31mKeyError\u001b[0m                                  Traceback (most recent call last)",
            "Cell \u001b[1;32mIn[50], line 1\u001b[0m\n\u001b[1;32m----> 1\u001b[0m capitals[\u001b[39m'\u001b[39;49m\u001b[39mТурция\u001b[39;49m\u001b[39m'\u001b[39;49m]\n",
            "\u001b[1;31mKeyError\u001b[0m: 'Турция'"
          ]
        }
      ],
      "source": [
        "capitals['Турция']"
      ]
    },
    {
      "cell_type": "code",
      "execution_count": 51,
      "metadata": {
        "colab": {
          "base_uri": "https://localhost:8080/",
          "height": 35
        },
        "id": "_UL9n90SE9Z8",
        "outputId": "07eecf77-65ba-42e0-a897-cfeceb143873"
      },
      "outputs": [
        {
          "data": {
            "text/plain": [
              "'Москва'"
            ]
          },
          "execution_count": 51,
          "metadata": {},
          "output_type": "execute_result"
        }
      ],
      "source": [
        "capitals.get('Россия')"
      ]
    },
    {
      "cell_type": "code",
      "execution_count": 52,
      "metadata": {
        "colab": {
          "base_uri": "https://localhost:8080/",
          "height": 35
        },
        "id": "-lMufYWrFLIV",
        "outputId": "983118a7-5772-4eb2-ee62-cb2f3bcf2bdd"
      },
      "outputs": [
        {
          "data": {
            "text/plain": [
              "'Неизвестно'"
            ]
          },
          "execution_count": 52,
          "metadata": {},
          "output_type": "execute_result"
        }
      ],
      "source": [
        "capitals.get('Турция', 'Неизвестно')"
      ]
    },
    {
      "attachments": {},
      "cell_type": "markdown",
      "metadata": {
        "id": "7Mjz0cOfFV88"
      },
      "source": [
        "Изменение словаря"
      ]
    },
    {
      "cell_type": "code",
      "execution_count": 53,
      "metadata": {
        "colab": {
          "base_uri": "https://localhost:8080/"
        },
        "id": "PFtDZ1aQFX0j",
        "outputId": "2de101c9-88d6-4ecb-c516-7a7b33afea78"
      },
      "outputs": [
        {
          "data": {
            "text/plain": [
              "{'Россия': 'Москва',\n",
              " 'Китай': 'Пекин',\n",
              " 'Индия': 'Нью-Дели',\n",
              " 'Турция': 'Стамбул'}"
            ]
          },
          "execution_count": 53,
          "metadata": {},
          "output_type": "execute_result"
        }
      ],
      "source": [
        "capitals['Турция'] = 'Стамбул'\n",
        "capitals"
      ]
    },
    {
      "cell_type": "code",
      "execution_count": 54,
      "metadata": {
        "colab": {
          "base_uri": "https://localhost:8080/"
        },
        "id": "FplWKFsLBSAH",
        "outputId": "7b9b1a99-6dcd-41c2-95bd-2fad0699b7b4"
      },
      "outputs": [
        {
          "data": {
            "text/plain": [
              "{'Россия': 'Москва', 'Китай': 'Пекин', 'Индия': 'Нью-Дели', 'Турция': 'Анкара'}"
            ]
          },
          "execution_count": 54,
          "metadata": {},
          "output_type": "execute_result"
        }
      ],
      "source": [
        "capitals['Турция'] = 'Анкара'\n",
        "capitals"
      ]
    },
    {
      "cell_type": "code",
      "execution_count": 55,
      "metadata": {
        "colab": {
          "base_uri": "https://localhost:8080/"
        },
        "id": "oAUw7u_iF5XF",
        "outputId": "280bbd39-d4c4-4f61-b14b-e4d200e3c5db"
      },
      "outputs": [
        {
          "data": {
            "text/plain": [
              "{'Россия': 'Москва', 'Китай': 'Пекин', 'Индия': 'Нью-Дели'}"
            ]
          },
          "execution_count": 55,
          "metadata": {},
          "output_type": "execute_result"
        }
      ],
      "source": [
        "removed = capitals.pop('Турция')\n",
        "capitals"
      ]
    },
    {
      "cell_type": "code",
      "execution_count": 56,
      "metadata": {
        "colab": {
          "base_uri": "https://localhost:8080/",
          "height": 35
        },
        "id": "r6jY7sG4GFc8",
        "outputId": "1d66d49b-939c-4ca5-dfbe-b28f9543cb82"
      },
      "outputs": [
        {
          "data": {
            "text/plain": [
              "'Анкара'"
            ]
          },
          "execution_count": 56,
          "metadata": {},
          "output_type": "execute_result"
        }
      ],
      "source": [
        "removed"
      ]
    },
    {
      "attachments": {},
      "cell_type": "markdown",
      "metadata": {
        "id": "bfoUe4bdGJQ7"
      },
      "source": [
        "Перебор элементов словаря"
      ]
    },
    {
      "cell_type": "code",
      "execution_count": 57,
      "metadata": {
        "colab": {
          "base_uri": "https://localhost:8080/"
        },
        "id": "PUz2RDeVLGIp",
        "outputId": "9feb3b22-c308-477e-bdf4-ee1b94b19224"
      },
      "outputs": [
        {
          "name": "stdout",
          "output_type": "stream",
          "text": [
            "Россия\n",
            "Китай\n",
            "Индия\n"
          ]
        }
      ],
      "source": [
        "for item in capitals:\n",
        "  print(item)"
      ]
    },
    {
      "cell_type": "code",
      "execution_count": 58,
      "metadata": {
        "colab": {
          "base_uri": "https://localhost:8080/"
        },
        "id": "lEH9vlKkGLp8",
        "outputId": "9a83abf7-a818-43bc-8eac-8a1a3db69a19"
      },
      "outputs": [
        {
          "name": "stdout",
          "output_type": "stream",
          "text": [
            "Страна: Россия, столица: Москва\n",
            "Страна: Китай, столица: Пекин\n",
            "Страна: Индия, столица: Нью-Дели\n"
          ]
        }
      ],
      "source": [
        "for (key, value) in capitals.items():\n",
        "    print(f\"Страна: {key}, столица: {value}\")"
      ]
    },
    {
      "cell_type": "code",
      "execution_count": 59,
      "metadata": {
        "colab": {
          "base_uri": "https://localhost:8080/"
        },
        "id": "bMlLbXinHasa",
        "outputId": "83844f10-ae97-4c67-b119-2d450f29391a"
      },
      "outputs": [
        {
          "data": {
            "text/plain": [
              "dict_items([('Россия', 'Москва'), ('Китай', 'Пекин'), ('Индия', 'Нью-Дели')])"
            ]
          },
          "execution_count": 59,
          "metadata": {},
          "output_type": "execute_result"
        }
      ],
      "source": [
        "capitals.items()\n",
        "# Обратите внимание на раскаковку кортежа Ключ-Значение \n",
        "# в предыдущем цикле"
      ]
    },
    {
      "cell_type": "code",
      "execution_count": 60,
      "metadata": {
        "colab": {
          "base_uri": "https://localhost:8080/"
        },
        "id": "YfV1kfpLLbon",
        "outputId": "8923ed21-685d-44cf-eabd-f4351110d102"
      },
      "outputs": [
        {
          "name": "stdout",
          "output_type": "stream",
          "text": [
            "Страна: Россия, столица: Москва\n",
            "Страна: Китай, столица: Пекин\n",
            "Страна: Индия, столица: Нью-Дели\n"
          ]
        }
      ],
      "source": [
        "for item in capitals:\n",
        "  print(f\"Страна: {item}, столица: {capitals[item]}\")"
      ]
    },
    {
      "attachments": {},
      "cell_type": "markdown",
      "metadata": {
        "id": "kiqVQMa0G3X1"
      },
      "source": [
        "Проверка наличия элементов в словаре"
      ]
    },
    {
      "cell_type": "code",
      "execution_count": 61,
      "metadata": {
        "colab": {
          "base_uri": "https://localhost:8080/"
        },
        "id": "EgolhiVMG6xc",
        "outputId": "bada590b-1fa3-4e8e-91c2-2b138cade759"
      },
      "outputs": [
        {
          "data": {
            "text/plain": [
              "True"
            ]
          },
          "execution_count": 61,
          "metadata": {},
          "output_type": "execute_result"
        }
      ],
      "source": [
        "'Россия' in capitals"
      ]
    },
    {
      "cell_type": "code",
      "execution_count": 62,
      "metadata": {
        "colab": {
          "base_uri": "https://localhost:8080/"
        },
        "id": "PmzdI2RsG_Ay",
        "outputId": "0a8bfe9c-f5de-4f0c-fb2c-b70cd21f815e"
      },
      "outputs": [
        {
          "data": {
            "text/plain": [
              "False"
            ]
          },
          "execution_count": 62,
          "metadata": {},
          "output_type": "execute_result"
        }
      ],
      "source": [
        "'Москва' in capitals"
      ]
    },
    {
      "cell_type": "code",
      "execution_count": 63,
      "metadata": {
        "colab": {
          "base_uri": "https://localhost:8080/"
        },
        "id": "UTytbW0zHUMK",
        "outputId": "ff0ec485-d295-4c87-f036-e2e34d44a383"
      },
      "outputs": [
        {
          "data": {
            "text/plain": [
              "True"
            ]
          },
          "execution_count": 63,
          "metadata": {},
          "output_type": "execute_result"
        }
      ],
      "source": [
        "'Москва' in capitals.values()"
      ]
    },
    {
      "cell_type": "code",
      "execution_count": 64,
      "metadata": {
        "colab": {
          "base_uri": "https://localhost:8080/"
        },
        "id": "DjzqUAnxHWqB",
        "outputId": "38d1b053-ac12-4f8d-8889-3768cdd65ee3"
      },
      "outputs": [
        {
          "data": {
            "text/plain": [
              "dict_values(['Москва', 'Пекин', 'Нью-Дели'])"
            ]
          },
          "execution_count": 64,
          "metadata": {},
          "output_type": "execute_result"
        }
      ],
      "source": [
        "capitals.values()"
      ]
    },
    {
      "attachments": {},
      "cell_type": "markdown",
      "metadata": {
        "id": "3JJyh4dkL4S3"
      },
      "source": [
        "## Множества"
      ]
    },
    {
      "cell_type": "code",
      "execution_count": 65,
      "metadata": {
        "id": "EGjKaIaSL6HQ"
      },
      "outputs": [],
      "source": [
        "s = {'a', 'b', 'c', 'd', 'b'}"
      ]
    },
    {
      "cell_type": "code",
      "execution_count": 66,
      "metadata": {
        "colab": {
          "base_uri": "https://localhost:8080/"
        },
        "id": "ntguNn8TMDX-",
        "outputId": "f475e7ff-9d0e-4747-f8f6-295b44ae159b"
      },
      "outputs": [
        {
          "data": {
            "text/plain": [
              "set"
            ]
          },
          "execution_count": 66,
          "metadata": {},
          "output_type": "execute_result"
        }
      ],
      "source": [
        "type(s)"
      ]
    },
    {
      "attachments": {},
      "cell_type": "markdown",
      "metadata": {
        "id": "35eZkb_6MIJw"
      },
      "source": [
        "Пустые фигурные скобки используются для создани словаря, а не множества!"
      ]
    },
    {
      "cell_type": "code",
      "execution_count": 67,
      "metadata": {
        "colab": {
          "base_uri": "https://localhost:8080/"
        },
        "id": "bcxcZSNEMFGX",
        "outputId": "2978a026-7a98-41b6-edd5-d5ba2be768e4"
      },
      "outputs": [
        {
          "data": {
            "text/plain": [
              "dict"
            ]
          },
          "execution_count": 67,
          "metadata": {},
          "output_type": "execute_result"
        }
      ],
      "source": [
        "type({})"
      ]
    },
    {
      "cell_type": "code",
      "execution_count": 68,
      "metadata": {
        "colab": {
          "base_uri": "https://localhost:8080/"
        },
        "id": "sgKiFwh1MPI2",
        "outputId": "25391445-4b85-4ddc-8bcf-14d8f9e61f6a"
      },
      "outputs": [
        {
          "data": {
            "text/plain": [
              "{'a', 'b', 'c', 'd'}"
            ]
          },
          "execution_count": 68,
          "metadata": {},
          "output_type": "execute_result"
        }
      ],
      "source": [
        "s"
      ]
    },
    {
      "attachments": {},
      "cell_type": "markdown",
      "metadata": {
        "id": "qprSG1SSMfMu"
      },
      "source": [
        "Получение элементов множества"
      ]
    },
    {
      "cell_type": "code",
      "execution_count": 69,
      "metadata": {
        "colab": {
          "base_uri": "https://localhost:8080/",
          "height": 166
        },
        "id": "Ao3fiKtqMhDG",
        "outputId": "3abc367c-bcd4-4385-a153-e073cde71877"
      },
      "outputs": [
        {
          "ename": "TypeError",
          "evalue": "'set' object is not subscriptable",
          "output_type": "error",
          "traceback": [
            "\u001b[1;31m---------------------------------------------------------------------------\u001b[0m",
            "\u001b[1;31mTypeError\u001b[0m                                 Traceback (most recent call last)",
            "Cell \u001b[1;32mIn[69], line 1\u001b[0m\n\u001b[1;32m----> 1\u001b[0m s[\u001b[39m0\u001b[39;49m]\n",
            "\u001b[1;31mTypeError\u001b[0m: 'set' object is not subscriptable"
          ]
        }
      ],
      "source": [
        "s[0]"
      ]
    },
    {
      "cell_type": "code",
      "execution_count": 71,
      "metadata": {
        "colab": {
          "base_uri": "https://localhost:8080/"
        },
        "id": "G0v3y5-WM_A2",
        "outputId": "80af7fc0-2bbd-49e7-8489-a59102829240"
      },
      "outputs": [
        {
          "data": {
            "text/plain": [
              "{'b', 'd'}"
            ]
          },
          "execution_count": 71,
          "metadata": {},
          "output_type": "execute_result"
        }
      ],
      "source": [
        "removed = s.pop()\n",
        "s"
      ]
    },
    {
      "cell_type": "code",
      "execution_count": 72,
      "metadata": {
        "colab": {
          "base_uri": "https://localhost:8080/",
          "height": 35
        },
        "id": "sCK5pbgLNDua",
        "outputId": "67b6240c-c427-4e59-f4ef-424428be3f83"
      },
      "outputs": [
        {
          "data": {
            "text/plain": [
              "'a'"
            ]
          },
          "execution_count": 72,
          "metadata": {},
          "output_type": "execute_result"
        }
      ],
      "source": [
        "removed"
      ]
    },
    {
      "attachments": {},
      "cell_type": "markdown",
      "metadata": {
        "id": "9Xb-YhMEMUTm"
      },
      "source": [
        "Перебор элементов множества"
      ]
    },
    {
      "cell_type": "code",
      "execution_count": 73,
      "metadata": {
        "colab": {
          "base_uri": "https://localhost:8080/"
        },
        "id": "e7PagvI6MWlf",
        "outputId": "e5e202cd-7f99-4c07-9dfa-b583dc8a733d"
      },
      "outputs": [
        {
          "name": "stdout",
          "output_type": "stream",
          "text": [
            "d\n",
            "b\n"
          ]
        }
      ],
      "source": [
        "for item in s:\n",
        "  print(item)"
      ]
    },
    {
      "attachments": {},
      "cell_type": "markdown",
      "metadata": {
        "id": "jyCMCdPKMcPe"
      },
      "source": [
        "Изменение множества"
      ]
    },
    {
      "cell_type": "code",
      "execution_count": 74,
      "metadata": {
        "colab": {
          "base_uri": "https://localhost:8080/"
        },
        "id": "EWllNDHlMRBO",
        "outputId": "c025403b-9f1b-4ef2-d72d-357a6824fe3a"
      },
      "outputs": [
        {
          "data": {
            "text/plain": [
              "{'b', 'd', 'e'}"
            ]
          },
          "execution_count": 74,
          "metadata": {},
          "output_type": "execute_result"
        }
      ],
      "source": [
        "s.add('e')\n",
        "s"
      ]
    },
    {
      "cell_type": "code",
      "execution_count": 75,
      "metadata": {
        "colab": {
          "base_uri": "https://localhost:8080/"
        },
        "id": "EyPe6mifNUc0",
        "outputId": "f5aca59c-7373-4df6-dcd2-833d4f09af01"
      },
      "outputs": [
        {
          "data": {
            "text/plain": [
              "{'b', 'd', 'e'}"
            ]
          },
          "execution_count": 75,
          "metadata": {},
          "output_type": "execute_result"
        }
      ],
      "source": [
        "s.add('e')\n",
        "s"
      ]
    },
    {
      "cell_type": "code",
      "execution_count": 76,
      "metadata": {
        "colab": {
          "base_uri": "https://localhost:8080/"
        },
        "id": "9mZz1gafNXYu",
        "outputId": "16d18d10-63ff-4fd8-8acb-349136c1ccb2"
      },
      "outputs": [
        {
          "data": {
            "text/plain": [
              "{'d', 'e'}"
            ]
          },
          "execution_count": 76,
          "metadata": {},
          "output_type": "execute_result"
        }
      ],
      "source": [
        "s.remove('b')\n",
        "s"
      ]
    },
    {
      "attachments": {},
      "cell_type": "markdown",
      "metadata": {
        "id": "ha04ZkgvNhHd"
      },
      "source": [
        "Проверка наличия элемента в множестве"
      ]
    },
    {
      "cell_type": "code",
      "execution_count": 79,
      "metadata": {
        "colab": {
          "base_uri": "https://localhost:8080/"
        },
        "id": "mb70omzzNgot",
        "outputId": "35993dc4-b257-42cb-f443-af556306e1ac"
      },
      "outputs": [
        {
          "data": {
            "text/plain": [
              "True"
            ]
          },
          "execution_count": 79,
          "metadata": {},
          "output_type": "execute_result"
        }
      ],
      "source": [
        "'d' in s"
      ]
    },
    {
      "cell_type": "code",
      "execution_count": 80,
      "metadata": {
        "colab": {
          "base_uri": "https://localhost:8080/"
        },
        "id": "SY3y7E1qNo47",
        "outputId": "8092be1e-f957-4ccf-b014-286749f9adc5"
      },
      "outputs": [
        {
          "data": {
            "text/plain": [
              "False"
            ]
          },
          "execution_count": 80,
          "metadata": {},
          "output_type": "execute_result"
        }
      ],
      "source": [
        "'f' in s"
      ]
    },
    {
      "attachments": {},
      "cell_type": "markdown",
      "metadata": {
        "id": "Ca9nuyqVNrzD"
      },
      "source": [
        "## Преобразование структур данных"
      ]
    },
    {
      "cell_type": "code",
      "execution_count": 81,
      "metadata": {
        "id": "Ng5idfZZNuQc"
      },
      "outputs": [],
      "source": [
        "l = ['a', 'b', 'c', 'c', 'd']"
      ]
    },
    {
      "cell_type": "code",
      "execution_count": 82,
      "metadata": {
        "colab": {
          "base_uri": "https://localhost:8080/"
        },
        "id": "KmoOcirqN1VE",
        "outputId": "0725cc77-23fb-4eb4-96d2-9986ccc4e3fb"
      },
      "outputs": [
        {
          "data": {
            "text/plain": [
              "('a', 'b', 'c', 'c', 'd')"
            ]
          },
          "execution_count": 82,
          "metadata": {},
          "output_type": "execute_result"
        }
      ],
      "source": [
        "t = tuple(l)\n",
        "t"
      ]
    },
    {
      "cell_type": "code",
      "execution_count": 83,
      "metadata": {
        "colab": {
          "base_uri": "https://localhost:8080/"
        },
        "id": "x1hA5PxxN4UO",
        "outputId": "49395fa4-cc36-43d5-adaf-0d56a15f9acc"
      },
      "outputs": [
        {
          "data": {
            "text/plain": [
              "{'a', 'b', 'c', 'd'}"
            ]
          },
          "execution_count": 83,
          "metadata": {},
          "output_type": "execute_result"
        }
      ],
      "source": [
        "s = set(l)\n",
        "s"
      ]
    },
    {
      "cell_type": "code",
      "execution_count": 84,
      "metadata": {
        "colab": {
          "base_uri": "https://localhost:8080/"
        },
        "id": "09NqYlOnOECM",
        "outputId": "ac0b6f97-3870-4082-afa7-219318d4e5ab"
      },
      "outputs": [
        {
          "data": {
            "text/plain": [
              "['c', 'a', 'd', 'b']"
            ]
          },
          "execution_count": 84,
          "metadata": {},
          "output_type": "execute_result"
        }
      ],
      "source": [
        "new_l = list(s)\n",
        "new_l"
      ]
    },
    {
      "cell_type": "code",
      "execution_count": 85,
      "metadata": {
        "colab": {
          "base_uri": "https://localhost:8080/"
        },
        "id": "6G9F0_nlOI6F",
        "outputId": "a89c2334-ef2b-4292-b563-ea7e134395f4"
      },
      "outputs": [
        {
          "data": {
            "text/plain": [
              "{'Россия': 'Москва', 'Китай': 'Пекин'}"
            ]
          },
          "execution_count": 85,
          "metadata": {},
          "output_type": "execute_result"
        }
      ],
      "source": [
        "d = {'Россия':'Москва', 'Китай': 'Пекин'}\n",
        "d"
      ]
    },
    {
      "cell_type": "code",
      "execution_count": 86,
      "metadata": {
        "colab": {
          "base_uri": "https://localhost:8080/"
        },
        "id": "1WoYgq5EOUls",
        "outputId": "ee02a971-6f07-48e7-fd08-d121cd25616b"
      },
      "outputs": [
        {
          "data": {
            "text/plain": [
              "['Россия', 'Китай']"
            ]
          },
          "execution_count": 86,
          "metadata": {},
          "output_type": "execute_result"
        }
      ],
      "source": [
        "l2 = list(d)\n",
        "l2"
      ]
    },
    {
      "cell_type": "code",
      "execution_count": 87,
      "metadata": {
        "colab": {
          "base_uri": "https://localhost:8080/"
        },
        "id": "tL0bna8vOls1",
        "outputId": "fd0cd916-f288-423f-d8a0-96e76089e1bd"
      },
      "outputs": [
        {
          "data": {
            "text/plain": [
              "['Москва', 'Пекин']"
            ]
          },
          "execution_count": 87,
          "metadata": {},
          "output_type": "execute_result"
        }
      ],
      "source": [
        "l3 = list(d.values())\n",
        "l3"
      ]
    },
    {
      "cell_type": "code",
      "execution_count": 88,
      "metadata": {
        "colab": {
          "base_uri": "https://localhost:8080/"
        },
        "id": "KZUnnttQObo9",
        "outputId": "23192dd9-df15-496d-b812-2821144658dd"
      },
      "outputs": [
        {
          "data": {
            "text/plain": [
              "[('Россия', 'Москва'), ('Китай', 'Пекин')]"
            ]
          },
          "execution_count": 88,
          "metadata": {},
          "output_type": "execute_result"
        }
      ],
      "source": [
        "l4 = list(d.items())\n",
        "l4"
      ]
    },
    {
      "attachments": {},
      "cell_type": "markdown",
      "metadata": {
        "id": "in74w7HELmnP"
      },
      "source": [
        "## Списочные выражения (list comprehension)"
      ]
    },
    {
      "attachments": {},
      "cell_type": "markdown",
      "metadata": {
        "id": "KayCmV6fOwRc"
      },
      "source": [
        "Создание списка квадратов целых чисел"
      ]
    },
    {
      "cell_type": "code",
      "execution_count": 89,
      "metadata": {
        "id": "hKF2MdxYfxZD"
      },
      "outputs": [],
      "source": [
        "# Создание пустого списка\n",
        "l = []"
      ]
    },
    {
      "cell_type": "code",
      "execution_count": 90,
      "metadata": {
        "id": "ccv-Txq3fy75"
      },
      "outputs": [],
      "source": [
        "# Добавление элементов в список в цикле\n",
        "for i in range(10):\n",
        "    l.append(i**2)"
      ]
    },
    {
      "cell_type": "code",
      "execution_count": 91,
      "metadata": {
        "colab": {
          "base_uri": "https://localhost:8080/"
        },
        "id": "Tj2FHO2rgCf7",
        "outputId": "5de3d440-b85c-4fd7-9e19-6699d12a3761"
      },
      "outputs": [
        {
          "data": {
            "text/plain": [
              "[0, 1, 4, 9, 16, 25, 36, 49, 64, 81]"
            ]
          },
          "execution_count": 91,
          "metadata": {},
          "output_type": "execute_result"
        }
      ],
      "source": [
        "l"
      ]
    },
    {
      "attachments": {},
      "cell_type": "markdown",
      "metadata": {
        "id": "BYJ3i4VaO2eM"
      },
      "source": [
        "Списочное выражение"
      ]
    },
    {
      "cell_type": "code",
      "execution_count": 92,
      "metadata": {
        "id": "LrsUVhZlYFxr"
      },
      "outputs": [],
      "source": [
        "newlist = [x**2 for x in range(10)]"
      ]
    },
    {
      "cell_type": "code",
      "execution_count": 93,
      "metadata": {
        "colab": {
          "base_uri": "https://localhost:8080/"
        },
        "id": "AYwMTMnGYI6Z",
        "outputId": "ab87210c-b203-4225-ba77-87d7642e46af"
      },
      "outputs": [
        {
          "data": {
            "text/plain": [
              "[0, 1, 4, 9, 16, 25, 36, 49, 64, 81]"
            ]
          },
          "execution_count": 93,
          "metadata": {},
          "output_type": "execute_result"
        }
      ],
      "source": [
        "newlist"
      ]
    },
    {
      "attachments": {},
      "cell_type": "markdown",
      "metadata": {
        "id": "MqUM2SfRPJXk"
      },
      "source": [
        "Условия в списочном выражении"
      ]
    },
    {
      "cell_type": "code",
      "execution_count": 94,
      "metadata": {
        "id": "rgRcmzeKPNmL"
      },
      "outputs": [],
      "source": [
        "newlist = [x**2 for x in range(10) if x % 2 == 0]"
      ]
    },
    {
      "cell_type": "code",
      "execution_count": 95,
      "metadata": {
        "colab": {
          "base_uri": "https://localhost:8080/"
        },
        "id": "7lgp2ghiPTIV",
        "outputId": "4d18cb83-e8ec-48a0-cab6-579e878d425c"
      },
      "outputs": [
        {
          "data": {
            "text/plain": [
              "[0, 4, 16, 36, 64]"
            ]
          },
          "execution_count": 95,
          "metadata": {},
          "output_type": "execute_result"
        }
      ],
      "source": [
        "newlist"
      ]
    },
    {
      "cell_type": "code",
      "execution_count": 96,
      "metadata": {
        "id": "UJUEF9enPYQF"
      },
      "outputs": [],
      "source": [
        "newlist = [x**2 if x** 2 % 2 == 0 else 0 for x in range(10)]"
      ]
    },
    {
      "cell_type": "code",
      "execution_count": 97,
      "metadata": {
        "colab": {
          "base_uri": "https://localhost:8080/"
        },
        "id": "mQOjp9pJPio0",
        "outputId": "489598e8-7ee9-4a97-dbc5-53f9c6285078"
      },
      "outputs": [
        {
          "data": {
            "text/plain": [
              "[0, 0, 4, 0, 16, 0, 36, 0, 64, 0]"
            ]
          },
          "execution_count": 97,
          "metadata": {},
          "output_type": "execute_result"
        }
      ],
      "source": [
        "newlist"
      ]
    },
    {
      "attachments": {},
      "cell_type": "markdown",
      "metadata": {
        "id": "AjuBmtxyQCkt"
      },
      "source": [
        "## Dict comprehension"
      ]
    },
    {
      "cell_type": "code",
      "execution_count": 98,
      "metadata": {
        "id": "0qK584y6Qtj0"
      },
      "outputs": [],
      "source": [
        "capitals = {'Россия':'Москва', 'Китай': 'Пекин', 'Индия': 'Нью-Дели'}"
      ]
    },
    {
      "cell_type": "code",
      "execution_count": 99,
      "metadata": {
        "colab": {
          "base_uri": "https://localhost:8080/"
        },
        "id": "0XbViMuNQ4qC",
        "outputId": "7009c0f2-6008-4d6e-ef29-a4e6de94b5ff"
      },
      "outputs": [
        {
          "data": {
            "text/plain": [
              "{'Россия': 'Москва', 'Китай': 'Пекин', 'Индия': 'Нью-Дели'}"
            ]
          },
          "execution_count": 99,
          "metadata": {},
          "output_type": "execute_result"
        }
      ],
      "source": [
        "capitals"
      ]
    },
    {
      "cell_type": "code",
      "execution_count": 100,
      "metadata": {
        "id": "AfgUsSRcQ-Ti"
      },
      "outputs": [],
      "source": [
        "countries = {(value, key) for (key, value) in capitals.items()}"
      ]
    },
    {
      "cell_type": "code",
      "execution_count": 101,
      "metadata": {
        "colab": {
          "base_uri": "https://localhost:8080/"
        },
        "id": "ug-EVSDHRrA9",
        "outputId": "9a516057-32e6-4e70-81a6-0ea660e2b4c8"
      },
      "outputs": [
        {
          "data": {
            "text/plain": [
              "{('Москва', 'Россия'), ('Нью-Дели', 'Индия'), ('Пекин', 'Китай')}"
            ]
          },
          "execution_count": 101,
          "metadata": {},
          "output_type": "execute_result"
        }
      ],
      "source": [
        "countries"
      ]
    },
    {
      "attachments": {},
      "cell_type": "markdown",
      "metadata": {
        "id": "Z6piAbnMR0ni"
      },
      "source": [
        "## Tuple comprehension (???)"
      ]
    },
    {
      "cell_type": "code",
      "execution_count": 102,
      "metadata": {
        "id": "Isft8G7bQ6d6"
      },
      "outputs": [],
      "source": [
        "t = (x**2 for x in range(10))"
      ]
    },
    {
      "cell_type": "code",
      "execution_count": 103,
      "metadata": {
        "colab": {
          "base_uri": "https://localhost:8080/"
        },
        "id": "tRlWl2s5R_Ha",
        "outputId": "94ac9b9f-8f08-404d-8ae4-1a4916ae083a"
      },
      "outputs": [
        {
          "data": {
            "text/plain": [
              "<generator object <genexpr> at 0x000002170808F9F0>"
            ]
          },
          "execution_count": 103,
          "metadata": {},
          "output_type": "execute_result"
        }
      ],
      "source": [
        "t"
      ]
    },
    {
      "attachments": {},
      "cell_type": "markdown",
      "metadata": {
        "id": "a6abrnleSAUR"
      },
      "source": [
        "**В Python нет Tuple comprehension, скобки зарезервированы для создания генераторов!**"
      ]
    },
    {
      "cell_type": "code",
      "execution_count": 104,
      "metadata": {
        "id": "9AiQsAvBSNDL"
      },
      "outputs": [],
      "source": [
        "t = tuple(x**2 for x in range(10))"
      ]
    },
    {
      "cell_type": "code",
      "execution_count": 105,
      "metadata": {
        "colab": {
          "base_uri": "https://localhost:8080/"
        },
        "id": "xfQVgfCtSbea",
        "outputId": "a3919dce-937f-4d98-dbfd-ec474fe58088"
      },
      "outputs": [
        {
          "data": {
            "text/plain": [
              "(0, 1, 4, 9, 16, 25, 36, 49, 64, 81)"
            ]
          },
          "execution_count": 105,
          "metadata": {},
          "output_type": "execute_result"
        }
      ],
      "source": [
        "t"
      ]
    },
    {
      "cell_type": "code",
      "execution_count": 106,
      "metadata": {
        "colab": {
          "base_uri": "https://localhost:8080/"
        },
        "id": "q8k5laxDSc3Y",
        "outputId": "4391aefb-665d-481e-b3b7-0fcfe01ca8d2"
      },
      "outputs": [
        {
          "data": {
            "text/plain": [
              "tuple"
            ]
          },
          "execution_count": 106,
          "metadata": {},
          "output_type": "execute_result"
        }
      ],
      "source": [
        "type(t)"
      ]
    },
    {
      "attachments": {},
      "cell_type": "markdown",
      "metadata": {
        "id": "ReDDo-s5S51g"
      },
      "source": [
        "## Структуры данных и память"
      ]
    },
    {
      "cell_type": "code",
      "execution_count": 107,
      "metadata": {
        "id": "-YGhpmodS74Q"
      },
      "outputs": [],
      "source": [
        "l = ['a', 'b', 'c', 'd']"
      ]
    },
    {
      "cell_type": "code",
      "execution_count": 108,
      "metadata": {
        "colab": {
          "base_uri": "https://localhost:8080/"
        },
        "id": "AFqsUmA_TA0X",
        "outputId": "0765a944-7c2b-4807-d7ac-7e204e685267"
      },
      "outputs": [
        {
          "data": {
            "text/plain": [
              "['a', 'b', 'c', 'd']"
            ]
          },
          "execution_count": 108,
          "metadata": {},
          "output_type": "execute_result"
        }
      ],
      "source": [
        "l2 = l\n",
        "l2"
      ]
    },
    {
      "cell_type": "code",
      "execution_count": 109,
      "metadata": {
        "colab": {
          "base_uri": "https://localhost:8080/"
        },
        "id": "tmr5yBzoTCuZ",
        "outputId": "0f3e614e-9e81-40c0-8936-09c38bbec91f"
      },
      "outputs": [
        {
          "data": {
            "text/plain": [
              "['z', 'b', 'c', 'd']"
            ]
          },
          "execution_count": 109,
          "metadata": {},
          "output_type": "execute_result"
        }
      ],
      "source": [
        "l[0] = 'z'\n",
        "l"
      ]
    },
    {
      "cell_type": "code",
      "execution_count": 110,
      "metadata": {
        "colab": {
          "base_uri": "https://localhost:8080/"
        },
        "id": "LCbEFqQJTJzK",
        "outputId": "5ad0f0c3-0211-4d13-eb9b-90508f4c569e"
      },
      "outputs": [
        {
          "data": {
            "text/plain": [
              "['z', 'b', 'c', 'd']"
            ]
          },
          "execution_count": 110,
          "metadata": {},
          "output_type": "execute_result"
        }
      ],
      "source": [
        "l2"
      ]
    },
    {
      "attachments": {},
      "cell_type": "markdown",
      "metadata": {
        "id": "b4KO9l8RTii5"
      },
      "source": [
        "Адрес (идентификатор) объекта"
      ]
    },
    {
      "cell_type": "code",
      "execution_count": 111,
      "metadata": {
        "colab": {
          "base_uri": "https://localhost:8080/"
        },
        "id": "NaD5btG5TRdA",
        "outputId": "70e249c1-b51b-40de-ae12-469fd362a674"
      },
      "outputs": [
        {
          "data": {
            "text/plain": [
              "2297943364032"
            ]
          },
          "execution_count": 111,
          "metadata": {},
          "output_type": "execute_result"
        }
      ],
      "source": [
        "id(l)"
      ]
    },
    {
      "cell_type": "code",
      "execution_count": 112,
      "metadata": {
        "colab": {
          "base_uri": "https://localhost:8080/"
        },
        "id": "KK5KVjIMTTMQ",
        "outputId": "24dfdf8f-a16a-4a74-8bd4-295cce859c2e"
      },
      "outputs": [
        {
          "data": {
            "text/plain": [
              "2297943364032"
            ]
          },
          "execution_count": 112,
          "metadata": {},
          "output_type": "execute_result"
        }
      ],
      "source": [
        "id(l2)"
      ]
    },
    {
      "attachments": {},
      "cell_type": "markdown",
      "metadata": {
        "id": "elcUyhRbTo_i"
      },
      "source": [
        "Проверка, что две переменные ссылаются на один объект"
      ]
    },
    {
      "cell_type": "code",
      "execution_count": 113,
      "metadata": {
        "colab": {
          "base_uri": "https://localhost:8080/"
        },
        "id": "xOTyKByJTmKZ",
        "outputId": "073a891a-dd20-4f01-ab06-4b8dc8933034"
      },
      "outputs": [
        {
          "data": {
            "text/plain": [
              "True"
            ]
          },
          "execution_count": 113,
          "metadata": {},
          "output_type": "execute_result"
        }
      ],
      "source": [
        "l2 is l"
      ]
    },
    {
      "attachments": {},
      "cell_type": "markdown",
      "metadata": {
        "id": "MuR6gL3dTzmI"
      },
      "source": [
        "Создание копии списка"
      ]
    },
    {
      "cell_type": "code",
      "execution_count": 114,
      "metadata": {
        "colab": {
          "base_uri": "https://localhost:8080/"
        },
        "id": "CQuTJX76T18o",
        "outputId": "1483f13d-b2ca-4026-86fb-4b0273430456"
      },
      "outputs": [
        {
          "data": {
            "text/plain": [
              "['z', 'b', 'c', 'd']"
            ]
          },
          "execution_count": 114,
          "metadata": {},
          "output_type": "execute_result"
        }
      ],
      "source": [
        "l3 = l.copy()\n",
        "l3"
      ]
    },
    {
      "cell_type": "code",
      "execution_count": 115,
      "metadata": {
        "colab": {
          "base_uri": "https://localhost:8080/"
        },
        "id": "gVoJOWoMUAjf",
        "outputId": "aff3ecf7-bbe3-4b13-9566-ba410e89a61f"
      },
      "outputs": [
        {
          "data": {
            "text/plain": [
              "['a', 'b', 'c', 'd']"
            ]
          },
          "execution_count": 115,
          "metadata": {},
          "output_type": "execute_result"
        }
      ],
      "source": [
        "l[0] = 'a'\n",
        "l"
      ]
    },
    {
      "cell_type": "code",
      "execution_count": 116,
      "metadata": {
        "colab": {
          "base_uri": "https://localhost:8080/"
        },
        "id": "Mv6f4hNfUDx4",
        "outputId": "e8d5aadc-ab57-4afa-efd7-e644c601fd2b"
      },
      "outputs": [
        {
          "data": {
            "text/plain": [
              "['z', 'b', 'c', 'd']"
            ]
          },
          "execution_count": 116,
          "metadata": {},
          "output_type": "execute_result"
        }
      ],
      "source": [
        "l3"
      ]
    },
    {
      "cell_type": "code",
      "execution_count": 117,
      "metadata": {
        "colab": {
          "base_uri": "https://localhost:8080/"
        },
        "id": "Dm1Av6U-UF7B",
        "outputId": "225b601c-b138-4f27-9a24-381c6eadfff6"
      },
      "outputs": [
        {
          "data": {
            "text/plain": [
              "2297943364032"
            ]
          },
          "execution_count": 117,
          "metadata": {},
          "output_type": "execute_result"
        }
      ],
      "source": [
        "id(l)"
      ]
    },
    {
      "cell_type": "code",
      "execution_count": 118,
      "metadata": {
        "colab": {
          "base_uri": "https://localhost:8080/"
        },
        "id": "EhOjF-YBUH2Z",
        "outputId": "c528aba3-967d-444c-e897-be3bf1aa7c0f"
      },
      "outputs": [
        {
          "data": {
            "text/plain": [
              "2297936791552"
            ]
          },
          "execution_count": 118,
          "metadata": {},
          "output_type": "execute_result"
        }
      ],
      "source": [
        "id(l3)"
      ]
    },
    {
      "cell_type": "code",
      "execution_count": 119,
      "metadata": {
        "colab": {
          "base_uri": "https://localhost:8080/"
        },
        "id": "LcyxcUoxUMBb",
        "outputId": "02cbb992-33a2-4292-d872-5719ea0a73f0"
      },
      "outputs": [
        {
          "data": {
            "text/plain": [
              "False"
            ]
          },
          "execution_count": 119,
          "metadata": {},
          "output_type": "execute_result"
        }
      ],
      "source": [
        "l3 is l"
      ]
    },
    {
      "attachments": {},
      "cell_type": "markdown",
      "metadata": {
        "id": "xYLeAXtNUU_Q"
      },
      "source": [
        "Словари и память"
      ]
    },
    {
      "cell_type": "code",
      "execution_count": 120,
      "metadata": {
        "id": "6KMUxocmUWm3"
      },
      "outputs": [],
      "source": [
        "capitals = {'Россия':'Москва', 'Китай': 'Пекин', 'Индия': 'Нью-Дели'}"
      ]
    },
    {
      "cell_type": "code",
      "execution_count": 121,
      "metadata": {
        "colab": {
          "base_uri": "https://localhost:8080/"
        },
        "id": "Kv_F90uaUab3",
        "outputId": "d0ce4b3d-a67c-43d4-c6d6-6487f7373aaf"
      },
      "outputs": [
        {
          "data": {
            "text/plain": [
              "{'Россия': 'Москва', 'Китай': 'Пекин', 'Индия': 'Нью-Дели'}"
            ]
          },
          "execution_count": 121,
          "metadata": {},
          "output_type": "execute_result"
        }
      ],
      "source": [
        "new_capitals = capitals\n",
        "new_capitals"
      ]
    },
    {
      "cell_type": "code",
      "execution_count": 122,
      "metadata": {
        "colab": {
          "base_uri": "https://localhost:8080/"
        },
        "id": "by9aaexQUhFQ",
        "outputId": "e58d89c3-0fcd-4328-a389-429bcc9db51f"
      },
      "outputs": [
        {
          "data": {
            "text/plain": [
              "{'Россия': 'Москва', 'Китай': 'Пекин', 'Индия': 'Нью-Дели', 'Турция': 'Анкара'}"
            ]
          },
          "execution_count": 122,
          "metadata": {},
          "output_type": "execute_result"
        }
      ],
      "source": [
        "capitals['Турция'] = 'Анкара'\n",
        "capitals"
      ]
    },
    {
      "cell_type": "code",
      "execution_count": 123,
      "metadata": {
        "colab": {
          "base_uri": "https://localhost:8080/"
        },
        "id": "6K8lXwxOUpiP",
        "outputId": "e8857e66-a83a-423a-ffd9-578a09c4fe57"
      },
      "outputs": [
        {
          "data": {
            "text/plain": [
              "{'Россия': 'Москва', 'Китай': 'Пекин', 'Индия': 'Нью-Дели', 'Турция': 'Анкара'}"
            ]
          },
          "execution_count": 123,
          "metadata": {},
          "output_type": "execute_result"
        }
      ],
      "source": [
        "new_capitals"
      ]
    },
    {
      "cell_type": "code",
      "execution_count": 124,
      "metadata": {
        "colab": {
          "base_uri": "https://localhost:8080/"
        },
        "id": "Y5s2WgAoUr2e",
        "outputId": "57ee17f2-ba50-4ac4-d7fc-7430da107ee6"
      },
      "outputs": [
        {
          "data": {
            "text/plain": [
              "2297943367424"
            ]
          },
          "execution_count": 124,
          "metadata": {},
          "output_type": "execute_result"
        }
      ],
      "source": [
        "id(capitals)"
      ]
    },
    {
      "cell_type": "code",
      "execution_count": 125,
      "metadata": {
        "colab": {
          "base_uri": "https://localhost:8080/"
        },
        "id": "_6ILdSvtUy-n",
        "outputId": "656c8779-6638-43f5-b4de-453de5c282fa"
      },
      "outputs": [
        {
          "data": {
            "text/plain": [
              "2297943367424"
            ]
          },
          "execution_count": 125,
          "metadata": {},
          "output_type": "execute_result"
        }
      ],
      "source": [
        "id(new_capitals)"
      ]
    },
    {
      "cell_type": "code",
      "execution_count": 126,
      "metadata": {
        "colab": {
          "base_uri": "https://localhost:8080/"
        },
        "id": "NzaI4UU7Uz6K",
        "outputId": "7cd2d26f-dac4-46b3-dc5a-cb775daee79f"
      },
      "outputs": [
        {
          "data": {
            "text/plain": [
              "True"
            ]
          },
          "execution_count": 126,
          "metadata": {},
          "output_type": "execute_result"
        }
      ],
      "source": [
        "capitals is new_capitals"
      ]
    }
  ],
  "metadata": {
    "colab": {
      "provenance": []
    },
    "kernelspec": {
      "display_name": "Python 3",
      "name": "python3"
    },
    "language_info": {
      "codemirror_mode": {
        "name": "ipython",
        "version": 3
      },
      "file_extension": ".py",
      "mimetype": "text/x-python",
      "name": "python",
      "nbconvert_exporter": "python",
      "pygments_lexer": "ipython3",
      "version": "3.11.1"
    }
  },
  "nbformat": 4,
  "nbformat_minor": 0
}
